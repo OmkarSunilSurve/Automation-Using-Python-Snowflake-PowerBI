{
 "cells": [
  {
   "cell_type": "code",
   "execution_count": 1,
   "id": "3856317a",
   "metadata": {},
   "outputs": [
    {
     "name": "stderr",
     "output_type": "stream",
     "text": [
      "C:\\Users\\Omkar\\anaconda3\\lib\\site-packages\\numba\\core\\decorators.py:262: NumbaDeprecationWarning: \u001b[1mnumba.generated_jit is deprecated. Please see the documentation at: https://numba.readthedocs.io/en/stable/reference/deprecation.html#deprecation-of-generated-jit for more information and advice on a suitable replacement.\u001b[0m\n",
      "  warnings.warn(msg, NumbaDeprecationWarning)\n",
      "C:\\Users\\Omkar\\anaconda3\\lib\\site-packages\\visions\\backends\\shared\\nan_handling.py:51: NumbaDeprecationWarning: \u001b[1mThe 'nopython' keyword argument was not supplied to the 'numba.jit' decorator. The implicit default value for this argument is currently False, but it will be changed to True in Numba 0.59.0. See https://numba.readthedocs.io/en/stable/reference/deprecation.html#deprecation-of-object-mode-fall-back-behaviour-when-using-jit for details.\u001b[0m\n",
      "  def hasna(x: np.ndarray) -> bool:\n"
     ]
    }
   ],
   "source": [
    "import numpy as np\n",
    "import pandas as pd\n",
    "import ydata_profiling\n",
    "import matplotlib.pyplot as plt\n",
    "import getpass\n",
    "import seaborn as sns\n",
    "%matplotlib inline\n",
    "import snowflake.connector"
   ]
  },
  {
   "cell_type": "markdown",
   "id": "b722f26b",
   "metadata": {},
   "source": [
    "# Connecting to snowflake"
   ]
  },
  {
   "cell_type": "code",
   "execution_count": 2,
   "id": "815b2661",
   "metadata": {},
   "outputs": [],
   "source": [
    "conn = snowflake.connector.connect(\n",
    "        user = 'OMKAR27',\n",
    "        #password = getpass.getpass('YOUR PASSWORD : '),\n",
    "        password = 'Omkar27@Snowflake',\n",
    "        account = '***********',\n",
    "        database = 'RETAILS',\n",
    "        schema = 'PUBLIC',\n",
    "        warehouse = 'COMPUTE_WH',\n",
    ")"
   ]
  },
  {
   "cell_type": "code",
   "execution_count": 3,
   "id": "88813249",
   "metadata": {},
   "outputs": [],
   "source": [
    "cur = conn.cursor()"
   ]
  },
  {
   "cell_type": "code",
   "execution_count": 4,
   "id": "d40c771e",
   "metadata": {},
   "outputs": [],
   "source": [
    "select_demographic_raw = 'SELECT * FROM DEMOGRAPHIC_RAW'\n",
    "select_campaign_desc_raw = 'SELECT * FROM CAMPAIGN_DESC_RAW'\n",
    "select_campaign_raw = 'SELECT * FROM CAMPAIGN_RAW'\n",
    "select_product_raw = 'SELECT * FROM PRODUCT_RAW'\n",
    "select_coupon_raw = 'SELECT * FROM COUPON_RAW'\n",
    "select_coupon_redempt_raw = 'SELECT * FROM COUPON_REDEMPT_RAW'\n",
    "select_transaction_raw = 'SELECT * FROM TRANSACTION_RAW'"
   ]
  },
  {
   "cell_type": "code",
   "execution_count": 5,
   "id": "3a040bed",
   "metadata": {},
   "outputs": [],
   "source": [
    "cur.execute(select_demographic_raw)\n",
    "demographic_raw = cur.fetch_pandas_all()"
   ]
  },
  {
   "cell_type": "code",
   "execution_count": 6,
   "id": "3a38a4ab",
   "metadata": {},
   "outputs": [],
   "source": [
    "cur.execute(select_campaign_desc_raw)\n",
    "campaign_desc_raw = cur.fetch_pandas_all()"
   ]
  },
  {
   "cell_type": "code",
   "execution_count": 7,
   "id": "29edf303",
   "metadata": {},
   "outputs": [],
   "source": [
    "cur.execute(select_campaign_raw)\n",
    "campaign_raw = cur.fetch_pandas_all()"
   ]
  },
  {
   "cell_type": "code",
   "execution_count": 8,
   "id": "1a8f7757",
   "metadata": {},
   "outputs": [],
   "source": [
    "cur.execute(select_coupon_raw)\n",
    "coupon_raw = cur.fetch_pandas_all()"
   ]
  },
  {
   "cell_type": "code",
   "execution_count": 9,
   "id": "2ca62178",
   "metadata": {},
   "outputs": [],
   "source": [
    "cur.execute(select_coupon_redempt_raw)\n",
    "coupon_redempt_raw = cur.fetch_pandas_all()"
   ]
  },
  {
   "cell_type": "code",
   "execution_count": 10,
   "id": "d71391fc",
   "metadata": {},
   "outputs": [],
   "source": [
    "cur.execute(select_product_raw)\n",
    "product_raw = cur.fetch_pandas_all()"
   ]
  },
  {
   "cell_type": "code",
   "execution_count": 11,
   "id": "6c276cf1",
   "metadata": {},
   "outputs": [],
   "source": [
    "cur.execute(select_transaction_raw)\n",
    "transaction_raw = cur.fetch_pandas_all()"
   ]
  },
  {
   "cell_type": "code",
   "execution_count": 12,
   "id": "bb57a561",
   "metadata": {},
   "outputs": [],
   "source": [
    "cur.close()\n",
    "conn.close()"
   ]
  },
  {
   "cell_type": "code",
   "execution_count": 13,
   "id": "a1ab5f80",
   "metadata": {},
   "outputs": [
    {
     "data": {
      "text/html": [
       "<div>\n",
       "<style scoped>\n",
       "    .dataframe tbody tr th:only-of-type {\n",
       "        vertical-align: middle;\n",
       "    }\n",
       "\n",
       "    .dataframe tbody tr th {\n",
       "        vertical-align: top;\n",
       "    }\n",
       "\n",
       "    .dataframe thead th {\n",
       "        text-align: right;\n",
       "    }\n",
       "</style>\n",
       "<table border=\"1\" class=\"dataframe\">\n",
       "  <thead>\n",
       "    <tr style=\"text-align: right;\">\n",
       "      <th></th>\n",
       "      <th>AGE_DESC</th>\n",
       "      <th>MARITAL_STATUS_CODE</th>\n",
       "      <th>INCOME_DESC</th>\n",
       "      <th>HOMEOWNER_DESC</th>\n",
       "      <th>HH_COMP_DESC</th>\n",
       "      <th>HOUSEHOLD_SIZE_DESC</th>\n",
       "      <th>KID_CATEGORY_DESC</th>\n",
       "      <th>HOUSEHOLD_KEY</th>\n",
       "    </tr>\n",
       "  </thead>\n",
       "  <tbody>\n",
       "    <tr>\n",
       "      <th>0</th>\n",
       "      <td>65+</td>\n",
       "      <td>A</td>\n",
       "      <td>35-49K</td>\n",
       "      <td>Homeowner</td>\n",
       "      <td>2 Adults No Kids</td>\n",
       "      <td>2</td>\n",
       "      <td>None/Unknown</td>\n",
       "      <td>1</td>\n",
       "    </tr>\n",
       "    <tr>\n",
       "      <th>1</th>\n",
       "      <td>45-54</td>\n",
       "      <td>A</td>\n",
       "      <td>50-74K</td>\n",
       "      <td>Homeowner</td>\n",
       "      <td>2 Adults No Kids</td>\n",
       "      <td>2</td>\n",
       "      <td>None/Unknown</td>\n",
       "      <td>7</td>\n",
       "    </tr>\n",
       "    <tr>\n",
       "      <th>2</th>\n",
       "      <td>25-34</td>\n",
       "      <td>U</td>\n",
       "      <td>25-34K</td>\n",
       "      <td>Unknown</td>\n",
       "      <td>2 Adults Kids</td>\n",
       "      <td>3</td>\n",
       "      <td>1</td>\n",
       "      <td>8</td>\n",
       "    </tr>\n",
       "    <tr>\n",
       "      <th>3</th>\n",
       "      <td>25-34</td>\n",
       "      <td>U</td>\n",
       "      <td>75-99K</td>\n",
       "      <td>Homeowner</td>\n",
       "      <td>2 Adults Kids</td>\n",
       "      <td>4</td>\n",
       "      <td>2</td>\n",
       "      <td>13</td>\n",
       "    </tr>\n",
       "    <tr>\n",
       "      <th>4</th>\n",
       "      <td>45-54</td>\n",
       "      <td>B</td>\n",
       "      <td>50-74K</td>\n",
       "      <td>Homeowner</td>\n",
       "      <td>Single Female</td>\n",
       "      <td>1</td>\n",
       "      <td>None/Unknown</td>\n",
       "      <td>16</td>\n",
       "    </tr>\n",
       "  </tbody>\n",
       "</table>\n",
       "</div>"
      ],
      "text/plain": [
       "  AGE_DESC MARITAL_STATUS_CODE INCOME_DESC HOMEOWNER_DESC      HH_COMP_DESC  \\\n",
       "0      65+                   A      35-49K      Homeowner  2 Adults No Kids   \n",
       "1    45-54                   A      50-74K      Homeowner  2 Adults No Kids   \n",
       "2    25-34                   U      25-34K        Unknown     2 Adults Kids   \n",
       "3    25-34                   U      75-99K      Homeowner     2 Adults Kids   \n",
       "4    45-54                   B      50-74K      Homeowner     Single Female   \n",
       "\n",
       "  HOUSEHOLD_SIZE_DESC KID_CATEGORY_DESC  HOUSEHOLD_KEY  \n",
       "0                   2      None/Unknown              1  \n",
       "1                   2      None/Unknown              7  \n",
       "2                   3                 1              8  \n",
       "3                   4                 2             13  \n",
       "4                   1      None/Unknown             16  "
      ]
     },
     "execution_count": 13,
     "metadata": {},
     "output_type": "execute_result"
    }
   ],
   "source": [
    "demographic_raw.head()"
   ]
  },
  {
   "cell_type": "code",
   "execution_count": 14,
   "id": "4ddcff86",
   "metadata": {},
   "outputs": [
    {
     "data": {
      "text/plain": [
       "(2500, 8)"
      ]
     },
     "execution_count": 14,
     "metadata": {},
     "output_type": "execute_result"
    }
   ],
   "source": [
    "demographic_raw.shape"
   ]
  },
  {
   "cell_type": "code",
   "execution_count": 15,
   "id": "96bd853e",
   "metadata": {},
   "outputs": [
    {
     "data": {
      "text/plain": [
       "AGE_DESC               0\n",
       "MARITAL_STATUS_CODE    0\n",
       "INCOME_DESC            0\n",
       "HOMEOWNER_DESC         0\n",
       "HH_COMP_DESC           0\n",
       "HOUSEHOLD_SIZE_DESC    0\n",
       "KID_CATEGORY_DESC      0\n",
       "HOUSEHOLD_KEY          0\n",
       "dtype: int64"
      ]
     },
     "execution_count": 15,
     "metadata": {},
     "output_type": "execute_result"
    }
   ],
   "source": [
    "demographic_raw.isnull().sum()"
   ]
  },
  {
   "cell_type": "code",
   "execution_count": 16,
   "id": "345bba6a",
   "metadata": {},
   "outputs": [
    {
     "data": {
      "text/html": [
       "<div>\n",
       "<style scoped>\n",
       "    .dataframe tbody tr th:only-of-type {\n",
       "        vertical-align: middle;\n",
       "    }\n",
       "\n",
       "    .dataframe tbody tr th {\n",
       "        vertical-align: top;\n",
       "    }\n",
       "\n",
       "    .dataframe thead th {\n",
       "        text-align: right;\n",
       "    }\n",
       "</style>\n",
       "<table border=\"1\" class=\"dataframe\">\n",
       "  <thead>\n",
       "    <tr style=\"text-align: right;\">\n",
       "      <th></th>\n",
       "      <th>DESCRIPTION</th>\n",
       "      <th>CAMPAIGN</th>\n",
       "      <th>START_DAY</th>\n",
       "      <th>END_DAY</th>\n",
       "    </tr>\n",
       "  </thead>\n",
       "  <tbody>\n",
       "    <tr>\n",
       "      <th>0</th>\n",
       "      <td>TypeB</td>\n",
       "      <td>24</td>\n",
       "      <td>659</td>\n",
       "      <td>719</td>\n",
       "    </tr>\n",
       "    <tr>\n",
       "      <th>1</th>\n",
       "      <td>TypeC</td>\n",
       "      <td>15</td>\n",
       "      <td>547</td>\n",
       "      <td>708</td>\n",
       "    </tr>\n",
       "    <tr>\n",
       "      <th>2</th>\n",
       "      <td>TypeB</td>\n",
       "      <td>25</td>\n",
       "      <td>659</td>\n",
       "      <td>691</td>\n",
       "    </tr>\n",
       "    <tr>\n",
       "      <th>3</th>\n",
       "      <td>TypeC</td>\n",
       "      <td>20</td>\n",
       "      <td>615</td>\n",
       "      <td>685</td>\n",
       "    </tr>\n",
       "    <tr>\n",
       "      <th>4</th>\n",
       "      <td>TypeB</td>\n",
       "      <td>23</td>\n",
       "      <td>646</td>\n",
       "      <td>684</td>\n",
       "    </tr>\n",
       "  </tbody>\n",
       "</table>\n",
       "</div>"
      ],
      "text/plain": [
       "  DESCRIPTION  CAMPAIGN  START_DAY  END_DAY\n",
       "0       TypeB        24        659      719\n",
       "1       TypeC        15        547      708\n",
       "2       TypeB        25        659      691\n",
       "3       TypeC        20        615      685\n",
       "4       TypeB        23        646      684"
      ]
     },
     "execution_count": 16,
     "metadata": {},
     "output_type": "execute_result"
    }
   ],
   "source": [
    "campaign_desc_raw.head()"
   ]
  },
  {
   "cell_type": "code",
   "execution_count": 17,
   "id": "6377f351",
   "metadata": {},
   "outputs": [
    {
     "data": {
      "text/plain": [
       "(30, 4)"
      ]
     },
     "execution_count": 17,
     "metadata": {},
     "output_type": "execute_result"
    }
   ],
   "source": [
    "campaign_desc_raw.shape"
   ]
  },
  {
   "cell_type": "code",
   "execution_count": 18,
   "id": "10255e84",
   "metadata": {},
   "outputs": [
    {
     "data": {
      "text/plain": [
       "DESCRIPTION    0\n",
       "CAMPAIGN       0\n",
       "START_DAY      0\n",
       "END_DAY        0\n",
       "dtype: int64"
      ]
     },
     "execution_count": 18,
     "metadata": {},
     "output_type": "execute_result"
    }
   ],
   "source": [
    "campaign_desc_raw.isnull().sum()"
   ]
  },
  {
   "cell_type": "code",
   "execution_count": 19,
   "id": "de73eb58",
   "metadata": {},
   "outputs": [
    {
     "data": {
      "text/html": [
       "<div>\n",
       "<style scoped>\n",
       "    .dataframe tbody tr th:only-of-type {\n",
       "        vertical-align: middle;\n",
       "    }\n",
       "\n",
       "    .dataframe tbody tr th {\n",
       "        vertical-align: top;\n",
       "    }\n",
       "\n",
       "    .dataframe thead th {\n",
       "        text-align: right;\n",
       "    }\n",
       "</style>\n",
       "<table border=\"1\" class=\"dataframe\">\n",
       "  <thead>\n",
       "    <tr style=\"text-align: right;\">\n",
       "      <th></th>\n",
       "      <th>DESCRIPTION</th>\n",
       "      <th>HOUSEHOLD_KEY</th>\n",
       "      <th>CAMPAIGN</th>\n",
       "    </tr>\n",
       "  </thead>\n",
       "  <tbody>\n",
       "    <tr>\n",
       "      <th>0</th>\n",
       "      <td>TypeA</td>\n",
       "      <td>17</td>\n",
       "      <td>26</td>\n",
       "    </tr>\n",
       "    <tr>\n",
       "      <th>1</th>\n",
       "      <td>TypeA</td>\n",
       "      <td>27</td>\n",
       "      <td>26</td>\n",
       "    </tr>\n",
       "    <tr>\n",
       "      <th>2</th>\n",
       "      <td>TypeA</td>\n",
       "      <td>212</td>\n",
       "      <td>26</td>\n",
       "    </tr>\n",
       "    <tr>\n",
       "      <th>3</th>\n",
       "      <td>TypeA</td>\n",
       "      <td>208</td>\n",
       "      <td>26</td>\n",
       "    </tr>\n",
       "    <tr>\n",
       "      <th>4</th>\n",
       "      <td>TypeA</td>\n",
       "      <td>192</td>\n",
       "      <td>26</td>\n",
       "    </tr>\n",
       "  </tbody>\n",
       "</table>\n",
       "</div>"
      ],
      "text/plain": [
       "  DESCRIPTION  HOUSEHOLD_KEY  CAMPAIGN\n",
       "0       TypeA             17        26\n",
       "1       TypeA             27        26\n",
       "2       TypeA            212        26\n",
       "3       TypeA            208        26\n",
       "4       TypeA            192        26"
      ]
     },
     "execution_count": 19,
     "metadata": {},
     "output_type": "execute_result"
    }
   ],
   "source": [
    "campaign_raw.head()"
   ]
  },
  {
   "cell_type": "code",
   "execution_count": 20,
   "id": "be81b2cc",
   "metadata": {},
   "outputs": [
    {
     "data": {
      "text/plain": [
       "(7208, 3)"
      ]
     },
     "execution_count": 20,
     "metadata": {},
     "output_type": "execute_result"
    }
   ],
   "source": [
    "campaign_raw.shape"
   ]
  },
  {
   "cell_type": "code",
   "execution_count": 21,
   "id": "707bf552",
   "metadata": {},
   "outputs": [
    {
     "data": {
      "text/plain": [
       "DESCRIPTION      0\n",
       "HOUSEHOLD_KEY    0\n",
       "CAMPAIGN         0\n",
       "dtype: int64"
      ]
     },
     "execution_count": 21,
     "metadata": {},
     "output_type": "execute_result"
    }
   ],
   "source": [
    "campaign_raw.isnull().sum()"
   ]
  },
  {
   "cell_type": "code",
   "execution_count": 22,
   "id": "ac138289",
   "metadata": {},
   "outputs": [
    {
     "data": {
      "text/html": [
       "<div>\n",
       "<style scoped>\n",
       "    .dataframe tbody tr th:only-of-type {\n",
       "        vertical-align: middle;\n",
       "    }\n",
       "\n",
       "    .dataframe tbody tr th {\n",
       "        vertical-align: top;\n",
       "    }\n",
       "\n",
       "    .dataframe thead th {\n",
       "        text-align: right;\n",
       "    }\n",
       "</style>\n",
       "<table border=\"1\" class=\"dataframe\">\n",
       "  <thead>\n",
       "    <tr style=\"text-align: right;\">\n",
       "      <th></th>\n",
       "      <th>COUPON_UPC</th>\n",
       "      <th>PRODUCT_ID</th>\n",
       "      <th>CAMPAIGN</th>\n",
       "    </tr>\n",
       "  </thead>\n",
       "  <tbody>\n",
       "    <tr>\n",
       "      <th>0</th>\n",
       "      <td>10000089061</td>\n",
       "      <td>27160</td>\n",
       "      <td>4</td>\n",
       "    </tr>\n",
       "    <tr>\n",
       "      <th>1</th>\n",
       "      <td>10000089064</td>\n",
       "      <td>27754</td>\n",
       "      <td>9</td>\n",
       "    </tr>\n",
       "    <tr>\n",
       "      <th>2</th>\n",
       "      <td>10000089073</td>\n",
       "      <td>28897</td>\n",
       "      <td>12</td>\n",
       "    </tr>\n",
       "    <tr>\n",
       "      <th>3</th>\n",
       "      <td>51800009050</td>\n",
       "      <td>28919</td>\n",
       "      <td>28</td>\n",
       "    </tr>\n",
       "    <tr>\n",
       "      <th>4</th>\n",
       "      <td>52100000076</td>\n",
       "      <td>28929</td>\n",
       "      <td>25</td>\n",
       "    </tr>\n",
       "  </tbody>\n",
       "</table>\n",
       "</div>"
      ],
      "text/plain": [
       "    COUPON_UPC  PRODUCT_ID  CAMPAIGN\n",
       "0  10000089061       27160         4\n",
       "1  10000089064       27754         9\n",
       "2  10000089073       28897        12\n",
       "3  51800009050       28919        28\n",
       "4  52100000076       28929        25"
      ]
     },
     "execution_count": 22,
     "metadata": {},
     "output_type": "execute_result"
    }
   ],
   "source": [
    "coupon_raw.head()"
   ]
  },
  {
   "cell_type": "code",
   "execution_count": 23,
   "id": "87b159f5",
   "metadata": {},
   "outputs": [
    {
     "data": {
      "text/plain": [
       "(124548, 3)"
      ]
     },
     "execution_count": 23,
     "metadata": {},
     "output_type": "execute_result"
    }
   ],
   "source": [
    "coupon_raw.shape"
   ]
  },
  {
   "cell_type": "code",
   "execution_count": 24,
   "id": "9e5e8329",
   "metadata": {},
   "outputs": [
    {
     "data": {
      "text/plain": [
       "COUPON_UPC    0\n",
       "PRODUCT_ID    0\n",
       "CAMPAIGN      0\n",
       "dtype: int64"
      ]
     },
     "execution_count": 24,
     "metadata": {},
     "output_type": "execute_result"
    }
   ],
   "source": [
    "coupon_raw.isnull().sum()"
   ]
  },
  {
   "cell_type": "code",
   "execution_count": 25,
   "id": "ef95d4e5",
   "metadata": {},
   "outputs": [
    {
     "data": {
      "text/html": [
       "<div>\n",
       "<style scoped>\n",
       "    .dataframe tbody tr th:only-of-type {\n",
       "        vertical-align: middle;\n",
       "    }\n",
       "\n",
       "    .dataframe tbody tr th {\n",
       "        vertical-align: top;\n",
       "    }\n",
       "\n",
       "    .dataframe thead th {\n",
       "        text-align: right;\n",
       "    }\n",
       "</style>\n",
       "<table border=\"1\" class=\"dataframe\">\n",
       "  <thead>\n",
       "    <tr style=\"text-align: right;\">\n",
       "      <th></th>\n",
       "      <th>HOUSEHOLD_KEY</th>\n",
       "      <th>DAY</th>\n",
       "      <th>COUPON_UPC</th>\n",
       "      <th>CAMPAIGN</th>\n",
       "    </tr>\n",
       "  </thead>\n",
       "  <tbody>\n",
       "    <tr>\n",
       "      <th>0</th>\n",
       "      <td>1</td>\n",
       "      <td>421</td>\n",
       "      <td>10000085364</td>\n",
       "      <td>8</td>\n",
       "    </tr>\n",
       "    <tr>\n",
       "      <th>1</th>\n",
       "      <td>1</td>\n",
       "      <td>421</td>\n",
       "      <td>51700010076</td>\n",
       "      <td>8</td>\n",
       "    </tr>\n",
       "    <tr>\n",
       "      <th>2</th>\n",
       "      <td>1</td>\n",
       "      <td>427</td>\n",
       "      <td>54200000033</td>\n",
       "      <td>8</td>\n",
       "    </tr>\n",
       "    <tr>\n",
       "      <th>3</th>\n",
       "      <td>1</td>\n",
       "      <td>597</td>\n",
       "      <td>10000085476</td>\n",
       "      <td>18</td>\n",
       "    </tr>\n",
       "    <tr>\n",
       "      <th>4</th>\n",
       "      <td>1</td>\n",
       "      <td>597</td>\n",
       "      <td>54200029176</td>\n",
       "      <td>18</td>\n",
       "    </tr>\n",
       "  </tbody>\n",
       "</table>\n",
       "</div>"
      ],
      "text/plain": [
       "   HOUSEHOLD_KEY  DAY   COUPON_UPC  CAMPAIGN\n",
       "0              1  421  10000085364         8\n",
       "1              1  421  51700010076         8\n",
       "2              1  427  54200000033         8\n",
       "3              1  597  10000085476        18\n",
       "4              1  597  54200029176        18"
      ]
     },
     "execution_count": 25,
     "metadata": {},
     "output_type": "execute_result"
    }
   ],
   "source": [
    "coupon_redempt_raw.head()"
   ]
  },
  {
   "cell_type": "code",
   "execution_count": 26,
   "id": "b010d0a5",
   "metadata": {},
   "outputs": [
    {
     "data": {
      "text/plain": [
       "(2318, 4)"
      ]
     },
     "execution_count": 26,
     "metadata": {},
     "output_type": "execute_result"
    }
   ],
   "source": [
    "coupon_redempt_raw.shape"
   ]
  },
  {
   "cell_type": "code",
   "execution_count": 27,
   "id": "36ea3b38",
   "metadata": {},
   "outputs": [
    {
     "data": {
      "text/plain": [
       "HOUSEHOLD_KEY    0\n",
       "DAY              0\n",
       "COUPON_UPC       0\n",
       "CAMPAIGN         0\n",
       "dtype: int64"
      ]
     },
     "execution_count": 27,
     "metadata": {},
     "output_type": "execute_result"
    }
   ],
   "source": [
    "coupon_redempt_raw.isnull().sum()"
   ]
  },
  {
   "cell_type": "code",
   "execution_count": 28,
   "id": "a7add5f3",
   "metadata": {},
   "outputs": [
    {
     "data": {
      "text/html": [
       "<div>\n",
       "<style scoped>\n",
       "    .dataframe tbody tr th:only-of-type {\n",
       "        vertical-align: middle;\n",
       "    }\n",
       "\n",
       "    .dataframe tbody tr th {\n",
       "        vertical-align: top;\n",
       "    }\n",
       "\n",
       "    .dataframe thead th {\n",
       "        text-align: right;\n",
       "    }\n",
       "</style>\n",
       "<table border=\"1\" class=\"dataframe\">\n",
       "  <thead>\n",
       "    <tr style=\"text-align: right;\">\n",
       "      <th></th>\n",
       "      <th>PRODUCT_ID</th>\n",
       "      <th>MANUFACTURER</th>\n",
       "      <th>DEPARTMENT</th>\n",
       "      <th>BRAND</th>\n",
       "      <th>COMMODITY_DESC</th>\n",
       "      <th>SUB_COMMODITY_DESC</th>\n",
       "      <th>CURR_SIZE_OF_PRODUCT</th>\n",
       "    </tr>\n",
       "  </thead>\n",
       "  <tbody>\n",
       "    <tr>\n",
       "      <th>0</th>\n",
       "      <td>25671</td>\n",
       "      <td>2</td>\n",
       "      <td>GROCERY</td>\n",
       "      <td>National</td>\n",
       "      <td>FRZN ICE</td>\n",
       "      <td>ICE - CRUSHED/CUBED</td>\n",
       "      <td>22 LB</td>\n",
       "    </tr>\n",
       "    <tr>\n",
       "      <th>1</th>\n",
       "      <td>26081</td>\n",
       "      <td>2</td>\n",
       "      <td>MISC. TRANS.</td>\n",
       "      <td>National</td>\n",
       "      <td>NO COMMODITY DESCRIPTION</td>\n",
       "      <td>NO SUBCOMMODITY DESCRIPTION</td>\n",
       "      <td></td>\n",
       "    </tr>\n",
       "    <tr>\n",
       "      <th>2</th>\n",
       "      <td>26093</td>\n",
       "      <td>69</td>\n",
       "      <td>PASTRY</td>\n",
       "      <td>Private</td>\n",
       "      <td>BREAD</td>\n",
       "      <td>BREAD:ITALIAN/FRENCH</td>\n",
       "      <td></td>\n",
       "    </tr>\n",
       "    <tr>\n",
       "      <th>3</th>\n",
       "      <td>26190</td>\n",
       "      <td>69</td>\n",
       "      <td>GROCERY</td>\n",
       "      <td>Private</td>\n",
       "      <td>FRUIT - SHELF STABLE</td>\n",
       "      <td>APPLE SAUCE</td>\n",
       "      <td>50 OZ</td>\n",
       "    </tr>\n",
       "    <tr>\n",
       "      <th>4</th>\n",
       "      <td>26355</td>\n",
       "      <td>69</td>\n",
       "      <td>GROCERY</td>\n",
       "      <td>Private</td>\n",
       "      <td>COOKIES/CONES</td>\n",
       "      <td>SPECIALTY COOKIES</td>\n",
       "      <td>14 OZ</td>\n",
       "    </tr>\n",
       "  </tbody>\n",
       "</table>\n",
       "</div>"
      ],
      "text/plain": [
       "   PRODUCT_ID  MANUFACTURER    DEPARTMENT     BRAND            COMMODITY_DESC  \\\n",
       "0       25671             2       GROCERY  National                  FRZN ICE   \n",
       "1       26081             2  MISC. TRANS.  National  NO COMMODITY DESCRIPTION   \n",
       "2       26093            69        PASTRY   Private                     BREAD   \n",
       "3       26190            69       GROCERY   Private      FRUIT - SHELF STABLE   \n",
       "4       26355            69       GROCERY   Private             COOKIES/CONES   \n",
       "\n",
       "            SUB_COMMODITY_DESC CURR_SIZE_OF_PRODUCT  \n",
       "0          ICE - CRUSHED/CUBED                22 LB  \n",
       "1  NO SUBCOMMODITY DESCRIPTION                       \n",
       "2         BREAD:ITALIAN/FRENCH                       \n",
       "3                  APPLE SAUCE                50 OZ  \n",
       "4            SPECIALTY COOKIES                14 OZ  "
      ]
     },
     "execution_count": 28,
     "metadata": {},
     "output_type": "execute_result"
    }
   ],
   "source": [
    "product_raw.head()"
   ]
  },
  {
   "cell_type": "code",
   "execution_count": 29,
   "id": "4de282b4",
   "metadata": {},
   "outputs": [
    {
     "data": {
      "text/plain": [
       "(92353, 7)"
      ]
     },
     "execution_count": 29,
     "metadata": {},
     "output_type": "execute_result"
    }
   ],
   "source": [
    "product_raw.shape"
   ]
  },
  {
   "cell_type": "code",
   "execution_count": 30,
   "id": "518b08be",
   "metadata": {},
   "outputs": [
    {
     "data": {
      "text/plain": [
       "PRODUCT_ID              0\n",
       "MANUFACTURER            0\n",
       "DEPARTMENT              0\n",
       "BRAND                   0\n",
       "COMMODITY_DESC          0\n",
       "SUB_COMMODITY_DESC      0\n",
       "CURR_SIZE_OF_PRODUCT    0\n",
       "dtype: int64"
      ]
     },
     "execution_count": 30,
     "metadata": {},
     "output_type": "execute_result"
    }
   ],
   "source": [
    "product_raw.isnull().sum()"
   ]
  },
  {
   "cell_type": "code",
   "execution_count": 31,
   "id": "9cf20ad4",
   "metadata": {},
   "outputs": [
    {
     "data": {
      "text/html": [
       "<div>\n",
       "<style scoped>\n",
       "    .dataframe tbody tr th:only-of-type {\n",
       "        vertical-align: middle;\n",
       "    }\n",
       "\n",
       "    .dataframe tbody tr th {\n",
       "        vertical-align: top;\n",
       "    }\n",
       "\n",
       "    .dataframe thead th {\n",
       "        text-align: right;\n",
       "    }\n",
       "</style>\n",
       "<table border=\"1\" class=\"dataframe\">\n",
       "  <thead>\n",
       "    <tr style=\"text-align: right;\">\n",
       "      <th></th>\n",
       "      <th>HOUSEHOLD_KEY</th>\n",
       "      <th>BASKET_ID</th>\n",
       "      <th>DAY</th>\n",
       "      <th>PRODUCT_ID</th>\n",
       "      <th>QUANTITY</th>\n",
       "      <th>SALES_VALUE</th>\n",
       "      <th>STORE_ID</th>\n",
       "      <th>RETAIL_DISC</th>\n",
       "      <th>TRANS_TIME</th>\n",
       "      <th>WEEK_NO</th>\n",
       "      <th>COUPON_DISC</th>\n",
       "      <th>COUPON_MATCH_DISC</th>\n",
       "    </tr>\n",
       "  </thead>\n",
       "  <tbody>\n",
       "    <tr>\n",
       "      <th>0</th>\n",
       "      <td>2375</td>\n",
       "      <td>26984851472</td>\n",
       "      <td>1</td>\n",
       "      <td>1004906</td>\n",
       "      <td>1</td>\n",
       "      <td>1.39</td>\n",
       "      <td>364</td>\n",
       "      <td>-0.60</td>\n",
       "      <td>1631</td>\n",
       "      <td>1</td>\n",
       "      <td>0</td>\n",
       "      <td>0</td>\n",
       "    </tr>\n",
       "    <tr>\n",
       "      <th>1</th>\n",
       "      <td>2375</td>\n",
       "      <td>26984851472</td>\n",
       "      <td>1</td>\n",
       "      <td>1033142</td>\n",
       "      <td>1</td>\n",
       "      <td>0.82</td>\n",
       "      <td>364</td>\n",
       "      <td>0.00</td>\n",
       "      <td>1631</td>\n",
       "      <td>1</td>\n",
       "      <td>0</td>\n",
       "      <td>0</td>\n",
       "    </tr>\n",
       "    <tr>\n",
       "      <th>2</th>\n",
       "      <td>2375</td>\n",
       "      <td>26984851472</td>\n",
       "      <td>1</td>\n",
       "      <td>1036325</td>\n",
       "      <td>1</td>\n",
       "      <td>0.99</td>\n",
       "      <td>364</td>\n",
       "      <td>-0.30</td>\n",
       "      <td>1631</td>\n",
       "      <td>1</td>\n",
       "      <td>0</td>\n",
       "      <td>0</td>\n",
       "    </tr>\n",
       "    <tr>\n",
       "      <th>3</th>\n",
       "      <td>2375</td>\n",
       "      <td>26984851472</td>\n",
       "      <td>1</td>\n",
       "      <td>1082185</td>\n",
       "      <td>1</td>\n",
       "      <td>1.21</td>\n",
       "      <td>364</td>\n",
       "      <td>0.00</td>\n",
       "      <td>1631</td>\n",
       "      <td>1</td>\n",
       "      <td>0</td>\n",
       "      <td>0</td>\n",
       "    </tr>\n",
       "    <tr>\n",
       "      <th>4</th>\n",
       "      <td>2375</td>\n",
       "      <td>26984851472</td>\n",
       "      <td>1</td>\n",
       "      <td>8160430</td>\n",
       "      <td>1</td>\n",
       "      <td>1.50</td>\n",
       "      <td>364</td>\n",
       "      <td>-0.39</td>\n",
       "      <td>1631</td>\n",
       "      <td>1</td>\n",
       "      <td>0</td>\n",
       "      <td>0</td>\n",
       "    </tr>\n",
       "  </tbody>\n",
       "</table>\n",
       "</div>"
      ],
      "text/plain": [
       "   HOUSEHOLD_KEY    BASKET_ID  DAY  PRODUCT_ID  QUANTITY  SALES_VALUE  \\\n",
       "0           2375  26984851472    1     1004906         1         1.39   \n",
       "1           2375  26984851472    1     1033142         1         0.82   \n",
       "2           2375  26984851472    1     1036325         1         0.99   \n",
       "3           2375  26984851472    1     1082185         1         1.21   \n",
       "4           2375  26984851472    1     8160430         1         1.50   \n",
       "\n",
       "   STORE_ID  RETAIL_DISC  TRANS_TIME  WEEK_NO  COUPON_DISC  COUPON_MATCH_DISC  \n",
       "0       364        -0.60        1631        1            0                  0  \n",
       "1       364         0.00        1631        1            0                  0  \n",
       "2       364        -0.30        1631        1            0                  0  \n",
       "3       364         0.00        1631        1            0                  0  \n",
       "4       364        -0.39        1631        1            0                  0  "
      ]
     },
     "execution_count": 31,
     "metadata": {},
     "output_type": "execute_result"
    }
   ],
   "source": [
    "transaction_raw.head()"
   ]
  },
  {
   "cell_type": "code",
   "execution_count": 32,
   "id": "e5970c4c",
   "metadata": {},
   "outputs": [
    {
     "data": {
      "text/plain": [
       "(2595732, 12)"
      ]
     },
     "execution_count": 32,
     "metadata": {},
     "output_type": "execute_result"
    }
   ],
   "source": [
    "transaction_raw.shape"
   ]
  },
  {
   "cell_type": "code",
   "execution_count": 33,
   "id": "4ccc91bd",
   "metadata": {},
   "outputs": [
    {
     "data": {
      "text/plain": [
       "HOUSEHOLD_KEY        0\n",
       "BASKET_ID            0\n",
       "DAY                  0\n",
       "PRODUCT_ID           0\n",
       "QUANTITY             0\n",
       "SALES_VALUE          0\n",
       "STORE_ID             0\n",
       "RETAIL_DISC          0\n",
       "TRANS_TIME           0\n",
       "WEEK_NO              0\n",
       "COUPON_DISC          0\n",
       "COUPON_MATCH_DISC    0\n",
       "dtype: int64"
      ]
     },
     "execution_count": 33,
     "metadata": {},
     "output_type": "execute_result"
    }
   ],
   "source": [
    "transaction_raw.isnull().sum()"
   ]
  },
  {
   "cell_type": "markdown",
   "id": "6f3d5d33",
   "metadata": {},
   "source": [
    "# Data Modifications"
   ]
  },
  {
   "cell_type": "code",
   "execution_count": 34,
   "id": "e9df3910",
   "metadata": {},
   "outputs": [],
   "source": [
    "from datetime import datetime , timedelta"
   ]
  },
  {
   "cell_type": "code",
   "execution_count": 35,
   "id": "ecfbce0d",
   "metadata": {},
   "outputs": [],
   "source": [
    "start_date = pd.to_datetime('2020-01-01')"
   ]
  },
  {
   "cell_type": "code",
   "execution_count": 36,
   "id": "02b25c96",
   "metadata": {},
   "outputs": [
    {
     "data": {
      "text/html": [
       "<div>\n",
       "<style scoped>\n",
       "    .dataframe tbody tr th:only-of-type {\n",
       "        vertical-align: middle;\n",
       "    }\n",
       "\n",
       "    .dataframe tbody tr th {\n",
       "        vertical-align: top;\n",
       "    }\n",
       "\n",
       "    .dataframe thead th {\n",
       "        text-align: right;\n",
       "    }\n",
       "</style>\n",
       "<table border=\"1\" class=\"dataframe\">\n",
       "  <thead>\n",
       "    <tr style=\"text-align: right;\">\n",
       "      <th></th>\n",
       "      <th>HOUSEHOLD_KEY</th>\n",
       "      <th>BASKET_ID</th>\n",
       "      <th>DAY</th>\n",
       "      <th>PRODUCT_ID</th>\n",
       "      <th>QUANTITY</th>\n",
       "      <th>SALES_VALUE</th>\n",
       "      <th>STORE_ID</th>\n",
       "      <th>RETAIL_DISC</th>\n",
       "      <th>TRANS_TIME</th>\n",
       "      <th>WEEK_NO</th>\n",
       "      <th>COUPON_DISC</th>\n",
       "      <th>COUPON_MATCH_DISC</th>\n",
       "    </tr>\n",
       "  </thead>\n",
       "  <tbody>\n",
       "    <tr>\n",
       "      <th>0</th>\n",
       "      <td>2375</td>\n",
       "      <td>26984851472</td>\n",
       "      <td>1</td>\n",
       "      <td>1004906</td>\n",
       "      <td>1</td>\n",
       "      <td>1.39</td>\n",
       "      <td>364</td>\n",
       "      <td>-0.60</td>\n",
       "      <td>1631</td>\n",
       "      <td>1</td>\n",
       "      <td>0</td>\n",
       "      <td>0</td>\n",
       "    </tr>\n",
       "    <tr>\n",
       "      <th>1</th>\n",
       "      <td>2375</td>\n",
       "      <td>26984851472</td>\n",
       "      <td>1</td>\n",
       "      <td>1033142</td>\n",
       "      <td>1</td>\n",
       "      <td>0.82</td>\n",
       "      <td>364</td>\n",
       "      <td>0.00</td>\n",
       "      <td>1631</td>\n",
       "      <td>1</td>\n",
       "      <td>0</td>\n",
       "      <td>0</td>\n",
       "    </tr>\n",
       "    <tr>\n",
       "      <th>2</th>\n",
       "      <td>2375</td>\n",
       "      <td>26984851472</td>\n",
       "      <td>1</td>\n",
       "      <td>1036325</td>\n",
       "      <td>1</td>\n",
       "      <td>0.99</td>\n",
       "      <td>364</td>\n",
       "      <td>-0.30</td>\n",
       "      <td>1631</td>\n",
       "      <td>1</td>\n",
       "      <td>0</td>\n",
       "      <td>0</td>\n",
       "    </tr>\n",
       "    <tr>\n",
       "      <th>3</th>\n",
       "      <td>2375</td>\n",
       "      <td>26984851472</td>\n",
       "      <td>1</td>\n",
       "      <td>1082185</td>\n",
       "      <td>1</td>\n",
       "      <td>1.21</td>\n",
       "      <td>364</td>\n",
       "      <td>0.00</td>\n",
       "      <td>1631</td>\n",
       "      <td>1</td>\n",
       "      <td>0</td>\n",
       "      <td>0</td>\n",
       "    </tr>\n",
       "    <tr>\n",
       "      <th>4</th>\n",
       "      <td>2375</td>\n",
       "      <td>26984851472</td>\n",
       "      <td>1</td>\n",
       "      <td>8160430</td>\n",
       "      <td>1</td>\n",
       "      <td>1.50</td>\n",
       "      <td>364</td>\n",
       "      <td>-0.39</td>\n",
       "      <td>1631</td>\n",
       "      <td>1</td>\n",
       "      <td>0</td>\n",
       "      <td>0</td>\n",
       "    </tr>\n",
       "  </tbody>\n",
       "</table>\n",
       "</div>"
      ],
      "text/plain": [
       "   HOUSEHOLD_KEY    BASKET_ID  DAY  PRODUCT_ID  QUANTITY  SALES_VALUE  \\\n",
       "0           2375  26984851472    1     1004906         1         1.39   \n",
       "1           2375  26984851472    1     1033142         1         0.82   \n",
       "2           2375  26984851472    1     1036325         1         0.99   \n",
       "3           2375  26984851472    1     1082185         1         1.21   \n",
       "4           2375  26984851472    1     8160430         1         1.50   \n",
       "\n",
       "   STORE_ID  RETAIL_DISC  TRANS_TIME  WEEK_NO  COUPON_DISC  COUPON_MATCH_DISC  \n",
       "0       364        -0.60        1631        1            0                  0  \n",
       "1       364         0.00        1631        1            0                  0  \n",
       "2       364        -0.30        1631        1            0                  0  \n",
       "3       364         0.00        1631        1            0                  0  \n",
       "4       364        -0.39        1631        1            0                  0  "
      ]
     },
     "execution_count": 36,
     "metadata": {},
     "output_type": "execute_result"
    }
   ],
   "source": [
    "transaction_raw.head()"
   ]
  },
  {
   "cell_type": "code",
   "execution_count": 37,
   "id": "e92c400d",
   "metadata": {},
   "outputs": [],
   "source": [
    "transaction_raw['Date'] = start_date + pd.to_timedelta(transaction_raw['DAY'],unit='D')"
   ]
  },
  {
   "cell_type": "code",
   "execution_count": 38,
   "id": "86e95f3b",
   "metadata": {},
   "outputs": [
    {
     "data": {
      "text/plain": [
       "0         2020-01-02\n",
       "1         2020-01-02\n",
       "2         2020-01-02\n",
       "3         2020-01-02\n",
       "4         2020-01-02\n",
       "             ...    \n",
       "2595727   2021-06-14\n",
       "2595728   2021-06-14\n",
       "2595729   2021-06-14\n",
       "2595730   2021-06-14\n",
       "2595731   2021-03-15\n",
       "Name: Date, Length: 2595732, dtype: datetime64[ns]"
      ]
     },
     "execution_count": 38,
     "metadata": {},
     "output_type": "execute_result"
    }
   ],
   "source": [
    "transaction_raw['Date']"
   ]
  },
  {
   "cell_type": "code",
   "execution_count": 39,
   "id": "91b196e8",
   "metadata": {},
   "outputs": [],
   "source": [
    "campaign_desc_raw['Start_date'] = start_date + pd.to_timedelta(campaign_desc_raw['START_DAY'],unit='D')"
   ]
  },
  {
   "cell_type": "code",
   "execution_count": 40,
   "id": "fc2b8a50",
   "metadata": {},
   "outputs": [],
   "source": [
    "campaign_desc_raw['End_date'] = start_date + pd.to_timedelta(campaign_desc_raw['END_DAY'],unit='D')"
   ]
  },
  {
   "cell_type": "code",
   "execution_count": 41,
   "id": "cedc1b37",
   "metadata": {},
   "outputs": [
    {
     "data": {
      "text/html": [
       "<div>\n",
       "<style scoped>\n",
       "    .dataframe tbody tr th:only-of-type {\n",
       "        vertical-align: middle;\n",
       "    }\n",
       "\n",
       "    .dataframe tbody tr th {\n",
       "        vertical-align: top;\n",
       "    }\n",
       "\n",
       "    .dataframe thead th {\n",
       "        text-align: right;\n",
       "    }\n",
       "</style>\n",
       "<table border=\"1\" class=\"dataframe\">\n",
       "  <thead>\n",
       "    <tr style=\"text-align: right;\">\n",
       "      <th></th>\n",
       "      <th>DESCRIPTION</th>\n",
       "      <th>CAMPAIGN</th>\n",
       "      <th>START_DAY</th>\n",
       "      <th>END_DAY</th>\n",
       "      <th>Start_date</th>\n",
       "      <th>End_date</th>\n",
       "    </tr>\n",
       "  </thead>\n",
       "  <tbody>\n",
       "    <tr>\n",
       "      <th>0</th>\n",
       "      <td>TypeB</td>\n",
       "      <td>24</td>\n",
       "      <td>659</td>\n",
       "      <td>719</td>\n",
       "      <td>2021-10-21</td>\n",
       "      <td>2021-12-20</td>\n",
       "    </tr>\n",
       "    <tr>\n",
       "      <th>1</th>\n",
       "      <td>TypeC</td>\n",
       "      <td>15</td>\n",
       "      <td>547</td>\n",
       "      <td>708</td>\n",
       "      <td>2021-07-01</td>\n",
       "      <td>2021-12-09</td>\n",
       "    </tr>\n",
       "    <tr>\n",
       "      <th>2</th>\n",
       "      <td>TypeB</td>\n",
       "      <td>25</td>\n",
       "      <td>659</td>\n",
       "      <td>691</td>\n",
       "      <td>2021-10-21</td>\n",
       "      <td>2021-11-22</td>\n",
       "    </tr>\n",
       "    <tr>\n",
       "      <th>3</th>\n",
       "      <td>TypeC</td>\n",
       "      <td>20</td>\n",
       "      <td>615</td>\n",
       "      <td>685</td>\n",
       "      <td>2021-09-07</td>\n",
       "      <td>2021-11-16</td>\n",
       "    </tr>\n",
       "    <tr>\n",
       "      <th>4</th>\n",
       "      <td>TypeB</td>\n",
       "      <td>23</td>\n",
       "      <td>646</td>\n",
       "      <td>684</td>\n",
       "      <td>2021-10-08</td>\n",
       "      <td>2021-11-15</td>\n",
       "    </tr>\n",
       "  </tbody>\n",
       "</table>\n",
       "</div>"
      ],
      "text/plain": [
       "  DESCRIPTION  CAMPAIGN  START_DAY  END_DAY Start_date   End_date\n",
       "0       TypeB        24        659      719 2021-10-21 2021-12-20\n",
       "1       TypeC        15        547      708 2021-07-01 2021-12-09\n",
       "2       TypeB        25        659      691 2021-10-21 2021-11-22\n",
       "3       TypeC        20        615      685 2021-09-07 2021-11-16\n",
       "4       TypeB        23        646      684 2021-10-08 2021-11-15"
      ]
     },
     "execution_count": 41,
     "metadata": {},
     "output_type": "execute_result"
    }
   ],
   "source": [
    "campaign_desc_raw.head()"
   ]
  },
  {
   "cell_type": "code",
   "execution_count": 42,
   "id": "a6a0623a",
   "metadata": {},
   "outputs": [],
   "source": [
    "coupon_redempt_raw['Date'] = start_date + pd.to_timedelta(coupon_redempt_raw['DAY'],unit='D')"
   ]
  },
  {
   "cell_type": "code",
   "execution_count": 43,
   "id": "6e294891",
   "metadata": {},
   "outputs": [
    {
     "data": {
      "text/html": [
       "<div>\n",
       "<style scoped>\n",
       "    .dataframe tbody tr th:only-of-type {\n",
       "        vertical-align: middle;\n",
       "    }\n",
       "\n",
       "    .dataframe tbody tr th {\n",
       "        vertical-align: top;\n",
       "    }\n",
       "\n",
       "    .dataframe thead th {\n",
       "        text-align: right;\n",
       "    }\n",
       "</style>\n",
       "<table border=\"1\" class=\"dataframe\">\n",
       "  <thead>\n",
       "    <tr style=\"text-align: right;\">\n",
       "      <th></th>\n",
       "      <th>HOUSEHOLD_KEY</th>\n",
       "      <th>DAY</th>\n",
       "      <th>COUPON_UPC</th>\n",
       "      <th>CAMPAIGN</th>\n",
       "      <th>Date</th>\n",
       "    </tr>\n",
       "  </thead>\n",
       "  <tbody>\n",
       "    <tr>\n",
       "      <th>0</th>\n",
       "      <td>1</td>\n",
       "      <td>421</td>\n",
       "      <td>10000085364</td>\n",
       "      <td>8</td>\n",
       "      <td>2021-02-25</td>\n",
       "    </tr>\n",
       "    <tr>\n",
       "      <th>1</th>\n",
       "      <td>1</td>\n",
       "      <td>421</td>\n",
       "      <td>51700010076</td>\n",
       "      <td>8</td>\n",
       "      <td>2021-02-25</td>\n",
       "    </tr>\n",
       "    <tr>\n",
       "      <th>2</th>\n",
       "      <td>1</td>\n",
       "      <td>427</td>\n",
       "      <td>54200000033</td>\n",
       "      <td>8</td>\n",
       "      <td>2021-03-03</td>\n",
       "    </tr>\n",
       "    <tr>\n",
       "      <th>3</th>\n",
       "      <td>1</td>\n",
       "      <td>597</td>\n",
       "      <td>10000085476</td>\n",
       "      <td>18</td>\n",
       "      <td>2021-08-20</td>\n",
       "    </tr>\n",
       "    <tr>\n",
       "      <th>4</th>\n",
       "      <td>1</td>\n",
       "      <td>597</td>\n",
       "      <td>54200029176</td>\n",
       "      <td>18</td>\n",
       "      <td>2021-08-20</td>\n",
       "    </tr>\n",
       "  </tbody>\n",
       "</table>\n",
       "</div>"
      ],
      "text/plain": [
       "   HOUSEHOLD_KEY  DAY   COUPON_UPC  CAMPAIGN       Date\n",
       "0              1  421  10000085364         8 2021-02-25\n",
       "1              1  421  51700010076         8 2021-02-25\n",
       "2              1  427  54200000033         8 2021-03-03\n",
       "3              1  597  10000085476        18 2021-08-20\n",
       "4              1  597  54200029176        18 2021-08-20"
      ]
     },
     "execution_count": 43,
     "metadata": {},
     "output_type": "execute_result"
    }
   ],
   "source": [
    "coupon_redempt_raw.head()"
   ]
  },
  {
   "cell_type": "code",
   "execution_count": 44,
   "id": "48b12606",
   "metadata": {},
   "outputs": [],
   "source": [
    "campaign_desc_raw['Campaign_duration'] = campaign_desc_raw['END_DAY'] - campaign_desc_raw['START_DAY']"
   ]
  },
  {
   "cell_type": "code",
   "execution_count": 45,
   "id": "68328616",
   "metadata": {},
   "outputs": [
    {
     "data": {
      "text/html": [
       "<div>\n",
       "<style scoped>\n",
       "    .dataframe tbody tr th:only-of-type {\n",
       "        vertical-align: middle;\n",
       "    }\n",
       "\n",
       "    .dataframe tbody tr th {\n",
       "        vertical-align: top;\n",
       "    }\n",
       "\n",
       "    .dataframe thead th {\n",
       "        text-align: right;\n",
       "    }\n",
       "</style>\n",
       "<table border=\"1\" class=\"dataframe\">\n",
       "  <thead>\n",
       "    <tr style=\"text-align: right;\">\n",
       "      <th></th>\n",
       "      <th>DESCRIPTION</th>\n",
       "      <th>CAMPAIGN</th>\n",
       "      <th>START_DAY</th>\n",
       "      <th>END_DAY</th>\n",
       "      <th>Start_date</th>\n",
       "      <th>End_date</th>\n",
       "      <th>Campaign_duration</th>\n",
       "    </tr>\n",
       "  </thead>\n",
       "  <tbody>\n",
       "    <tr>\n",
       "      <th>0</th>\n",
       "      <td>TypeB</td>\n",
       "      <td>24</td>\n",
       "      <td>659</td>\n",
       "      <td>719</td>\n",
       "      <td>2021-10-21</td>\n",
       "      <td>2021-12-20</td>\n",
       "      <td>60</td>\n",
       "    </tr>\n",
       "    <tr>\n",
       "      <th>1</th>\n",
       "      <td>TypeC</td>\n",
       "      <td>15</td>\n",
       "      <td>547</td>\n",
       "      <td>708</td>\n",
       "      <td>2021-07-01</td>\n",
       "      <td>2021-12-09</td>\n",
       "      <td>161</td>\n",
       "    </tr>\n",
       "    <tr>\n",
       "      <th>2</th>\n",
       "      <td>TypeB</td>\n",
       "      <td>25</td>\n",
       "      <td>659</td>\n",
       "      <td>691</td>\n",
       "      <td>2021-10-21</td>\n",
       "      <td>2021-11-22</td>\n",
       "      <td>32</td>\n",
       "    </tr>\n",
       "    <tr>\n",
       "      <th>3</th>\n",
       "      <td>TypeC</td>\n",
       "      <td>20</td>\n",
       "      <td>615</td>\n",
       "      <td>685</td>\n",
       "      <td>2021-09-07</td>\n",
       "      <td>2021-11-16</td>\n",
       "      <td>70</td>\n",
       "    </tr>\n",
       "    <tr>\n",
       "      <th>4</th>\n",
       "      <td>TypeB</td>\n",
       "      <td>23</td>\n",
       "      <td>646</td>\n",
       "      <td>684</td>\n",
       "      <td>2021-10-08</td>\n",
       "      <td>2021-11-15</td>\n",
       "      <td>38</td>\n",
       "    </tr>\n",
       "  </tbody>\n",
       "</table>\n",
       "</div>"
      ],
      "text/plain": [
       "  DESCRIPTION  CAMPAIGN  START_DAY  END_DAY Start_date   End_date  \\\n",
       "0       TypeB        24        659      719 2021-10-21 2021-12-20   \n",
       "1       TypeC        15        547      708 2021-07-01 2021-12-09   \n",
       "2       TypeB        25        659      691 2021-10-21 2021-11-22   \n",
       "3       TypeC        20        615      685 2021-09-07 2021-11-16   \n",
       "4       TypeB        23        646      684 2021-10-08 2021-11-15   \n",
       "\n",
       "   Campaign_duration  \n",
       "0                 60  \n",
       "1                161  \n",
       "2                 32  \n",
       "3                 70  \n",
       "4                 38  "
      ]
     },
     "execution_count": 45,
     "metadata": {},
     "output_type": "execute_result"
    }
   ],
   "source": [
    "campaign_desc_raw.head()"
   ]
  },
  {
   "cell_type": "code",
   "execution_count": 46,
   "id": "668f0b9d",
   "metadata": {},
   "outputs": [
    {
     "data": {
      "text/plain": [
       "Timestamp('2021-12-12 00:00:00')"
      ]
     },
     "execution_count": 46,
     "metadata": {},
     "output_type": "execute_result"
    }
   ],
   "source": [
    "transaction_raw['Date'].max()"
   ]
  },
  {
   "cell_type": "code",
   "execution_count": 47,
   "id": "57f68e68",
   "metadata": {},
   "outputs": [
    {
     "data": {
      "text/plain": [
       "Timestamp('2021-12-20 00:00:00')"
      ]
     },
     "execution_count": 47,
     "metadata": {},
     "output_type": "execute_result"
    }
   ],
   "source": [
    "campaign_desc_raw['End_date'].max()"
   ]
  },
  {
   "cell_type": "code",
   "execution_count": 48,
   "id": "02647e54",
   "metadata": {},
   "outputs": [
    {
     "data": {
      "text/plain": [
       "Timestamp('2021-12-05 00:00:00')"
      ]
     },
     "execution_count": 48,
     "metadata": {},
     "output_type": "execute_result"
    }
   ],
   "source": [
    "coupon_redempt_raw['Date'].max()"
   ]
  },
  {
   "cell_type": "code",
   "execution_count": 49,
   "id": "cbc8b4bf",
   "metadata": {},
   "outputs": [
    {
     "data": {
      "text/plain": [
       "AGE_DESC               object\n",
       "MARITAL_STATUS_CODE    object\n",
       "INCOME_DESC            object\n",
       "HOMEOWNER_DESC         object\n",
       "HH_COMP_DESC           object\n",
       "HOUSEHOLD_SIZE_DESC    object\n",
       "KID_CATEGORY_DESC      object\n",
       "HOUSEHOLD_KEY           int16\n",
       "dtype: object"
      ]
     },
     "execution_count": 49,
     "metadata": {},
     "output_type": "execute_result"
    }
   ],
   "source": [
    "demographic_raw.dtypes"
   ]
  },
  {
   "cell_type": "code",
   "execution_count": 50,
   "id": "6b40fe35",
   "metadata": {},
   "outputs": [
    {
     "data": {
      "text/plain": [
       "45-54    901\n",
       "35-44    594\n",
       "25-34    445\n",
       "65+      230\n",
       "55-64    187\n",
       "19-24    143\n",
       "Name: AGE_DESC, dtype: int64"
      ]
     },
     "execution_count": 50,
     "metadata": {},
     "output_type": "execute_result"
    }
   ],
   "source": [
    "demographic_raw['AGE_DESC'].value_counts()"
   ]
  },
  {
   "cell_type": "code",
   "execution_count": 51,
   "id": "ee621e09",
   "metadata": {},
   "outputs": [
    {
     "data": {
      "text/plain": [
       "2     1004\n",
       "1      783\n",
       "3      338\n",
       "5+     206\n",
       "4      169\n",
       "Name: HOUSEHOLD_SIZE_DESC, dtype: int64"
      ]
     },
     "execution_count": 51,
     "metadata": {},
     "output_type": "execute_result"
    }
   ],
   "source": [
    "demographic_raw['HOUSEHOLD_SIZE_DESC'].value_counts()"
   ]
  },
  {
   "cell_type": "code",
   "execution_count": 52,
   "id": "07b0fcb6",
   "metadata": {},
   "outputs": [
    {
     "data": {
      "text/plain": [
       "DESCRIPTION                  object\n",
       "CAMPAIGN                       int8\n",
       "START_DAY                     int16\n",
       "END_DAY                       int16\n",
       "Start_date           datetime64[ns]\n",
       "End_date             datetime64[ns]\n",
       "Campaign_duration             int16\n",
       "dtype: object"
      ]
     },
     "execution_count": 52,
     "metadata": {},
     "output_type": "execute_result"
    }
   ],
   "source": [
    "campaign_desc_raw.dtypes"
   ]
  },
  {
   "cell_type": "code",
   "execution_count": 53,
   "id": "aef0df5b",
   "metadata": {},
   "outputs": [
    {
     "data": {
      "text/plain": [
       "46.6"
      ]
     },
     "execution_count": 53,
     "metadata": {},
     "output_type": "execute_result"
    }
   ],
   "source": [
    "campaign_desc_raw['Campaign_duration'].mean() ## Average duration of campaign"
   ]
  },
  {
   "cell_type": "code",
   "execution_count": 54,
   "id": "f995af15",
   "metadata": {},
   "outputs": [
    {
     "data": {
      "text/plain": [
       "<Axes: xlabel='CAMPAIGN', ylabel='Campaign_duration'>"
      ]
     },
     "execution_count": 54,
     "metadata": {},
     "output_type": "execute_result"
    },
    {
     "data": {
      "image/png": "[encoded data removed]",
      "text/plain": [
       "<Figure size 1500x500 with 1 Axes>"
      ]
     },
     "metadata": {},
     "output_type": "display_data"
    }
   ],
   "source": [
    "plt.figure(figsize=(15,5))\n",
    "sns.barplot(x='CAMPAIGN',y='Campaign_duration',data=campaign_desc_raw)"
   ]
  },
  {
   "cell_type": "code",
   "execution_count": 55,
   "id": "4ea8e3f0",
   "metadata": {},
   "outputs": [
    {
     "data": {
      "text/plain": [
       "array([24, 15, 25, 20, 23, 21, 22, 18, 19, 17, 14, 16, 13, 11, 12, 10,  9,\n",
       "        8,  7,  6,  3,  5,  4,  1,  2, 30, 29, 28, 27, 26], dtype=int8)"
      ]
     },
     "execution_count": 55,
     "metadata": {},
     "output_type": "execute_result"
    }
   ],
   "source": [
    "campaign_desc_raw['CAMPAIGN'].unique() ## Campaign 15 lasted for more than 160 days"
   ]
  },
  {
   "cell_type": "code",
   "execution_count": 56,
   "id": "a30d8504",
   "metadata": {},
   "outputs": [
    {
     "data": {
      "text/html": [
       "<div>\n",
       "<style scoped>\n",
       "    .dataframe tbody tr th:only-of-type {\n",
       "        vertical-align: middle;\n",
       "    }\n",
       "\n",
       "    .dataframe tbody tr th {\n",
       "        vertical-align: top;\n",
       "    }\n",
       "\n",
       "    .dataframe thead th {\n",
       "        text-align: right;\n",
       "    }\n",
       "</style>\n",
       "<table border=\"1\" class=\"dataframe\">\n",
       "  <thead>\n",
       "    <tr style=\"text-align: right;\">\n",
       "      <th></th>\n",
       "      <th>CAMPAIGN</th>\n",
       "      <th>Campaign_duration</th>\n",
       "    </tr>\n",
       "    <tr>\n",
       "      <th>DESCRIPTION</th>\n",
       "      <th></th>\n",
       "      <th></th>\n",
       "    </tr>\n",
       "  </thead>\n",
       "  <tbody>\n",
       "    <tr>\n",
       "      <th>TypeA</th>\n",
       "      <td>5</td>\n",
       "      <td>47.200000</td>\n",
       "    </tr>\n",
       "    <tr>\n",
       "      <th>TypeB</th>\n",
       "      <td>19</td>\n",
       "      <td>37.631579</td>\n",
       "    </tr>\n",
       "    <tr>\n",
       "      <th>TypeC</th>\n",
       "      <td>6</td>\n",
       "      <td>74.500000</td>\n",
       "    </tr>\n",
       "  </tbody>\n",
       "</table>\n",
       "</div>"
      ],
      "text/plain": [
       "             CAMPAIGN  Campaign_duration\n",
       "DESCRIPTION                             \n",
       "TypeA               5          47.200000\n",
       "TypeB              19          37.631579\n",
       "TypeC               6          74.500000"
      ]
     },
     "execution_count": 56,
     "metadata": {},
     "output_type": "execute_result"
    }
   ],
   "source": [
    "campaign_desc_raw.groupby('DESCRIPTION').aggregate({'CAMPAIGN':'count','Campaign_duration':'mean'})"
   ]
  },
  {
   "cell_type": "markdown",
   "id": "9209b1bb",
   "metadata": {},
   "source": [
    "There are 19 campaign of type b with average duration of 38 days. same goes for others"
   ]
  },
  {
   "cell_type": "code",
   "execution_count": 57,
   "id": "4e72a48c",
   "metadata": {},
   "outputs": [],
   "source": [
    "campaign_desc_raw['Start_month'] = campaign_desc_raw['Start_date'].dt.strftime('%m')"
   ]
  },
  {
   "cell_type": "code",
   "execution_count": 58,
   "id": "c9c5f35b",
   "metadata": {},
   "outputs": [],
   "source": [
    "campaign_desc_raw['Start_year'] = campaign_desc_raw['Start_date'].dt.year"
   ]
  },
  {
   "cell_type": "code",
   "execution_count": 59,
   "id": "97b3d072",
   "metadata": {},
   "outputs": [],
   "source": [
    "campaign_desc_raw['End_month'] = campaign_desc_raw['End_date'].dt.strftime('%m')"
   ]
  },
  {
   "cell_type": "code",
   "execution_count": 60,
   "id": "e75e83d1",
   "metadata": {},
   "outputs": [],
   "source": [
    "campaign_desc_raw['End_year'] = campaign_desc_raw['End_date'].dt.year"
   ]
  },
  {
   "cell_type": "code",
   "execution_count": 61,
   "id": "a8debf58",
   "metadata": {},
   "outputs": [
    {
     "data": {
      "text/html": [
       "<div>\n",
       "<style scoped>\n",
       "    .dataframe tbody tr th:only-of-type {\n",
       "        vertical-align: middle;\n",
       "    }\n",
       "\n",
       "    .dataframe tbody tr th {\n",
       "        vertical-align: top;\n",
       "    }\n",
       "\n",
       "    .dataframe thead th {\n",
       "        text-align: right;\n",
       "    }\n",
       "</style>\n",
       "<table border=\"1\" class=\"dataframe\">\n",
       "  <thead>\n",
       "    <tr style=\"text-align: right;\">\n",
       "      <th></th>\n",
       "      <th>DESCRIPTION</th>\n",
       "      <th>CAMPAIGN</th>\n",
       "      <th>START_DAY</th>\n",
       "      <th>END_DAY</th>\n",
       "      <th>Start_date</th>\n",
       "      <th>End_date</th>\n",
       "      <th>Campaign_duration</th>\n",
       "      <th>Start_month</th>\n",
       "      <th>Start_year</th>\n",
       "      <th>End_month</th>\n",
       "      <th>End_year</th>\n",
       "    </tr>\n",
       "  </thead>\n",
       "  <tbody>\n",
       "    <tr>\n",
       "      <th>0</th>\n",
       "      <td>TypeB</td>\n",
       "      <td>24</td>\n",
       "      <td>659</td>\n",
       "      <td>719</td>\n",
       "      <td>2021-10-21</td>\n",
       "      <td>2021-12-20</td>\n",
       "      <td>60</td>\n",
       "      <td>10</td>\n",
       "      <td>2021</td>\n",
       "      <td>12</td>\n",
       "      <td>2021</td>\n",
       "    </tr>\n",
       "    <tr>\n",
       "      <th>1</th>\n",
       "      <td>TypeC</td>\n",
       "      <td>15</td>\n",
       "      <td>547</td>\n",
       "      <td>708</td>\n",
       "      <td>2021-07-01</td>\n",
       "      <td>2021-12-09</td>\n",
       "      <td>161</td>\n",
       "      <td>07</td>\n",
       "      <td>2021</td>\n",
       "      <td>12</td>\n",
       "      <td>2021</td>\n",
       "    </tr>\n",
       "    <tr>\n",
       "      <th>2</th>\n",
       "      <td>TypeB</td>\n",
       "      <td>25</td>\n",
       "      <td>659</td>\n",
       "      <td>691</td>\n",
       "      <td>2021-10-21</td>\n",
       "      <td>2021-11-22</td>\n",
       "      <td>32</td>\n",
       "      <td>10</td>\n",
       "      <td>2021</td>\n",
       "      <td>11</td>\n",
       "      <td>2021</td>\n",
       "    </tr>\n",
       "    <tr>\n",
       "      <th>3</th>\n",
       "      <td>TypeC</td>\n",
       "      <td>20</td>\n",
       "      <td>615</td>\n",
       "      <td>685</td>\n",
       "      <td>2021-09-07</td>\n",
       "      <td>2021-11-16</td>\n",
       "      <td>70</td>\n",
       "      <td>09</td>\n",
       "      <td>2021</td>\n",
       "      <td>11</td>\n",
       "      <td>2021</td>\n",
       "    </tr>\n",
       "    <tr>\n",
       "      <th>4</th>\n",
       "      <td>TypeB</td>\n",
       "      <td>23</td>\n",
       "      <td>646</td>\n",
       "      <td>684</td>\n",
       "      <td>2021-10-08</td>\n",
       "      <td>2021-11-15</td>\n",
       "      <td>38</td>\n",
       "      <td>10</td>\n",
       "      <td>2021</td>\n",
       "      <td>11</td>\n",
       "      <td>2021</td>\n",
       "    </tr>\n",
       "  </tbody>\n",
       "</table>\n",
       "</div>"
      ],
      "text/plain": [
       "  DESCRIPTION  CAMPAIGN  START_DAY  END_DAY Start_date   End_date  \\\n",
       "0       TypeB        24        659      719 2021-10-21 2021-12-20   \n",
       "1       TypeC        15        547      708 2021-07-01 2021-12-09   \n",
       "2       TypeB        25        659      691 2021-10-21 2021-11-22   \n",
       "3       TypeC        20        615      685 2021-09-07 2021-11-16   \n",
       "4       TypeB        23        646      684 2021-10-08 2021-11-15   \n",
       "\n",
       "   Campaign_duration Start_month  Start_year End_month  End_year  \n",
       "0                 60          10        2021        12      2021  \n",
       "1                161          07        2021        12      2021  \n",
       "2                 32          10        2021        11      2021  \n",
       "3                 70          09        2021        11      2021  \n",
       "4                 38          10        2021        11      2021  "
      ]
     },
     "execution_count": 61,
     "metadata": {},
     "output_type": "execute_result"
    }
   ],
   "source": [
    "campaign_desc_raw.head()"
   ]
  },
  {
   "cell_type": "code",
   "execution_count": 62,
   "id": "b750ece1",
   "metadata": {},
   "outputs": [
    {
     "data": {
      "text/plain": [
       "DESCRIPTION                  object\n",
       "CAMPAIGN                       int8\n",
       "START_DAY                     int16\n",
       "END_DAY                       int16\n",
       "Start_date           datetime64[ns]\n",
       "End_date             datetime64[ns]\n",
       "Campaign_duration             int16\n",
       "Start_month                  object\n",
       "Start_year                    int64\n",
       "End_month                    object\n",
       "End_year                      int64\n",
       "dtype: object"
      ]
     },
     "execution_count": 62,
     "metadata": {},
     "output_type": "execute_result"
    }
   ],
   "source": [
    "campaign_desc_raw.dtypes"
   ]
  },
  {
   "cell_type": "code",
   "execution_count": 63,
   "id": "c0eb0d44",
   "metadata": {},
   "outputs": [
    {
     "data": {
      "text/plain": [
       "(1584, (7208, 3))"
      ]
     },
     "execution_count": 63,
     "metadata": {},
     "output_type": "execute_result"
    }
   ],
   "source": [
    "campaign_raw['HOUSEHOLD_KEY'].nunique() , campaign_raw.shape"
   ]
  },
  {
   "cell_type": "markdown",
   "id": "2c104458",
   "metadata": {},
   "source": [
    "Outof 2500 only 1584 participated in campaigns i.e. 916 did not participate"
   ]
  },
  {
   "cell_type": "code",
   "execution_count": 64,
   "id": "c9274943",
   "metadata": {},
   "outputs": [
    {
     "data": {
      "text/plain": [
       "Text(0, 0.5, 'Number of household reached to')"
      ]
     },
     "execution_count": 64,
     "metadata": {},
     "output_type": "execute_result"
    },
    {
     "data": {
      "image/png": "[encoded data removed]",
      "text/plain": [
       "<Figure size 1500x500 with 1 Axes>"
      ]
     },
     "metadata": {},
     "output_type": "display_data"
    }
   ],
   "source": [
    "plt.figure(figsize=(15,5))\n",
    "campaign_raw.groupby('CAMPAIGN')['HOUSEHOLD_KEY'].count().plot.bar()\n",
    "plt.ylabel('Number of household reached to')"
   ]
  },
  {
   "cell_type": "markdown",
   "id": "cb88181d",
   "metadata": {},
   "source": [
    "Campaign 8 , 13 , 18 have reached more household"
   ]
  },
  {
   "cell_type": "code",
   "execution_count": 65,
   "id": "04834303",
   "metadata": {},
   "outputs": [
    {
     "data": {
      "text/html": [
       "<div>\n",
       "<style scoped>\n",
       "    .dataframe tbody tr th:only-of-type {\n",
       "        vertical-align: middle;\n",
       "    }\n",
       "\n",
       "    .dataframe tbody tr th {\n",
       "        vertical-align: top;\n",
       "    }\n",
       "\n",
       "    .dataframe thead th {\n",
       "        text-align: right;\n",
       "    }\n",
       "</style>\n",
       "<table border=\"1\" class=\"dataframe\">\n",
       "  <thead>\n",
       "    <tr style=\"text-align: right;\">\n",
       "      <th></th>\n",
       "      <th>DESCRIPTION</th>\n",
       "      <th>CAMPAIGN</th>\n",
       "      <th>START_DAY</th>\n",
       "      <th>END_DAY</th>\n",
       "      <th>Start_date</th>\n",
       "      <th>End_date</th>\n",
       "      <th>Campaign_duration</th>\n",
       "      <th>Start_month</th>\n",
       "      <th>Start_year</th>\n",
       "      <th>End_month</th>\n",
       "      <th>End_year</th>\n",
       "    </tr>\n",
       "  </thead>\n",
       "  <tbody>\n",
       "    <tr>\n",
       "      <th>0</th>\n",
       "      <td>TypeB</td>\n",
       "      <td>24</td>\n",
       "      <td>659</td>\n",
       "      <td>719</td>\n",
       "      <td>2021-10-21</td>\n",
       "      <td>2021-12-20</td>\n",
       "      <td>60</td>\n",
       "      <td>10</td>\n",
       "      <td>2021</td>\n",
       "      <td>12</td>\n",
       "      <td>2021</td>\n",
       "    </tr>\n",
       "    <tr>\n",
       "      <th>1</th>\n",
       "      <td>TypeC</td>\n",
       "      <td>15</td>\n",
       "      <td>547</td>\n",
       "      <td>708</td>\n",
       "      <td>2021-07-01</td>\n",
       "      <td>2021-12-09</td>\n",
       "      <td>161</td>\n",
       "      <td>07</td>\n",
       "      <td>2021</td>\n",
       "      <td>12</td>\n",
       "      <td>2021</td>\n",
       "    </tr>\n",
       "    <tr>\n",
       "      <th>2</th>\n",
       "      <td>TypeB</td>\n",
       "      <td>25</td>\n",
       "      <td>659</td>\n",
       "      <td>691</td>\n",
       "      <td>2021-10-21</td>\n",
       "      <td>2021-11-22</td>\n",
       "      <td>32</td>\n",
       "      <td>10</td>\n",
       "      <td>2021</td>\n",
       "      <td>11</td>\n",
       "      <td>2021</td>\n",
       "    </tr>\n",
       "    <tr>\n",
       "      <th>3</th>\n",
       "      <td>TypeC</td>\n",
       "      <td>20</td>\n",
       "      <td>615</td>\n",
       "      <td>685</td>\n",
       "      <td>2021-09-07</td>\n",
       "      <td>2021-11-16</td>\n",
       "      <td>70</td>\n",
       "      <td>09</td>\n",
       "      <td>2021</td>\n",
       "      <td>11</td>\n",
       "      <td>2021</td>\n",
       "    </tr>\n",
       "    <tr>\n",
       "      <th>4</th>\n",
       "      <td>TypeB</td>\n",
       "      <td>23</td>\n",
       "      <td>646</td>\n",
       "      <td>684</td>\n",
       "      <td>2021-10-08</td>\n",
       "      <td>2021-11-15</td>\n",
       "      <td>38</td>\n",
       "      <td>10</td>\n",
       "      <td>2021</td>\n",
       "      <td>11</td>\n",
       "      <td>2021</td>\n",
       "    </tr>\n",
       "  </tbody>\n",
       "</table>\n",
       "</div>"
      ],
      "text/plain": [
       "  DESCRIPTION  CAMPAIGN  START_DAY  END_DAY Start_date   End_date  \\\n",
       "0       TypeB        24        659      719 2021-10-21 2021-12-20   \n",
       "1       TypeC        15        547      708 2021-07-01 2021-12-09   \n",
       "2       TypeB        25        659      691 2021-10-21 2021-11-22   \n",
       "3       TypeC        20        615      685 2021-09-07 2021-11-16   \n",
       "4       TypeB        23        646      684 2021-10-08 2021-11-15   \n",
       "\n",
       "   Campaign_duration Start_month  Start_year End_month  End_year  \n",
       "0                 60          10        2021        12      2021  \n",
       "1                161          07        2021        12      2021  \n",
       "2                 32          10        2021        11      2021  \n",
       "3                 70          09        2021        11      2021  \n",
       "4                 38          10        2021        11      2021  "
      ]
     },
     "execution_count": 65,
     "metadata": {},
     "output_type": "execute_result"
    }
   ],
   "source": [
    "campaign_desc_raw.head()"
   ]
  },
  {
   "cell_type": "code",
   "execution_count": 66,
   "id": "b0938305",
   "metadata": {},
   "outputs": [
    {
     "data": {
      "text/plain": [
       "(124548, 3)"
      ]
     },
     "execution_count": 66,
     "metadata": {},
     "output_type": "execute_result"
    }
   ],
   "source": [
    "coupon_raw.shape"
   ]
  },
  {
   "cell_type": "code",
   "execution_count": 67,
   "id": "5531cf19",
   "metadata": {},
   "outputs": [
    {
     "data": {
      "text/plain": [
       "Index(['COUPON_UPC', 'PRODUCT_ID', 'CAMPAIGN'], dtype='object')"
      ]
     },
     "execution_count": 67,
     "metadata": {},
     "output_type": "execute_result"
    }
   ],
   "source": [
    "coupon_raw.columns"
   ]
  },
  {
   "cell_type": "code",
   "execution_count": 68,
   "id": "f204721f",
   "metadata": {},
   "outputs": [
    {
     "data": {
      "text/plain": [
       "1135"
      ]
     },
     "execution_count": 68,
     "metadata": {},
     "output_type": "execute_result"
    }
   ],
   "source": [
    "coupon_raw['COUPON_UPC'].nunique()"
   ]
  },
  {
   "cell_type": "code",
   "execution_count": 69,
   "id": "da06f3e7",
   "metadata": {},
   "outputs": [],
   "source": [
    "coupon_given = coupon_raw.groupby('CAMPAIGN').aggregate(Total_product=('PRODUCT_ID','nunique'),\n",
    "                                                       Total_Coupon_Given = ('COUPON_UPC','nunique'))"
   ]
  },
  {
   "cell_type": "code",
   "execution_count": 70,
   "id": "3c0b7a80",
   "metadata": {},
   "outputs": [],
   "source": [
    "coupon_given = coupon_given.sort_values(by='Total_product',ascending=False)"
   ]
  },
  {
   "cell_type": "code",
   "execution_count": 71,
   "id": "8bd86b96",
   "metadata": {},
   "outputs": [
    {
     "data": {
      "text/html": [
       "<div>\n",
       "<style scoped>\n",
       "    .dataframe tbody tr th:only-of-type {\n",
       "        vertical-align: middle;\n",
       "    }\n",
       "\n",
       "    .dataframe tbody tr th {\n",
       "        vertical-align: top;\n",
       "    }\n",
       "\n",
       "    .dataframe thead th {\n",
       "        text-align: right;\n",
       "    }\n",
       "</style>\n",
       "<table border=\"1\" class=\"dataframe\">\n",
       "  <thead>\n",
       "    <tr style=\"text-align: right;\">\n",
       "      <th></th>\n",
       "      <th>Total_product</th>\n",
       "      <th>Total_Coupon_Given</th>\n",
       "    </tr>\n",
       "    <tr>\n",
       "      <th>CAMPAIGN</th>\n",
       "      <th></th>\n",
       "      <th></th>\n",
       "    </tr>\n",
       "  </thead>\n",
       "  <tbody>\n",
       "    <tr>\n",
       "      <th>13</th>\n",
       "      <td>35616</td>\n",
       "      <td>207</td>\n",
       "    </tr>\n",
       "    <tr>\n",
       "      <th>18</th>\n",
       "      <td>35513</td>\n",
       "      <td>209</td>\n",
       "    </tr>\n",
       "    <tr>\n",
       "      <th>8</th>\n",
       "      <td>17178</td>\n",
       "      <td>209</td>\n",
       "    </tr>\n",
       "    <tr>\n",
       "      <th>26</th>\n",
       "      <td>3396</td>\n",
       "      <td>181</td>\n",
       "    </tr>\n",
       "    <tr>\n",
       "      <th>30</th>\n",
       "      <td>3205</td>\n",
       "      <td>181</td>\n",
       "    </tr>\n",
       "  </tbody>\n",
       "</table>\n",
       "</div>"
      ],
      "text/plain": [
       "          Total_product  Total_Coupon_Given\n",
       "CAMPAIGN                                   \n",
       "13                35616                 207\n",
       "18                35513                 209\n",
       "8                 17178                 209\n",
       "26                 3396                 181\n",
       "30                 3205                 181"
      ]
     },
     "execution_count": 71,
     "metadata": {},
     "output_type": "execute_result"
    }
   ],
   "source": [
    "coupon_given.head()"
   ]
  },
  {
   "cell_type": "code",
   "execution_count": 72,
   "id": "99805563",
   "metadata": {},
   "outputs": [
    {
     "data": {
      "text/html": [
       "<div>\n",
       "<style scoped>\n",
       "    .dataframe tbody tr th:only-of-type {\n",
       "        vertical-align: middle;\n",
       "    }\n",
       "\n",
       "    .dataframe tbody tr th {\n",
       "        vertical-align: top;\n",
       "    }\n",
       "\n",
       "    .dataframe thead th {\n",
       "        text-align: right;\n",
       "    }\n",
       "</style>\n",
       "<table border=\"1\" class=\"dataframe\">\n",
       "  <thead>\n",
       "    <tr style=\"text-align: right;\">\n",
       "      <th></th>\n",
       "      <th>DESCRIPTION</th>\n",
       "      <th>CAMPAIGN</th>\n",
       "      <th>START_DAY</th>\n",
       "      <th>END_DAY</th>\n",
       "      <th>Start_date</th>\n",
       "      <th>End_date</th>\n",
       "      <th>Campaign_duration</th>\n",
       "      <th>Start_month</th>\n",
       "      <th>Start_year</th>\n",
       "      <th>End_month</th>\n",
       "      <th>End_year</th>\n",
       "    </tr>\n",
       "  </thead>\n",
       "  <tbody>\n",
       "    <tr>\n",
       "      <th>0</th>\n",
       "      <td>TypeB</td>\n",
       "      <td>24</td>\n",
       "      <td>659</td>\n",
       "      <td>719</td>\n",
       "      <td>2021-10-21</td>\n",
       "      <td>2021-12-20</td>\n",
       "      <td>60</td>\n",
       "      <td>10</td>\n",
       "      <td>2021</td>\n",
       "      <td>12</td>\n",
       "      <td>2021</td>\n",
       "    </tr>\n",
       "    <tr>\n",
       "      <th>1</th>\n",
       "      <td>TypeC</td>\n",
       "      <td>15</td>\n",
       "      <td>547</td>\n",
       "      <td>708</td>\n",
       "      <td>2021-07-01</td>\n",
       "      <td>2021-12-09</td>\n",
       "      <td>161</td>\n",
       "      <td>07</td>\n",
       "      <td>2021</td>\n",
       "      <td>12</td>\n",
       "      <td>2021</td>\n",
       "    </tr>\n",
       "    <tr>\n",
       "      <th>2</th>\n",
       "      <td>TypeB</td>\n",
       "      <td>25</td>\n",
       "      <td>659</td>\n",
       "      <td>691</td>\n",
       "      <td>2021-10-21</td>\n",
       "      <td>2021-11-22</td>\n",
       "      <td>32</td>\n",
       "      <td>10</td>\n",
       "      <td>2021</td>\n",
       "      <td>11</td>\n",
       "      <td>2021</td>\n",
       "    </tr>\n",
       "    <tr>\n",
       "      <th>3</th>\n",
       "      <td>TypeC</td>\n",
       "      <td>20</td>\n",
       "      <td>615</td>\n",
       "      <td>685</td>\n",
       "      <td>2021-09-07</td>\n",
       "      <td>2021-11-16</td>\n",
       "      <td>70</td>\n",
       "      <td>09</td>\n",
       "      <td>2021</td>\n",
       "      <td>11</td>\n",
       "      <td>2021</td>\n",
       "    </tr>\n",
       "    <tr>\n",
       "      <th>4</th>\n",
       "      <td>TypeB</td>\n",
       "      <td>23</td>\n",
       "      <td>646</td>\n",
       "      <td>684</td>\n",
       "      <td>2021-10-08</td>\n",
       "      <td>2021-11-15</td>\n",
       "      <td>38</td>\n",
       "      <td>10</td>\n",
       "      <td>2021</td>\n",
       "      <td>11</td>\n",
       "      <td>2021</td>\n",
       "    </tr>\n",
       "  </tbody>\n",
       "</table>\n",
       "</div>"
      ],
      "text/plain": [
       "  DESCRIPTION  CAMPAIGN  START_DAY  END_DAY Start_date   End_date  \\\n",
       "0       TypeB        24        659      719 2021-10-21 2021-12-20   \n",
       "1       TypeC        15        547      708 2021-07-01 2021-12-09   \n",
       "2       TypeB        25        659      691 2021-10-21 2021-11-22   \n",
       "3       TypeC        20        615      685 2021-09-07 2021-11-16   \n",
       "4       TypeB        23        646      684 2021-10-08 2021-11-15   \n",
       "\n",
       "   Campaign_duration Start_month  Start_year End_month  End_year  \n",
       "0                 60          10        2021        12      2021  \n",
       "1                161          07        2021        12      2021  \n",
       "2                 32          10        2021        11      2021  \n",
       "3                 70          09        2021        11      2021  \n",
       "4                 38          10        2021        11      2021  "
      ]
     },
     "execution_count": 72,
     "metadata": {},
     "output_type": "execute_result"
    }
   ],
   "source": [
    "campaign_desc_raw.head()"
   ]
  },
  {
   "cell_type": "code",
   "execution_count": 73,
   "id": "aefd0097",
   "metadata": {},
   "outputs": [],
   "source": [
    "coupon_given = coupon_given.merge(right=campaign_desc_raw,on='CAMPAIGN',how='left')"
   ]
  },
  {
   "cell_type": "code",
   "execution_count": 74,
   "id": "1cd40861",
   "metadata": {},
   "outputs": [
    {
     "data": {
      "text/html": [
       "<div>\n",
       "<style scoped>\n",
       "    .dataframe tbody tr th:only-of-type {\n",
       "        vertical-align: middle;\n",
       "    }\n",
       "\n",
       "    .dataframe tbody tr th {\n",
       "        vertical-align: top;\n",
       "    }\n",
       "\n",
       "    .dataframe thead th {\n",
       "        text-align: right;\n",
       "    }\n",
       "</style>\n",
       "<table border=\"1\" class=\"dataframe\">\n",
       "  <thead>\n",
       "    <tr style=\"text-align: right;\">\n",
       "      <th></th>\n",
       "      <th>CAMPAIGN</th>\n",
       "      <th>Total_product</th>\n",
       "      <th>Total_Coupon_Given</th>\n",
       "      <th>DESCRIPTION</th>\n",
       "      <th>START_DAY</th>\n",
       "      <th>END_DAY</th>\n",
       "      <th>Start_date</th>\n",
       "      <th>End_date</th>\n",
       "      <th>Campaign_duration</th>\n",
       "      <th>Start_month</th>\n",
       "      <th>Start_year</th>\n",
       "      <th>End_month</th>\n",
       "      <th>End_year</th>\n",
       "    </tr>\n",
       "  </thead>\n",
       "  <tbody>\n",
       "    <tr>\n",
       "      <th>0</th>\n",
       "      <td>13</td>\n",
       "      <td>35616</td>\n",
       "      <td>207</td>\n",
       "      <td>TypeA</td>\n",
       "      <td>504</td>\n",
       "      <td>551</td>\n",
       "      <td>2021-05-19</td>\n",
       "      <td>2021-07-05</td>\n",
       "      <td>47</td>\n",
       "      <td>05</td>\n",
       "      <td>2021</td>\n",
       "      <td>07</td>\n",
       "      <td>2021</td>\n",
       "    </tr>\n",
       "    <tr>\n",
       "      <th>1</th>\n",
       "      <td>18</td>\n",
       "      <td>35513</td>\n",
       "      <td>209</td>\n",
       "      <td>TypeA</td>\n",
       "      <td>587</td>\n",
       "      <td>642</td>\n",
       "      <td>2021-08-10</td>\n",
       "      <td>2021-10-04</td>\n",
       "      <td>55</td>\n",
       "      <td>08</td>\n",
       "      <td>2021</td>\n",
       "      <td>10</td>\n",
       "      <td>2021</td>\n",
       "    </tr>\n",
       "    <tr>\n",
       "      <th>2</th>\n",
       "      <td>8</td>\n",
       "      <td>17178</td>\n",
       "      <td>209</td>\n",
       "      <td>TypeA</td>\n",
       "      <td>412</td>\n",
       "      <td>460</td>\n",
       "      <td>2021-02-16</td>\n",
       "      <td>2021-04-05</td>\n",
       "      <td>48</td>\n",
       "      <td>02</td>\n",
       "      <td>2021</td>\n",
       "      <td>04</td>\n",
       "      <td>2021</td>\n",
       "    </tr>\n",
       "    <tr>\n",
       "      <th>3</th>\n",
       "      <td>26</td>\n",
       "      <td>3396</td>\n",
       "      <td>181</td>\n",
       "      <td>TypeA</td>\n",
       "      <td>224</td>\n",
       "      <td>264</td>\n",
       "      <td>2020-08-12</td>\n",
       "      <td>2020-09-21</td>\n",
       "      <td>40</td>\n",
       "      <td>08</td>\n",
       "      <td>2020</td>\n",
       "      <td>09</td>\n",
       "      <td>2020</td>\n",
       "    </tr>\n",
       "    <tr>\n",
       "      <th>4</th>\n",
       "      <td>30</td>\n",
       "      <td>3205</td>\n",
       "      <td>181</td>\n",
       "      <td>TypeA</td>\n",
       "      <td>323</td>\n",
       "      <td>369</td>\n",
       "      <td>2020-11-19</td>\n",
       "      <td>2021-01-04</td>\n",
       "      <td>46</td>\n",
       "      <td>11</td>\n",
       "      <td>2020</td>\n",
       "      <td>01</td>\n",
       "      <td>2021</td>\n",
       "    </tr>\n",
       "    <tr>\n",
       "      <th>5</th>\n",
       "      <td>22</td>\n",
       "      <td>1917</td>\n",
       "      <td>21</td>\n",
       "      <td>TypeB</td>\n",
       "      <td>624</td>\n",
       "      <td>656</td>\n",
       "      <td>2021-09-16</td>\n",
       "      <td>2021-10-18</td>\n",
       "      <td>32</td>\n",
       "      <td>09</td>\n",
       "      <td>2021</td>\n",
       "      <td>10</td>\n",
       "      <td>2021</td>\n",
       "    </tr>\n",
       "    <tr>\n",
       "      <th>6</th>\n",
       "      <td>24</td>\n",
       "      <td>1887</td>\n",
       "      <td>2</td>\n",
       "      <td>TypeB</td>\n",
       "      <td>659</td>\n",
       "      <td>719</td>\n",
       "      <td>2021-10-21</td>\n",
       "      <td>2021-12-20</td>\n",
       "      <td>60</td>\n",
       "      <td>10</td>\n",
       "      <td>2021</td>\n",
       "      <td>12</td>\n",
       "      <td>2021</td>\n",
       "    </tr>\n",
       "    <tr>\n",
       "      <th>7</th>\n",
       "      <td>16</td>\n",
       "      <td>1025</td>\n",
       "      <td>13</td>\n",
       "      <td>TypeB</td>\n",
       "      <td>561</td>\n",
       "      <td>593</td>\n",
       "      <td>2021-07-15</td>\n",
       "      <td>2021-08-16</td>\n",
       "      <td>32</td>\n",
       "      <td>07</td>\n",
       "      <td>2021</td>\n",
       "      <td>08</td>\n",
       "      <td>2021</td>\n",
       "    </tr>\n",
       "    <tr>\n",
       "      <th>8</th>\n",
       "      <td>25</td>\n",
       "      <td>826</td>\n",
       "      <td>17</td>\n",
       "      <td>TypeB</td>\n",
       "      <td>659</td>\n",
       "      <td>691</td>\n",
       "      <td>2021-10-21</td>\n",
       "      <td>2021-11-22</td>\n",
       "      <td>32</td>\n",
       "      <td>10</td>\n",
       "      <td>2021</td>\n",
       "      <td>11</td>\n",
       "      <td>2021</td>\n",
       "    </tr>\n",
       "    <tr>\n",
       "      <th>9</th>\n",
       "      <td>9</td>\n",
       "      <td>825</td>\n",
       "      <td>18</td>\n",
       "      <td>TypeB</td>\n",
       "      <td>435</td>\n",
       "      <td>467</td>\n",
       "      <td>2021-03-11</td>\n",
       "      <td>2021-04-12</td>\n",
       "      <td>32</td>\n",
       "      <td>03</td>\n",
       "      <td>2021</td>\n",
       "      <td>04</td>\n",
       "      <td>2021</td>\n",
       "    </tr>\n",
       "  </tbody>\n",
       "</table>\n",
       "</div>"
      ],
      "text/plain": [
       "   CAMPAIGN  Total_product  Total_Coupon_Given DESCRIPTION  START_DAY  \\\n",
       "0        13          35616                 207       TypeA        504   \n",
       "1        18          35513                 209       TypeA        587   \n",
       "2         8          17178                 209       TypeA        412   \n",
       "3        26           3396                 181       TypeA        224   \n",
       "4        30           3205                 181       TypeA        323   \n",
       "5        22           1917                  21       TypeB        624   \n",
       "6        24           1887                   2       TypeB        659   \n",
       "7        16           1025                  13       TypeB        561   \n",
       "8        25            826                  17       TypeB        659   \n",
       "9         9            825                  18       TypeB        435   \n",
       "\n",
       "   END_DAY Start_date   End_date  Campaign_duration Start_month  Start_year  \\\n",
       "0      551 2021-05-19 2021-07-05                 47          05        2021   \n",
       "1      642 2021-08-10 2021-10-04                 55          08        2021   \n",
       "2      460 2021-02-16 2021-04-05                 48          02        2021   \n",
       "3      264 2020-08-12 2020-09-21                 40          08        2020   \n",
       "4      369 2020-11-19 2021-01-04                 46          11        2020   \n",
       "5      656 2021-09-16 2021-10-18                 32          09        2021   \n",
       "6      719 2021-10-21 2021-12-20                 60          10        2021   \n",
       "7      593 2021-07-15 2021-08-16                 32          07        2021   \n",
       "8      691 2021-10-21 2021-11-22                 32          10        2021   \n",
       "9      467 2021-03-11 2021-04-12                 32          03        2021   \n",
       "\n",
       "  End_month  End_year  \n",
       "0        07      2021  \n",
       "1        10      2021  \n",
       "2        04      2021  \n",
       "3        09      2020  \n",
       "4        01      2021  \n",
       "5        10      2021  \n",
       "6        12      2021  \n",
       "7        08      2021  \n",
       "8        11      2021  \n",
       "9        04      2021  "
      ]
     },
     "execution_count": 74,
     "metadata": {},
     "output_type": "execute_result"
    }
   ],
   "source": [
    "coupon_given.head(10)"
   ]
  },
  {
   "cell_type": "code",
   "execution_count": 75,
   "id": "65904eaf",
   "metadata": {},
   "outputs": [
    {
     "data": {
      "text/plain": [
       "CAMPAIGN              0\n",
       "Total_product         0\n",
       "Total_Coupon_Given    0\n",
       "DESCRIPTION           0\n",
       "START_DAY             0\n",
       "END_DAY               0\n",
       "Start_date            0\n",
       "End_date              0\n",
       "Campaign_duration     0\n",
       "Start_month           0\n",
       "Start_year            0\n",
       "End_month             0\n",
       "End_year              0\n",
       "dtype: int64"
      ]
     },
     "execution_count": 75,
     "metadata": {},
     "output_type": "execute_result"
    }
   ],
   "source": [
    "coupon_given.isnull().sum()"
   ]
  },
  {
   "cell_type": "code",
   "execution_count": 76,
   "id": "560154bb",
   "metadata": {},
   "outputs": [
    {
     "data": {
      "text/plain": [
       "Index(['CAMPAIGN', 'Total_product', 'Total_Coupon_Given', 'DESCRIPTION',\n",
       "       'START_DAY', 'END_DAY', 'Start_date', 'End_date', 'Campaign_duration',\n",
       "       'Start_month', 'Start_year', 'End_month', 'End_year'],\n",
       "      dtype='object')"
      ]
     },
     "execution_count": 76,
     "metadata": {},
     "output_type": "execute_result"
    }
   ],
   "source": [
    "coupon_given.columns"
   ]
  },
  {
   "cell_type": "code",
   "execution_count": 77,
   "id": "16ab85ac",
   "metadata": {
    "scrolled": true
   },
   "outputs": [
    {
     "data": {
      "text/html": [
       "<div>\n",
       "<style scoped>\n",
       "    .dataframe tbody tr th:only-of-type {\n",
       "        vertical-align: middle;\n",
       "    }\n",
       "\n",
       "    .dataframe tbody tr th {\n",
       "        vertical-align: top;\n",
       "    }\n",
       "\n",
       "    .dataframe thead th {\n",
       "        text-align: right;\n",
       "    }\n",
       "</style>\n",
       "<table border=\"1\" class=\"dataframe\">\n",
       "  <thead>\n",
       "    <tr style=\"text-align: right;\">\n",
       "      <th></th>\n",
       "      <th>CAMPAIGN</th>\n",
       "      <th>Total_product</th>\n",
       "      <th>Total_Coupon_Given</th>\n",
       "      <th>Start_month</th>\n",
       "      <th>Start_year</th>\n",
       "      <th>End_month</th>\n",
       "      <th>End_year</th>\n",
       "      <th>DESCRIPTION</th>\n",
       "      <th>Campaign_duration</th>\n",
       "    </tr>\n",
       "  </thead>\n",
       "  <tbody>\n",
       "    <tr>\n",
       "      <th>0</th>\n",
       "      <td>13</td>\n",
       "      <td>35616</td>\n",
       "      <td>207</td>\n",
       "      <td>05</td>\n",
       "      <td>2021</td>\n",
       "      <td>07</td>\n",
       "      <td>2021</td>\n",
       "      <td>TypeA</td>\n",
       "      <td>47</td>\n",
       "    </tr>\n",
       "    <tr>\n",
       "      <th>1</th>\n",
       "      <td>18</td>\n",
       "      <td>35513</td>\n",
       "      <td>209</td>\n",
       "      <td>08</td>\n",
       "      <td>2021</td>\n",
       "      <td>10</td>\n",
       "      <td>2021</td>\n",
       "      <td>TypeA</td>\n",
       "      <td>55</td>\n",
       "    </tr>\n",
       "    <tr>\n",
       "      <th>2</th>\n",
       "      <td>8</td>\n",
       "      <td>17178</td>\n",
       "      <td>209</td>\n",
       "      <td>02</td>\n",
       "      <td>2021</td>\n",
       "      <td>04</td>\n",
       "      <td>2021</td>\n",
       "      <td>TypeA</td>\n",
       "      <td>48</td>\n",
       "    </tr>\n",
       "    <tr>\n",
       "      <th>3</th>\n",
       "      <td>26</td>\n",
       "      <td>3396</td>\n",
       "      <td>181</td>\n",
       "      <td>08</td>\n",
       "      <td>2020</td>\n",
       "      <td>09</td>\n",
       "      <td>2020</td>\n",
       "      <td>TypeA</td>\n",
       "      <td>40</td>\n",
       "    </tr>\n",
       "    <tr>\n",
       "      <th>4</th>\n",
       "      <td>30</td>\n",
       "      <td>3205</td>\n",
       "      <td>181</td>\n",
       "      <td>11</td>\n",
       "      <td>2020</td>\n",
       "      <td>01</td>\n",
       "      <td>2021</td>\n",
       "      <td>TypeA</td>\n",
       "      <td>46</td>\n",
       "    </tr>\n",
       "    <tr>\n",
       "      <th>5</th>\n",
       "      <td>22</td>\n",
       "      <td>1917</td>\n",
       "      <td>21</td>\n",
       "      <td>09</td>\n",
       "      <td>2021</td>\n",
       "      <td>10</td>\n",
       "      <td>2021</td>\n",
       "      <td>TypeB</td>\n",
       "      <td>32</td>\n",
       "    </tr>\n",
       "    <tr>\n",
       "      <th>6</th>\n",
       "      <td>24</td>\n",
       "      <td>1887</td>\n",
       "      <td>2</td>\n",
       "      <td>10</td>\n",
       "      <td>2021</td>\n",
       "      <td>12</td>\n",
       "      <td>2021</td>\n",
       "      <td>TypeB</td>\n",
       "      <td>60</td>\n",
       "    </tr>\n",
       "    <tr>\n",
       "      <th>7</th>\n",
       "      <td>16</td>\n",
       "      <td>1025</td>\n",
       "      <td>13</td>\n",
       "      <td>07</td>\n",
       "      <td>2021</td>\n",
       "      <td>08</td>\n",
       "      <td>2021</td>\n",
       "      <td>TypeB</td>\n",
       "      <td>32</td>\n",
       "    </tr>\n",
       "    <tr>\n",
       "      <th>8</th>\n",
       "      <td>25</td>\n",
       "      <td>826</td>\n",
       "      <td>17</td>\n",
       "      <td>10</td>\n",
       "      <td>2021</td>\n",
       "      <td>11</td>\n",
       "      <td>2021</td>\n",
       "      <td>TypeB</td>\n",
       "      <td>32</td>\n",
       "    </tr>\n",
       "    <tr>\n",
       "      <th>9</th>\n",
       "      <td>9</td>\n",
       "      <td>825</td>\n",
       "      <td>18</td>\n",
       "      <td>03</td>\n",
       "      <td>2021</td>\n",
       "      <td>04</td>\n",
       "      <td>2021</td>\n",
       "      <td>TypeB</td>\n",
       "      <td>32</td>\n",
       "    </tr>\n",
       "  </tbody>\n",
       "</table>\n",
       "</div>"
      ],
      "text/plain": [
       "   CAMPAIGN  Total_product  Total_Coupon_Given Start_month  Start_year  \\\n",
       "0        13          35616                 207          05        2021   \n",
       "1        18          35513                 209          08        2021   \n",
       "2         8          17178                 209          02        2021   \n",
       "3        26           3396                 181          08        2020   \n",
       "4        30           3205                 181          11        2020   \n",
       "5        22           1917                  21          09        2021   \n",
       "6        24           1887                   2          10        2021   \n",
       "7        16           1025                  13          07        2021   \n",
       "8        25            826                  17          10        2021   \n",
       "9         9            825                  18          03        2021   \n",
       "\n",
       "  End_month  End_year DESCRIPTION  Campaign_duration  \n",
       "0        07      2021       TypeA                 47  \n",
       "1        10      2021       TypeA                 55  \n",
       "2        04      2021       TypeA                 48  \n",
       "3        09      2020       TypeA                 40  \n",
       "4        01      2021       TypeA                 46  \n",
       "5        10      2021       TypeB                 32  \n",
       "6        12      2021       TypeB                 60  \n",
       "7        08      2021       TypeB                 32  \n",
       "8        11      2021       TypeB                 32  \n",
       "9        04      2021       TypeB                 32  "
      ]
     },
     "execution_count": 77,
     "metadata": {},
     "output_type": "execute_result"
    }
   ],
   "source": [
    "coupon_given.loc[:,('CAMPAIGN','Total_product', 'Total_Coupon_Given','Start_month','Start_year', 'End_month','End_year','DESCRIPTION','Campaign_duration')].sort_values(by='Total_product',\n",
    "ascending=False).head(10)"
   ]
  },
  {
   "cell_type": "code",
   "execution_count": 78,
   "id": "f8d460f6",
   "metadata": {},
   "outputs": [
    {
     "data": {
      "text/html": [
       "<div>\n",
       "<style scoped>\n",
       "    .dataframe tbody tr th:only-of-type {\n",
       "        vertical-align: middle;\n",
       "    }\n",
       "\n",
       "    .dataframe tbody tr th {\n",
       "        vertical-align: top;\n",
       "    }\n",
       "\n",
       "    .dataframe thead th {\n",
       "        text-align: right;\n",
       "    }\n",
       "</style>\n",
       "<table border=\"1\" class=\"dataframe\">\n",
       "  <thead>\n",
       "    <tr style=\"text-align: right;\">\n",
       "      <th></th>\n",
       "      <th>PRODUCT_ID</th>\n",
       "      <th>MANUFACTURER</th>\n",
       "      <th>DEPARTMENT</th>\n",
       "      <th>BRAND</th>\n",
       "      <th>COMMODITY_DESC</th>\n",
       "      <th>SUB_COMMODITY_DESC</th>\n",
       "      <th>CURR_SIZE_OF_PRODUCT</th>\n",
       "    </tr>\n",
       "  </thead>\n",
       "  <tbody>\n",
       "    <tr>\n",
       "      <th>0</th>\n",
       "      <td>25671</td>\n",
       "      <td>2</td>\n",
       "      <td>GROCERY</td>\n",
       "      <td>National</td>\n",
       "      <td>FRZN ICE</td>\n",
       "      <td>ICE - CRUSHED/CUBED</td>\n",
       "      <td>22 LB</td>\n",
       "    </tr>\n",
       "    <tr>\n",
       "      <th>1</th>\n",
       "      <td>26081</td>\n",
       "      <td>2</td>\n",
       "      <td>MISC. TRANS.</td>\n",
       "      <td>National</td>\n",
       "      <td>NO COMMODITY DESCRIPTION</td>\n",
       "      <td>NO SUBCOMMODITY DESCRIPTION</td>\n",
       "      <td></td>\n",
       "    </tr>\n",
       "    <tr>\n",
       "      <th>2</th>\n",
       "      <td>26093</td>\n",
       "      <td>69</td>\n",
       "      <td>PASTRY</td>\n",
       "      <td>Private</td>\n",
       "      <td>BREAD</td>\n",
       "      <td>BREAD:ITALIAN/FRENCH</td>\n",
       "      <td></td>\n",
       "    </tr>\n",
       "    <tr>\n",
       "      <th>3</th>\n",
       "      <td>26190</td>\n",
       "      <td>69</td>\n",
       "      <td>GROCERY</td>\n",
       "      <td>Private</td>\n",
       "      <td>FRUIT - SHELF STABLE</td>\n",
       "      <td>APPLE SAUCE</td>\n",
       "      <td>50 OZ</td>\n",
       "    </tr>\n",
       "    <tr>\n",
       "      <th>4</th>\n",
       "      <td>26355</td>\n",
       "      <td>69</td>\n",
       "      <td>GROCERY</td>\n",
       "      <td>Private</td>\n",
       "      <td>COOKIES/CONES</td>\n",
       "      <td>SPECIALTY COOKIES</td>\n",
       "      <td>14 OZ</td>\n",
       "    </tr>\n",
       "  </tbody>\n",
       "</table>\n",
       "</div>"
      ],
      "text/plain": [
       "   PRODUCT_ID  MANUFACTURER    DEPARTMENT     BRAND            COMMODITY_DESC  \\\n",
       "0       25671             2       GROCERY  National                  FRZN ICE   \n",
       "1       26081             2  MISC. TRANS.  National  NO COMMODITY DESCRIPTION   \n",
       "2       26093            69        PASTRY   Private                     BREAD   \n",
       "3       26190            69       GROCERY   Private      FRUIT - SHELF STABLE   \n",
       "4       26355            69       GROCERY   Private             COOKIES/CONES   \n",
       "\n",
       "            SUB_COMMODITY_DESC CURR_SIZE_OF_PRODUCT  \n",
       "0          ICE - CRUSHED/CUBED                22 LB  \n",
       "1  NO SUBCOMMODITY DESCRIPTION                       \n",
       "2         BREAD:ITALIAN/FRENCH                       \n",
       "3                  APPLE SAUCE                50 OZ  \n",
       "4            SPECIALTY COOKIES                14 OZ  "
      ]
     },
     "execution_count": 78,
     "metadata": {},
     "output_type": "execute_result"
    }
   ],
   "source": [
    "product_raw.head()"
   ]
  },
  {
   "cell_type": "code",
   "execution_count": 79,
   "id": "fee80e9b",
   "metadata": {},
   "outputs": [
    {
     "data": {
      "text/html": [
       "<div>\n",
       "<style scoped>\n",
       "    .dataframe tbody tr th:only-of-type {\n",
       "        vertical-align: middle;\n",
       "    }\n",
       "\n",
       "    .dataframe tbody tr th {\n",
       "        vertical-align: top;\n",
       "    }\n",
       "\n",
       "    .dataframe thead th {\n",
       "        text-align: right;\n",
       "    }\n",
       "</style>\n",
       "<table border=\"1\" class=\"dataframe\">\n",
       "  <thead>\n",
       "    <tr style=\"text-align: right;\">\n",
       "      <th></th>\n",
       "      <th>COUPON_UPC</th>\n",
       "      <th>PRODUCT_ID</th>\n",
       "      <th>CAMPAIGN</th>\n",
       "    </tr>\n",
       "  </thead>\n",
       "  <tbody>\n",
       "    <tr>\n",
       "      <th>0</th>\n",
       "      <td>10000089061</td>\n",
       "      <td>27160</td>\n",
       "      <td>4</td>\n",
       "    </tr>\n",
       "    <tr>\n",
       "      <th>1</th>\n",
       "      <td>10000089064</td>\n",
       "      <td>27754</td>\n",
       "      <td>9</td>\n",
       "    </tr>\n",
       "    <tr>\n",
       "      <th>2</th>\n",
       "      <td>10000089073</td>\n",
       "      <td>28897</td>\n",
       "      <td>12</td>\n",
       "    </tr>\n",
       "    <tr>\n",
       "      <th>3</th>\n",
       "      <td>51800009050</td>\n",
       "      <td>28919</td>\n",
       "      <td>28</td>\n",
       "    </tr>\n",
       "    <tr>\n",
       "      <th>4</th>\n",
       "      <td>52100000076</td>\n",
       "      <td>28929</td>\n",
       "      <td>25</td>\n",
       "    </tr>\n",
       "  </tbody>\n",
       "</table>\n",
       "</div>"
      ],
      "text/plain": [
       "    COUPON_UPC  PRODUCT_ID  CAMPAIGN\n",
       "0  10000089061       27160         4\n",
       "1  10000089064       27754         9\n",
       "2  10000089073       28897        12\n",
       "3  51800009050       28919        28\n",
       "4  52100000076       28929        25"
      ]
     },
     "execution_count": 79,
     "metadata": {},
     "output_type": "execute_result"
    }
   ],
   "source": [
    "coupon_raw.head()"
   ]
  },
  {
   "cell_type": "code",
   "execution_count": 80,
   "id": "c1243e43",
   "metadata": {},
   "outputs": [],
   "source": [
    "coupon_product = coupon_raw.merge(right=product_raw,on='PRODUCT_ID',how='left')"
   ]
  },
  {
   "cell_type": "code",
   "execution_count": 81,
   "id": "af357ad7",
   "metadata": {},
   "outputs": [
    {
     "data": {
      "text/html": [
       "<div>\n",
       "<style scoped>\n",
       "    .dataframe tbody tr th:only-of-type {\n",
       "        vertical-align: middle;\n",
       "    }\n",
       "\n",
       "    .dataframe tbody tr th {\n",
       "        vertical-align: top;\n",
       "    }\n",
       "\n",
       "    .dataframe thead th {\n",
       "        text-align: right;\n",
       "    }\n",
       "</style>\n",
       "<table border=\"1\" class=\"dataframe\">\n",
       "  <thead>\n",
       "    <tr style=\"text-align: right;\">\n",
       "      <th></th>\n",
       "      <th>COUPON_UPC</th>\n",
       "      <th>PRODUCT_ID</th>\n",
       "      <th>CAMPAIGN</th>\n",
       "      <th>MANUFACTURER</th>\n",
       "      <th>DEPARTMENT</th>\n",
       "      <th>BRAND</th>\n",
       "      <th>COMMODITY_DESC</th>\n",
       "      <th>SUB_COMMODITY_DESC</th>\n",
       "      <th>CURR_SIZE_OF_PRODUCT</th>\n",
       "    </tr>\n",
       "  </thead>\n",
       "  <tbody>\n",
       "    <tr>\n",
       "      <th>0</th>\n",
       "      <td>10000089061</td>\n",
       "      <td>27160</td>\n",
       "      <td>4</td>\n",
       "      <td>69</td>\n",
       "      <td>GROCERY</td>\n",
       "      <td>Private</td>\n",
       "      <td>SHORTENING/OIL</td>\n",
       "      <td>VEGETABLE/SALAD OIL</td>\n",
       "      <td>48 OZ</td>\n",
       "    </tr>\n",
       "    <tr>\n",
       "      <th>1</th>\n",
       "      <td>10000089064</td>\n",
       "      <td>27754</td>\n",
       "      <td>9</td>\n",
       "      <td>69</td>\n",
       "      <td>GROCERY</td>\n",
       "      <td>Private</td>\n",
       "      <td>FRZN VEGETABLE/VEG DSH</td>\n",
       "      <td>FRZN BAGGED VEGETABLES - PLAIN</td>\n",
       "      <td>16 OZ</td>\n",
       "    </tr>\n",
       "    <tr>\n",
       "      <th>2</th>\n",
       "      <td>10000089073</td>\n",
       "      <td>28897</td>\n",
       "      <td>12</td>\n",
       "      <td>69</td>\n",
       "      <td>GROCERY</td>\n",
       "      <td>Private</td>\n",
       "      <td>EGGS</td>\n",
       "      <td>EGGS - X-LARGE</td>\n",
       "      <td>A D   1 DZ</td>\n",
       "    </tr>\n",
       "    <tr>\n",
       "      <th>3</th>\n",
       "      <td>51800009050</td>\n",
       "      <td>28919</td>\n",
       "      <td>28</td>\n",
       "      <td>236</td>\n",
       "      <td>GROCERY</td>\n",
       "      <td>National</td>\n",
       "      <td>REFRGRATD DOUGH PRODUCTS</td>\n",
       "      <td>REFRIGERATED COOKIES-CHUB</td>\n",
       "      <td>16.5 OZ</td>\n",
       "    </tr>\n",
       "    <tr>\n",
       "      <th>4</th>\n",
       "      <td>52100000076</td>\n",
       "      <td>28929</td>\n",
       "      <td>25</td>\n",
       "      <td>317</td>\n",
       "      <td>GROCERY</td>\n",
       "      <td>National</td>\n",
       "      <td>CHEESE</td>\n",
       "      <td>STRING CHEESE</td>\n",
       "      <td>AB    8 OZ</td>\n",
       "    </tr>\n",
       "  </tbody>\n",
       "</table>\n",
       "</div>"
      ],
      "text/plain": [
       "    COUPON_UPC  PRODUCT_ID  CAMPAIGN  MANUFACTURER DEPARTMENT     BRAND  \\\n",
       "0  10000089061       27160         4            69    GROCERY   Private   \n",
       "1  10000089064       27754         9            69    GROCERY   Private   \n",
       "2  10000089073       28897        12            69    GROCERY   Private   \n",
       "3  51800009050       28919        28           236    GROCERY  National   \n",
       "4  52100000076       28929        25           317    GROCERY  National   \n",
       "\n",
       "             COMMODITY_DESC              SUB_COMMODITY_DESC  \\\n",
       "0            SHORTENING/OIL             VEGETABLE/SALAD OIL   \n",
       "1    FRZN VEGETABLE/VEG DSH  FRZN BAGGED VEGETABLES - PLAIN   \n",
       "2                      EGGS                  EGGS - X-LARGE   \n",
       "3  REFRGRATD DOUGH PRODUCTS       REFRIGERATED COOKIES-CHUB   \n",
       "4                    CHEESE                   STRING CHEESE   \n",
       "\n",
       "  CURR_SIZE_OF_PRODUCT  \n",
       "0                48 OZ  \n",
       "1                16 OZ  \n",
       "2           A D   1 DZ  \n",
       "3              16.5 OZ  \n",
       "4           AB    8 OZ  "
      ]
     },
     "execution_count": 81,
     "metadata": {},
     "output_type": "execute_result"
    }
   ],
   "source": [
    "coupon_product.head()"
   ]
  },
  {
   "cell_type": "code",
   "execution_count": 82,
   "id": "acc53378",
   "metadata": {},
   "outputs": [
    {
     "data": {
      "text/plain": [
       "COUPON_UPC              0\n",
       "PRODUCT_ID              0\n",
       "CAMPAIGN                0\n",
       "MANUFACTURER            0\n",
       "DEPARTMENT              0\n",
       "BRAND                   0\n",
       "COMMODITY_DESC          0\n",
       "SUB_COMMODITY_DESC      0\n",
       "CURR_SIZE_OF_PRODUCT    0\n",
       "dtype: int64"
      ]
     },
     "execution_count": 82,
     "metadata": {},
     "output_type": "execute_result"
    }
   ],
   "source": [
    "coupon_product.isnull().sum()"
   ]
  },
  {
   "cell_type": "code",
   "execution_count": 83,
   "id": "0f23173a",
   "metadata": {},
   "outputs": [
    {
     "data": {
      "text/html": [
       "<div>\n",
       "<style scoped>\n",
       "    .dataframe tbody tr th:only-of-type {\n",
       "        vertical-align: middle;\n",
       "    }\n",
       "\n",
       "    .dataframe tbody tr th {\n",
       "        vertical-align: top;\n",
       "    }\n",
       "\n",
       "    .dataframe thead th {\n",
       "        text-align: right;\n",
       "    }\n",
       "</style>\n",
       "<table border=\"1\" class=\"dataframe\">\n",
       "  <thead>\n",
       "    <tr style=\"text-align: right;\">\n",
       "      <th></th>\n",
       "      <th>Count</th>\n",
       "    </tr>\n",
       "    <tr>\n",
       "      <th>DEPARTMENT</th>\n",
       "      <th></th>\n",
       "    </tr>\n",
       "  </thead>\n",
       "  <tbody>\n",
       "    <tr>\n",
       "      <th>GROCERY</th>\n",
       "      <td>51507</td>\n",
       "    </tr>\n",
       "    <tr>\n",
       "      <th>DRUG GM</th>\n",
       "      <td>33780</td>\n",
       "    </tr>\n",
       "    <tr>\n",
       "      <th>PRODUCE</th>\n",
       "      <td>8276</td>\n",
       "    </tr>\n",
       "    <tr>\n",
       "      <th>MEAT</th>\n",
       "      <td>7548</td>\n",
       "    </tr>\n",
       "    <tr>\n",
       "      <th>MEAT-PCKGD</th>\n",
       "      <td>7547</td>\n",
       "    </tr>\n",
       "    <tr>\n",
       "      <th>COSMETICS</th>\n",
       "      <td>6618</td>\n",
       "    </tr>\n",
       "    <tr>\n",
       "      <th>FLORAL</th>\n",
       "      <td>2673</td>\n",
       "    </tr>\n",
       "    <tr>\n",
       "      <th>NUTRITION</th>\n",
       "      <td>2281</td>\n",
       "    </tr>\n",
       "    <tr>\n",
       "      <th>SEAFOOD-PCKGD</th>\n",
       "      <td>2192</td>\n",
       "    </tr>\n",
       "    <tr>\n",
       "      <th>SEAFOOD</th>\n",
       "      <td>751</td>\n",
       "    </tr>\n",
       "  </tbody>\n",
       "</table>\n",
       "</div>"
      ],
      "text/plain": [
       "               Count\n",
       "DEPARTMENT          \n",
       "GROCERY        51507\n",
       "DRUG GM        33780\n",
       "PRODUCE         8276\n",
       "MEAT            7548\n",
       "MEAT-PCKGD      7547\n",
       "COSMETICS       6618\n",
       "FLORAL          2673\n",
       "NUTRITION       2281\n",
       "SEAFOOD-PCKGD   2192\n",
       "SEAFOOD          751"
      ]
     },
     "execution_count": 83,
     "metadata": {},
     "output_type": "execute_result"
    }
   ],
   "source": [
    "coupon_product.groupby('DEPARTMENT').aggregate(Count=('CAMPAIGN','count')).sort_values(by='Count',ascending=False).head(10)"
   ]
  },
  {
   "cell_type": "markdown",
   "id": "02b9bdff",
   "metadata": {},
   "source": [
    "## Grocery , Drug GM , Produce have conducted highest campaign "
   ]
  },
  {
   "cell_type": "code",
   "execution_count": 84,
   "id": "1e7da09a",
   "metadata": {},
   "outputs": [
    {
     "data": {
      "text/plain": [
       "HAIR CARE PRODUCTS        6261\n",
       "MAKEUP AND TREATMENT      5585\n",
       "FRZN MEAT/MEAT DINNERS    4893\n",
       "FROZEN PIZZA              3658\n",
       "BEEF                      3314\n",
       "                          ... \n",
       "SUSHI                        2\n",
       "BOOKSTORE                    1\n",
       "COFFEE SHOP                  1\n",
       "TICKETS                      1\n",
       "BEVERAGE                     1\n",
       "Name: COMMODITY_DESC, Length: 266, dtype: int64"
      ]
     },
     "execution_count": 84,
     "metadata": {},
     "output_type": "execute_result"
    }
   ],
   "source": [
    "coupon_product['COMMODITY_DESC'].value_counts()"
   ]
  },
  {
   "cell_type": "code",
   "execution_count": 85,
   "id": "377008ba",
   "metadata": {},
   "outputs": [
    {
     "data": {
      "text/plain": [
       "266"
      ]
     },
     "execution_count": 85,
     "metadata": {},
     "output_type": "execute_result"
    }
   ],
   "source": [
    "coupon_product['COMMODITY_DESC'].nunique()"
   ]
  },
  {
   "cell_type": "markdown",
   "id": "c4df7158",
   "metadata": {},
   "source": [
    "Most prominent products among coupons created are bathroom products such as hair care and makeup"
   ]
  },
  {
   "cell_type": "code",
   "execution_count": 86,
   "id": "edf0da44",
   "metadata": {},
   "outputs": [
    {
     "data": {
      "text/plain": [
       "(2318, 5)"
      ]
     },
     "execution_count": 86,
     "metadata": {},
     "output_type": "execute_result"
    }
   ],
   "source": [
    "coupon_redempt_raw.shape"
   ]
  },
  {
   "cell_type": "code",
   "execution_count": 87,
   "id": "e3690ddd",
   "metadata": {},
   "outputs": [
    {
     "data": {
      "text/plain": [
       "Index(['HOUSEHOLD_KEY', 'DAY', 'COUPON_UPC', 'CAMPAIGN', 'Date'], dtype='object')"
      ]
     },
     "execution_count": 87,
     "metadata": {},
     "output_type": "execute_result"
    }
   ],
   "source": [
    "coupon_redempt_raw.columns"
   ]
  },
  {
   "cell_type": "code",
   "execution_count": 88,
   "id": "4e75b3ff",
   "metadata": {},
   "outputs": [
    {
     "data": {
      "text/plain": [
       "556"
      ]
     },
     "execution_count": 88,
     "metadata": {},
     "output_type": "execute_result"
    }
   ],
   "source": [
    "coupon_redempt_raw['COUPON_UPC'].nunique()"
   ]
  },
  {
   "cell_type": "markdown",
   "id": "88d0a84c",
   "metadata": {},
   "source": [
    "only 556 out of 1135 have been used"
   ]
  },
  {
   "cell_type": "code",
   "execution_count": 89,
   "id": "c1c785fe",
   "metadata": {},
   "outputs": [
    {
     "data": {
      "text/plain": [
       "<Axes: xlabel='CAMPAIGN'>"
      ]
     },
     "execution_count": 89,
     "metadata": {},
     "output_type": "execute_result"
    },
    {
     "data": {
      "image/png": "[encoded data removed]",
      "text/plain": [
       "<Figure size 640x480 with 1 Axes>"
      ]
     },
     "metadata": {},
     "output_type": "display_data"
    }
   ],
   "source": [
    "coupon_redempt_raw.groupby('CAMPAIGN').agg(Total_coup_redem = ('COUPON_UPC','nunique')).sort_values(by='Total_coup_redem',ascending=False).plot.bar()"
   ]
  },
  {
   "cell_type": "code",
   "execution_count": 90,
   "id": "a401a597",
   "metadata": {},
   "outputs": [],
   "source": [
    "coupon_redeem = coupon_redempt_raw.groupby('CAMPAIGN').agg(Total_coup_redem = ('COUPON_UPC','nunique'))"
   ]
  },
  {
   "cell_type": "code",
   "execution_count": 91,
   "id": "a82da94a",
   "metadata": {},
   "outputs": [
    {
     "data": {
      "text/html": [
       "<div>\n",
       "<style scoped>\n",
       "    .dataframe tbody tr th:only-of-type {\n",
       "        vertical-align: middle;\n",
       "    }\n",
       "\n",
       "    .dataframe tbody tr th {\n",
       "        vertical-align: top;\n",
       "    }\n",
       "\n",
       "    .dataframe thead th {\n",
       "        text-align: right;\n",
       "    }\n",
       "</style>\n",
       "<table border=\"1\" class=\"dataframe\">\n",
       "  <thead>\n",
       "    <tr style=\"text-align: right;\">\n",
       "      <th></th>\n",
       "      <th>Total_coup_redem</th>\n",
       "    </tr>\n",
       "    <tr>\n",
       "      <th>CAMPAIGN</th>\n",
       "      <th></th>\n",
       "    </tr>\n",
       "  </thead>\n",
       "  <tbody>\n",
       "    <tr>\n",
       "      <th>13</th>\n",
       "      <td>129</td>\n",
       "    </tr>\n",
       "    <tr>\n",
       "      <th>18</th>\n",
       "      <td>121</td>\n",
       "    </tr>\n",
       "    <tr>\n",
       "      <th>8</th>\n",
       "      <td>105</td>\n",
       "    </tr>\n",
       "    <tr>\n",
       "      <th>26</th>\n",
       "      <td>53</td>\n",
       "    </tr>\n",
       "    <tr>\n",
       "      <th>30</th>\n",
       "      <td>41</td>\n",
       "    </tr>\n",
       "    <tr>\n",
       "      <th>29</th>\n",
       "      <td>17</td>\n",
       "    </tr>\n",
       "    <tr>\n",
       "      <th>23</th>\n",
       "      <td>16</td>\n",
       "    </tr>\n",
       "    <tr>\n",
       "      <th>25</th>\n",
       "      <td>15</td>\n",
       "    </tr>\n",
       "    <tr>\n",
       "      <th>20</th>\n",
       "      <td>15</td>\n",
       "    </tr>\n",
       "    <tr>\n",
       "      <th>9</th>\n",
       "      <td>14</td>\n",
       "    </tr>\n",
       "    <tr>\n",
       "      <th>14</th>\n",
       "      <td>14</td>\n",
       "    </tr>\n",
       "    <tr>\n",
       "      <th>17</th>\n",
       "      <td>13</td>\n",
       "    </tr>\n",
       "    <tr>\n",
       "      <th>22</th>\n",
       "      <td>12</td>\n",
       "    </tr>\n",
       "    <tr>\n",
       "      <th>12</th>\n",
       "      <td>11</td>\n",
       "    </tr>\n",
       "    <tr>\n",
       "      <th>16</th>\n",
       "      <td>10</td>\n",
       "    </tr>\n",
       "    <tr>\n",
       "      <th>19</th>\n",
       "      <td>9</td>\n",
       "    </tr>\n",
       "    <tr>\n",
       "      <th>10</th>\n",
       "      <td>7</td>\n",
       "    </tr>\n",
       "    <tr>\n",
       "      <th>11</th>\n",
       "      <td>6</td>\n",
       "    </tr>\n",
       "    <tr>\n",
       "      <th>4</th>\n",
       "      <td>6</td>\n",
       "    </tr>\n",
       "    <tr>\n",
       "      <th>21</th>\n",
       "      <td>5</td>\n",
       "    </tr>\n",
       "    <tr>\n",
       "      <th>7</th>\n",
       "      <td>5</td>\n",
       "    </tr>\n",
       "    <tr>\n",
       "      <th>5</th>\n",
       "      <td>5</td>\n",
       "    </tr>\n",
       "    <tr>\n",
       "      <th>2</th>\n",
       "      <td>4</td>\n",
       "    </tr>\n",
       "    <tr>\n",
       "      <th>15</th>\n",
       "      <td>2</td>\n",
       "    </tr>\n",
       "    <tr>\n",
       "      <th>24</th>\n",
       "      <td>2</td>\n",
       "    </tr>\n",
       "    <tr>\n",
       "      <th>3</th>\n",
       "      <td>2</td>\n",
       "    </tr>\n",
       "    <tr>\n",
       "      <th>6</th>\n",
       "      <td>1</td>\n",
       "    </tr>\n",
       "    <tr>\n",
       "      <th>27</th>\n",
       "      <td>1</td>\n",
       "    </tr>\n",
       "    <tr>\n",
       "      <th>28</th>\n",
       "      <td>1</td>\n",
       "    </tr>\n",
       "    <tr>\n",
       "      <th>1</th>\n",
       "      <td>1</td>\n",
       "    </tr>\n",
       "  </tbody>\n",
       "</table>\n",
       "</div>"
      ],
      "text/plain": [
       "          Total_coup_redem\n",
       "CAMPAIGN                  \n",
       "13                     129\n",
       "18                     121\n",
       "8                      105\n",
       "26                      53\n",
       "30                      41\n",
       "29                      17\n",
       "23                      16\n",
       "25                      15\n",
       "20                      15\n",
       "9                       14\n",
       "14                      14\n",
       "17                      13\n",
       "22                      12\n",
       "12                      11\n",
       "16                      10\n",
       "19                       9\n",
       "10                       7\n",
       "11                       6\n",
       "4                        6\n",
       "21                       5\n",
       "7                        5\n",
       "5                        5\n",
       "2                        4\n",
       "15                       2\n",
       "24                       2\n",
       "3                        2\n",
       "6                        1\n",
       "27                       1\n",
       "28                       1\n",
       "1                        1"
      ]
     },
     "execution_count": 91,
     "metadata": {},
     "output_type": "execute_result"
    }
   ],
   "source": [
    "coupon_redeem.sort_values(by='Total_coup_redem',ascending=False)"
   ]
  },
  {
   "cell_type": "code",
   "execution_count": 92,
   "id": "55586c56",
   "metadata": {},
   "outputs": [],
   "source": [
    "coupon_redeem = coupon_redeem.merge(right=coupon_given,on='CAMPAIGN',how='left')"
   ]
  },
  {
   "cell_type": "code",
   "execution_count": 93,
   "id": "29254a7d",
   "metadata": {},
   "outputs": [
    {
     "data": {
      "text/html": [
       "<div>\n",
       "<style scoped>\n",
       "    .dataframe tbody tr th:only-of-type {\n",
       "        vertical-align: middle;\n",
       "    }\n",
       "\n",
       "    .dataframe tbody tr th {\n",
       "        vertical-align: top;\n",
       "    }\n",
       "\n",
       "    .dataframe thead th {\n",
       "        text-align: right;\n",
       "    }\n",
       "</style>\n",
       "<table border=\"1\" class=\"dataframe\">\n",
       "  <thead>\n",
       "    <tr style=\"text-align: right;\">\n",
       "      <th></th>\n",
       "      <th>CAMPAIGN</th>\n",
       "      <th>Total_coup_redem</th>\n",
       "      <th>Total_product</th>\n",
       "      <th>Total_Coupon_Given</th>\n",
       "      <th>DESCRIPTION</th>\n",
       "      <th>START_DAY</th>\n",
       "      <th>END_DAY</th>\n",
       "      <th>Start_date</th>\n",
       "      <th>End_date</th>\n",
       "      <th>Campaign_duration</th>\n",
       "      <th>Start_month</th>\n",
       "      <th>Start_year</th>\n",
       "      <th>End_month</th>\n",
       "      <th>End_year</th>\n",
       "    </tr>\n",
       "  </thead>\n",
       "  <tbody>\n",
       "    <tr>\n",
       "      <th>0</th>\n",
       "      <td>1</td>\n",
       "      <td>1</td>\n",
       "      <td>383</td>\n",
       "      <td>11</td>\n",
       "      <td>TypeB</td>\n",
       "      <td>346</td>\n",
       "      <td>383</td>\n",
       "      <td>2020-12-12</td>\n",
       "      <td>2021-01-18</td>\n",
       "      <td>37</td>\n",
       "      <td>12</td>\n",
       "      <td>2020</td>\n",
       "      <td>01</td>\n",
       "      <td>2021</td>\n",
       "    </tr>\n",
       "    <tr>\n",
       "      <th>1</th>\n",
       "      <td>2</td>\n",
       "      <td>4</td>\n",
       "      <td>301</td>\n",
       "      <td>16</td>\n",
       "      <td>TypeB</td>\n",
       "      <td>351</td>\n",
       "      <td>383</td>\n",
       "      <td>2020-12-17</td>\n",
       "      <td>2021-01-18</td>\n",
       "      <td>32</td>\n",
       "      <td>12</td>\n",
       "      <td>2020</td>\n",
       "      <td>01</td>\n",
       "      <td>2021</td>\n",
       "    </tr>\n",
       "    <tr>\n",
       "      <th>2</th>\n",
       "      <td>3</td>\n",
       "      <td>2</td>\n",
       "      <td>506</td>\n",
       "      <td>34</td>\n",
       "      <td>TypeC</td>\n",
       "      <td>356</td>\n",
       "      <td>412</td>\n",
       "      <td>2020-12-22</td>\n",
       "      <td>2021-02-16</td>\n",
       "      <td>56</td>\n",
       "      <td>12</td>\n",
       "      <td>2020</td>\n",
       "      <td>02</td>\n",
       "      <td>2021</td>\n",
       "    </tr>\n",
       "    <tr>\n",
       "      <th>3</th>\n",
       "      <td>4</td>\n",
       "      <td>6</td>\n",
       "      <td>200</td>\n",
       "      <td>12</td>\n",
       "      <td>TypeB</td>\n",
       "      <td>372</td>\n",
       "      <td>404</td>\n",
       "      <td>2021-01-07</td>\n",
       "      <td>2021-02-08</td>\n",
       "      <td>32</td>\n",
       "      <td>01</td>\n",
       "      <td>2021</td>\n",
       "      <td>02</td>\n",
       "      <td>2021</td>\n",
       "    </tr>\n",
       "    <tr>\n",
       "      <th>4</th>\n",
       "      <td>5</td>\n",
       "      <td>5</td>\n",
       "      <td>443</td>\n",
       "      <td>11</td>\n",
       "      <td>TypeB</td>\n",
       "      <td>377</td>\n",
       "      <td>411</td>\n",
       "      <td>2021-01-12</td>\n",
       "      <td>2021-02-15</td>\n",
       "      <td>34</td>\n",
       "      <td>01</td>\n",
       "      <td>2021</td>\n",
       "      <td>02</td>\n",
       "      <td>2021</td>\n",
       "    </tr>\n",
       "  </tbody>\n",
       "</table>\n",
       "</div>"
      ],
      "text/plain": [
       "   CAMPAIGN  Total_coup_redem  Total_product  Total_Coupon_Given DESCRIPTION  \\\n",
       "0         1                 1            383                  11       TypeB   \n",
       "1         2                 4            301                  16       TypeB   \n",
       "2         3                 2            506                  34       TypeC   \n",
       "3         4                 6            200                  12       TypeB   \n",
       "4         5                 5            443                  11       TypeB   \n",
       "\n",
       "   START_DAY  END_DAY Start_date   End_date  Campaign_duration Start_month  \\\n",
       "0        346      383 2020-12-12 2021-01-18                 37          12   \n",
       "1        351      383 2020-12-17 2021-01-18                 32          12   \n",
       "2        356      412 2020-12-22 2021-02-16                 56          12   \n",
       "3        372      404 2021-01-07 2021-02-08                 32          01   \n",
       "4        377      411 2021-01-12 2021-02-15                 34          01   \n",
       "\n",
       "   Start_year End_month  End_year  \n",
       "0        2020        01      2021  \n",
       "1        2020        01      2021  \n",
       "2        2020        02      2021  \n",
       "3        2021        02      2021  \n",
       "4        2021        02      2021  "
      ]
     },
     "execution_count": 93,
     "metadata": {},
     "output_type": "execute_result"
    }
   ],
   "source": [
    "coupon_redeem.head()"
   ]
  },
  {
   "cell_type": "code",
   "execution_count": 94,
   "id": "38b37b79",
   "metadata": {},
   "outputs": [],
   "source": [
    "coupon_redeem['Coupon_redeem_rate'] = (coupon_redeem['Total_coup_redem'] / coupon_redeem['Total_Coupon_Given']) * 100"
   ]
  },
  {
   "cell_type": "code",
   "execution_count": 95,
   "id": "b0f937da",
   "metadata": {},
   "outputs": [
    {
     "data": {
      "text/plain": [
       "<Axes: xlabel='CAMPAIGN', ylabel='Coupon_redeem_rate'>"
      ]
     },
     "execution_count": 95,
     "metadata": {},
     "output_type": "execute_result"
    },
    {
     "data": {
      "image/png": "[encoded data removed]",
      "text/plain": [
       "<Figure size 1500x500 with 1 Axes>"
      ]
     },
     "metadata": {},
     "output_type": "display_data"
    }
   ],
   "source": [
    "plt.figure(figsize=(15,5))\n",
    "sns.barplot(x='CAMPAIGN',y='Coupon_redeem_rate',data=coupon_redeem)"
   ]
  },
  {
   "cell_type": "code",
   "execution_count": 96,
   "id": "091b1a3f",
   "metadata": {},
   "outputs": [
    {
     "data": {
      "text/html": [
       "<div>\n",
       "<style scoped>\n",
       "    .dataframe tbody tr th:only-of-type {\n",
       "        vertical-align: middle;\n",
       "    }\n",
       "\n",
       "    .dataframe tbody tr th {\n",
       "        vertical-align: top;\n",
       "    }\n",
       "\n",
       "    .dataframe thead th {\n",
       "        text-align: right;\n",
       "    }\n",
       "</style>\n",
       "<table border=\"1\" class=\"dataframe\">\n",
       "  <thead>\n",
       "    <tr style=\"text-align: right;\">\n",
       "      <th></th>\n",
       "      <th>HOUSEHOLD_KEY</th>\n",
       "      <th>BASKET_ID</th>\n",
       "      <th>DAY</th>\n",
       "      <th>PRODUCT_ID</th>\n",
       "      <th>QUANTITY</th>\n",
       "      <th>SALES_VALUE</th>\n",
       "      <th>STORE_ID</th>\n",
       "      <th>RETAIL_DISC</th>\n",
       "      <th>TRANS_TIME</th>\n",
       "      <th>WEEK_NO</th>\n",
       "      <th>COUPON_DISC</th>\n",
       "      <th>COUPON_MATCH_DISC</th>\n",
       "      <th>Date</th>\n",
       "    </tr>\n",
       "  </thead>\n",
       "  <tbody>\n",
       "    <tr>\n",
       "      <th>0</th>\n",
       "      <td>2375</td>\n",
       "      <td>26984851472</td>\n",
       "      <td>1</td>\n",
       "      <td>1004906</td>\n",
       "      <td>1</td>\n",
       "      <td>1.39</td>\n",
       "      <td>364</td>\n",
       "      <td>-0.60</td>\n",
       "      <td>1631</td>\n",
       "      <td>1</td>\n",
       "      <td>0</td>\n",
       "      <td>0</td>\n",
       "      <td>2020-01-02</td>\n",
       "    </tr>\n",
       "    <tr>\n",
       "      <th>1</th>\n",
       "      <td>2375</td>\n",
       "      <td>26984851472</td>\n",
       "      <td>1</td>\n",
       "      <td>1033142</td>\n",
       "      <td>1</td>\n",
       "      <td>0.82</td>\n",
       "      <td>364</td>\n",
       "      <td>0.00</td>\n",
       "      <td>1631</td>\n",
       "      <td>1</td>\n",
       "      <td>0</td>\n",
       "      <td>0</td>\n",
       "      <td>2020-01-02</td>\n",
       "    </tr>\n",
       "    <tr>\n",
       "      <th>2</th>\n",
       "      <td>2375</td>\n",
       "      <td>26984851472</td>\n",
       "      <td>1</td>\n",
       "      <td>1036325</td>\n",
       "      <td>1</td>\n",
       "      <td>0.99</td>\n",
       "      <td>364</td>\n",
       "      <td>-0.30</td>\n",
       "      <td>1631</td>\n",
       "      <td>1</td>\n",
       "      <td>0</td>\n",
       "      <td>0</td>\n",
       "      <td>2020-01-02</td>\n",
       "    </tr>\n",
       "    <tr>\n",
       "      <th>3</th>\n",
       "      <td>2375</td>\n",
       "      <td>26984851472</td>\n",
       "      <td>1</td>\n",
       "      <td>1082185</td>\n",
       "      <td>1</td>\n",
       "      <td>1.21</td>\n",
       "      <td>364</td>\n",
       "      <td>0.00</td>\n",
       "      <td>1631</td>\n",
       "      <td>1</td>\n",
       "      <td>0</td>\n",
       "      <td>0</td>\n",
       "      <td>2020-01-02</td>\n",
       "    </tr>\n",
       "    <tr>\n",
       "      <th>4</th>\n",
       "      <td>2375</td>\n",
       "      <td>26984851472</td>\n",
       "      <td>1</td>\n",
       "      <td>8160430</td>\n",
       "      <td>1</td>\n",
       "      <td>1.50</td>\n",
       "      <td>364</td>\n",
       "      <td>-0.39</td>\n",
       "      <td>1631</td>\n",
       "      <td>1</td>\n",
       "      <td>0</td>\n",
       "      <td>0</td>\n",
       "      <td>2020-01-02</td>\n",
       "    </tr>\n",
       "  </tbody>\n",
       "</table>\n",
       "</div>"
      ],
      "text/plain": [
       "   HOUSEHOLD_KEY    BASKET_ID  DAY  PRODUCT_ID  QUANTITY  SALES_VALUE  \\\n",
       "0           2375  26984851472    1     1004906         1         1.39   \n",
       "1           2375  26984851472    1     1033142         1         0.82   \n",
       "2           2375  26984851472    1     1036325         1         0.99   \n",
       "3           2375  26984851472    1     1082185         1         1.21   \n",
       "4           2375  26984851472    1     8160430         1         1.50   \n",
       "\n",
       "   STORE_ID  RETAIL_DISC  TRANS_TIME  WEEK_NO  COUPON_DISC  COUPON_MATCH_DISC  \\\n",
       "0       364        -0.60        1631        1            0                  0   \n",
       "1       364         0.00        1631        1            0                  0   \n",
       "2       364        -0.30        1631        1            0                  0   \n",
       "3       364         0.00        1631        1            0                  0   \n",
       "4       364        -0.39        1631        1            0                  0   \n",
       "\n",
       "        Date  \n",
       "0 2020-01-02  \n",
       "1 2020-01-02  \n",
       "2 2020-01-02  \n",
       "3 2020-01-02  \n",
       "4 2020-01-02  "
      ]
     },
     "execution_count": 96,
     "metadata": {},
     "output_type": "execute_result"
    }
   ],
   "source": [
    "transaction_raw.head()"
   ]
  },
  {
   "cell_type": "code",
   "execution_count": 97,
   "id": "1489eb7e",
   "metadata": {},
   "outputs": [
    {
     "data": {
      "text/plain": [
       "(2595732, 13)"
      ]
     },
     "execution_count": 97,
     "metadata": {},
     "output_type": "execute_result"
    }
   ],
   "source": [
    "transaction_raw.shape"
   ]
  },
  {
   "cell_type": "code",
   "execution_count": 98,
   "id": "2947ddf5",
   "metadata": {},
   "outputs": [
    {
     "data": {
      "text/plain": [
       "Index(['HOUSEHOLD_KEY', 'BASKET_ID', 'DAY', 'PRODUCT_ID', 'QUANTITY',\n",
       "       'SALES_VALUE', 'STORE_ID', 'RETAIL_DISC', 'TRANS_TIME', 'WEEK_NO',\n",
       "       'COUPON_DISC', 'COUPON_MATCH_DISC', 'Date'],\n",
       "      dtype='object')"
      ]
     },
     "execution_count": 98,
     "metadata": {},
     "output_type": "execute_result"
    }
   ],
   "source": [
    "transaction_raw.columns"
   ]
  },
  {
   "cell_type": "code",
   "execution_count": 99,
   "id": "88151dfa",
   "metadata": {},
   "outputs": [
    {
     "data": {
      "text/plain": [
       "2595732"
      ]
     },
     "execution_count": 99,
     "metadata": {},
     "output_type": "execute_result"
    }
   ],
   "source": [
    "transaction_raw['BASKET_ID'].count()"
   ]
  },
  {
   "cell_type": "code",
   "execution_count": 100,
   "id": "5959f3ce",
   "metadata": {},
   "outputs": [
    {
     "data": {
      "text/plain": [
       "276484"
      ]
     },
     "execution_count": 100,
     "metadata": {},
     "output_type": "execute_result"
    }
   ],
   "source": [
    "transaction_raw['BASKET_ID'].nunique()"
   ]
  },
  {
   "cell_type": "code",
   "execution_count": 101,
   "id": "f8cfb1ba",
   "metadata": {},
   "outputs": [
    {
     "data": {
      "text/plain": [
       "2500"
      ]
     },
     "execution_count": 101,
     "metadata": {},
     "output_type": "execute_result"
    }
   ],
   "source": [
    "transaction_raw['HOUSEHOLD_KEY'].nunique()"
   ]
  },
  {
   "cell_type": "code",
   "execution_count": 102,
   "id": "90bc35bc",
   "metadata": {},
   "outputs": [],
   "source": [
    "trnx_bucket = transaction_raw.groupby('BASKET_ID').agg({'SALES_VALUE':'sum','COUPON_DISC':'sum','COUPON_MATCH_DISC':'sum'})"
   ]
  },
  {
   "cell_type": "code",
   "execution_count": 103,
   "id": "c94bc6e4",
   "metadata": {},
   "outputs": [
    {
     "data": {
      "text/html": [
       "<div>\n",
       "<style scoped>\n",
       "    .dataframe tbody tr th:only-of-type {\n",
       "        vertical-align: middle;\n",
       "    }\n",
       "\n",
       "    .dataframe tbody tr th {\n",
       "        vertical-align: top;\n",
       "    }\n",
       "\n",
       "    .dataframe thead th {\n",
       "        text-align: right;\n",
       "    }\n",
       "</style>\n",
       "<table border=\"1\" class=\"dataframe\">\n",
       "  <thead>\n",
       "    <tr style=\"text-align: right;\">\n",
       "      <th></th>\n",
       "      <th>SALES_VALUE</th>\n",
       "      <th>COUPON_DISC</th>\n",
       "      <th>COUPON_MATCH_DISC</th>\n",
       "    </tr>\n",
       "    <tr>\n",
       "      <th>BASKET_ID</th>\n",
       "      <th></th>\n",
       "      <th></th>\n",
       "      <th></th>\n",
       "    </tr>\n",
       "  </thead>\n",
       "  <tbody>\n",
       "    <tr>\n",
       "      <th>26984851472</th>\n",
       "      <td>5.91</td>\n",
       "      <td>0</td>\n",
       "      <td>0</td>\n",
       "    </tr>\n",
       "    <tr>\n",
       "      <th>26984851516</th>\n",
       "      <td>12.43</td>\n",
       "      <td>0</td>\n",
       "      <td>0</td>\n",
       "    </tr>\n",
       "    <tr>\n",
       "      <th>26984896261</th>\n",
       "      <td>11.37</td>\n",
       "      <td>0</td>\n",
       "      <td>0</td>\n",
       "    </tr>\n",
       "    <tr>\n",
       "      <th>26984905972</th>\n",
       "      <td>2.55</td>\n",
       "      <td>0</td>\n",
       "      <td>0</td>\n",
       "    </tr>\n",
       "    <tr>\n",
       "      <th>26984945254</th>\n",
       "      <td>3.53</td>\n",
       "      <td>0</td>\n",
       "      <td>0</td>\n",
       "    </tr>\n",
       "  </tbody>\n",
       "</table>\n",
       "</div>"
      ],
      "text/plain": [
       "             SALES_VALUE  COUPON_DISC  COUPON_MATCH_DISC\n",
       "BASKET_ID                                               \n",
       "26984851472         5.91            0                  0\n",
       "26984851516        12.43            0                  0\n",
       "26984896261        11.37            0                  0\n",
       "26984905972         2.55            0                  0\n",
       "26984945254         3.53            0                  0"
      ]
     },
     "execution_count": 103,
     "metadata": {},
     "output_type": "execute_result"
    }
   ],
   "source": [
    "trnx_bucket.head()"
   ]
  },
  {
   "cell_type": "code",
   "execution_count": 104,
   "id": "eab375a5",
   "metadata": {},
   "outputs": [],
   "source": [
    "trnx_bucket['Use_coupon'] = trnx_bucket['COUPON_DISC']!=0"
   ]
  },
  {
   "cell_type": "code",
   "execution_count": 105,
   "id": "8fdf910f",
   "metadata": {},
   "outputs": [
    {
     "data": {
      "text/plain": [
       "False    260812\n",
       "True      15672\n",
       "Name: Use_coupon, dtype: int64"
      ]
     },
     "execution_count": 105,
     "metadata": {},
     "output_type": "execute_result"
    }
   ],
   "source": [
    "trnx_bucket['Use_coupon'].value_counts()"
   ]
  },
  {
   "cell_type": "code",
   "execution_count": 106,
   "id": "c2dacae3",
   "metadata": {},
   "outputs": [
    {
     "data": {
      "text/html": [
       "<div>\n",
       "<style scoped>\n",
       "    .dataframe tbody tr th:only-of-type {\n",
       "        vertical-align: middle;\n",
       "    }\n",
       "\n",
       "    .dataframe tbody tr th {\n",
       "        vertical-align: top;\n",
       "    }\n",
       "\n",
       "    .dataframe thead th {\n",
       "        text-align: right;\n",
       "    }\n",
       "</style>\n",
       "<table border=\"1\" class=\"dataframe\">\n",
       "  <thead>\n",
       "    <tr style=\"text-align: right;\">\n",
       "      <th></th>\n",
       "      <th>SALES_VALUE</th>\n",
       "      <th>COUPON_DISC</th>\n",
       "      <th>COUPON_MATCH_DISC</th>\n",
       "      <th>Use_coupon</th>\n",
       "    </tr>\n",
       "    <tr>\n",
       "      <th>BASKET_ID</th>\n",
       "      <th></th>\n",
       "      <th></th>\n",
       "      <th></th>\n",
       "      <th></th>\n",
       "    </tr>\n",
       "  </thead>\n",
       "  <tbody>\n",
       "    <tr>\n",
       "      <th>32006114302</th>\n",
       "      <td>961.49</td>\n",
       "      <td>0</td>\n",
       "      <td>0</td>\n",
       "      <td>False</td>\n",
       "    </tr>\n",
       "    <tr>\n",
       "      <th>40387571385</th>\n",
       "      <td>681.58</td>\n",
       "      <td>0</td>\n",
       "      <td>0</td>\n",
       "      <td>False</td>\n",
       "    </tr>\n",
       "    <tr>\n",
       "      <th>33347880492</th>\n",
       "      <td>552.92</td>\n",
       "      <td>-3</td>\n",
       "      <td>0</td>\n",
       "      <td>True</td>\n",
       "    </tr>\n",
       "    <tr>\n",
       "      <th>32505140858</th>\n",
       "      <td>545.17</td>\n",
       "      <td>0</td>\n",
       "      <td>0</td>\n",
       "      <td>False</td>\n",
       "    </tr>\n",
       "    <tr>\n",
       "      <th>30983766334</th>\n",
       "      <td>545.07</td>\n",
       "      <td>0</td>\n",
       "      <td>0</td>\n",
       "      <td>False</td>\n",
       "    </tr>\n",
       "    <tr>\n",
       "      <th>35638473903</th>\n",
       "      <td>543.83</td>\n",
       "      <td>0</td>\n",
       "      <td>0</td>\n",
       "      <td>False</td>\n",
       "    </tr>\n",
       "    <tr>\n",
       "      <th>34267311742</th>\n",
       "      <td>518.01</td>\n",
       "      <td>0</td>\n",
       "      <td>0</td>\n",
       "      <td>False</td>\n",
       "    </tr>\n",
       "    <tr>\n",
       "      <th>30515165970</th>\n",
       "      <td>508.58</td>\n",
       "      <td>0</td>\n",
       "      <td>0</td>\n",
       "      <td>False</td>\n",
       "    </tr>\n",
       "    <tr>\n",
       "      <th>32187143334</th>\n",
       "      <td>499.99</td>\n",
       "      <td>0</td>\n",
       "      <td>0</td>\n",
       "      <td>False</td>\n",
       "    </tr>\n",
       "    <tr>\n",
       "      <th>41560297395</th>\n",
       "      <td>497.02</td>\n",
       "      <td>-3</td>\n",
       "      <td>0</td>\n",
       "      <td>True</td>\n",
       "    </tr>\n",
       "  </tbody>\n",
       "</table>\n",
       "</div>"
      ],
      "text/plain": [
       "             SALES_VALUE  COUPON_DISC  COUPON_MATCH_DISC  Use_coupon\n",
       "BASKET_ID                                                           \n",
       "32006114302       961.49            0                  0       False\n",
       "40387571385       681.58            0                  0       False\n",
       "33347880492       552.92           -3                  0        True\n",
       "32505140858       545.17            0                  0       False\n",
       "30983766334       545.07            0                  0       False\n",
       "35638473903       543.83            0                  0       False\n",
       "34267311742       518.01            0                  0       False\n",
       "30515165970       508.58            0                  0       False\n",
       "32187143334       499.99            0                  0       False\n",
       "41560297395       497.02           -3                  0        True"
      ]
     },
     "execution_count": 106,
     "metadata": {},
     "output_type": "execute_result"
    }
   ],
   "source": [
    "trnx_bucket.sort_values('SALES_VALUE',ascending=False).head(10)"
   ]
  },
  {
   "cell_type": "code",
   "execution_count": 107,
   "id": "02d28540",
   "metadata": {},
   "outputs": [
    {
     "data": {
      "text/plain": [
       "29.14"
      ]
     },
     "execution_count": 107,
     "metadata": {},
     "output_type": "execute_result"
    }
   ],
   "source": [
    "round(trnx_bucket['SALES_VALUE'].mean(),2)"
   ]
  },
  {
   "cell_type": "markdown",
   "id": "6a684e6b",
   "metadata": {},
   "source": [
    "The Average basket value is 26.93"
   ]
  },
  {
   "cell_type": "code",
   "execution_count": 108,
   "id": "df59d5d2",
   "metadata": {},
   "outputs": [
    {
     "data": {
      "text/plain": [
       "Text(0.5, 1.0, 'Basket value boxplot')"
      ]
     },
     "execution_count": 108,
     "metadata": {},
     "output_type": "execute_result"
    },
    {
     "data": {
      "image/png": "[encoded data removed]",
      "text/plain": [
       "<Figure size 1500x500 with 1 Axes>"
      ]
     },
     "metadata": {},
     "output_type": "display_data"
    }
   ],
   "source": [
    "plt.figure(figsize=(15,5))\n",
    "sns.boxplot(x=trnx_bucket['SALES_VALUE'])\n",
    "plt.title('Basket value boxplot',fontsize=30)"
   ]
  },
  {
   "cell_type": "code",
   "execution_count": 109,
   "id": "c03aebe3",
   "metadata": {
    "scrolled": true
   },
   "outputs": [
    {
     "data": {
      "text/html": [
       "<div>\n",
       "<style scoped>\n",
       "    .dataframe tbody tr th:only-of-type {\n",
       "        vertical-align: middle;\n",
       "    }\n",
       "\n",
       "    .dataframe tbody tr th {\n",
       "        vertical-align: top;\n",
       "    }\n",
       "\n",
       "    .dataframe thead th {\n",
       "        text-align: right;\n",
       "    }\n",
       "</style>\n",
       "<table border=\"1\" class=\"dataframe\">\n",
       "  <thead>\n",
       "    <tr style=\"text-align: right;\">\n",
       "      <th></th>\n",
       "      <th>sales_mean</th>\n",
       "      <th>COUPON_DISC_mean</th>\n",
       "      <th>COUPON_MATCH_DISC_mean</th>\n",
       "      <th>Num_coupon</th>\n",
       "    </tr>\n",
       "    <tr>\n",
       "      <th>Use_coupon</th>\n",
       "      <th></th>\n",
       "      <th></th>\n",
       "      <th></th>\n",
       "      <th></th>\n",
       "    </tr>\n",
       "  </thead>\n",
       "  <tbody>\n",
       "    <tr>\n",
       "      <th>False</th>\n",
       "      <td>26.795021</td>\n",
       "      <td>0.000000</td>\n",
       "      <td>-0.000019</td>\n",
       "      <td>260812</td>\n",
       "    </tr>\n",
       "    <tr>\n",
       "      <th>True</th>\n",
       "      <td>68.210833</td>\n",
       "      <td>-2.986536</td>\n",
       "      <td>-0.426748</td>\n",
       "      <td>15672</td>\n",
       "    </tr>\n",
       "  </tbody>\n",
       "</table>\n",
       "</div>"
      ],
      "text/plain": [
       "            sales_mean  COUPON_DISC_mean  COUPON_MATCH_DISC_mean  Num_coupon\n",
       "Use_coupon                                                                  \n",
       "False        26.795021          0.000000               -0.000019      260812\n",
       "True         68.210833         -2.986536               -0.426748       15672"
      ]
     },
     "execution_count": 109,
     "metadata": {},
     "output_type": "execute_result"
    }
   ],
   "source": [
    "trnx_bucket.groupby('Use_coupon').agg(sales_mean = ('SALES_VALUE','mean'),\n",
    "                                     COUPON_DISC_mean =('COUPON_DISC','mean'),\n",
    "                                      COUPON_MATCH_DISC_mean = ('COUPON_MATCH_DISC','mean'),\n",
    "                                      Num_coupon = ('SALES_VALUE','count'))"
   ]
  },
  {
   "cell_type": "code",
   "execution_count": 110,
   "id": "78f28d63",
   "metadata": {},
   "outputs": [
    {
     "data": {
      "text/html": [
       "<div>\n",
       "<style scoped>\n",
       "    .dataframe tbody tr th:only-of-type {\n",
       "        vertical-align: middle;\n",
       "    }\n",
       "\n",
       "    .dataframe tbody tr th {\n",
       "        vertical-align: top;\n",
       "    }\n",
       "\n",
       "    .dataframe thead th {\n",
       "        text-align: right;\n",
       "    }\n",
       "</style>\n",
       "<table border=\"1\" class=\"dataframe\">\n",
       "  <thead>\n",
       "    <tr style=\"text-align: right;\">\n",
       "      <th></th>\n",
       "      <th>HOUSEHOLD_KEY</th>\n",
       "      <th>BASKET_ID</th>\n",
       "      <th>DAY</th>\n",
       "      <th>PRODUCT_ID</th>\n",
       "      <th>QUANTITY</th>\n",
       "      <th>SALES_VALUE</th>\n",
       "      <th>STORE_ID</th>\n",
       "      <th>RETAIL_DISC</th>\n",
       "      <th>TRANS_TIME</th>\n",
       "      <th>WEEK_NO</th>\n",
       "      <th>COUPON_DISC</th>\n",
       "      <th>COUPON_MATCH_DISC</th>\n",
       "      <th>Date</th>\n",
       "    </tr>\n",
       "  </thead>\n",
       "  <tbody>\n",
       "    <tr>\n",
       "      <th>0</th>\n",
       "      <td>2375</td>\n",
       "      <td>26984851472</td>\n",
       "      <td>1</td>\n",
       "      <td>1004906</td>\n",
       "      <td>1</td>\n",
       "      <td>1.39</td>\n",
       "      <td>364</td>\n",
       "      <td>-0.60</td>\n",
       "      <td>1631</td>\n",
       "      <td>1</td>\n",
       "      <td>0</td>\n",
       "      <td>0</td>\n",
       "      <td>2020-01-02</td>\n",
       "    </tr>\n",
       "    <tr>\n",
       "      <th>1</th>\n",
       "      <td>2375</td>\n",
       "      <td>26984851472</td>\n",
       "      <td>1</td>\n",
       "      <td>1033142</td>\n",
       "      <td>1</td>\n",
       "      <td>0.82</td>\n",
       "      <td>364</td>\n",
       "      <td>0.00</td>\n",
       "      <td>1631</td>\n",
       "      <td>1</td>\n",
       "      <td>0</td>\n",
       "      <td>0</td>\n",
       "      <td>2020-01-02</td>\n",
       "    </tr>\n",
       "    <tr>\n",
       "      <th>2</th>\n",
       "      <td>2375</td>\n",
       "      <td>26984851472</td>\n",
       "      <td>1</td>\n",
       "      <td>1036325</td>\n",
       "      <td>1</td>\n",
       "      <td>0.99</td>\n",
       "      <td>364</td>\n",
       "      <td>-0.30</td>\n",
       "      <td>1631</td>\n",
       "      <td>1</td>\n",
       "      <td>0</td>\n",
       "      <td>0</td>\n",
       "      <td>2020-01-02</td>\n",
       "    </tr>\n",
       "    <tr>\n",
       "      <th>3</th>\n",
       "      <td>2375</td>\n",
       "      <td>26984851472</td>\n",
       "      <td>1</td>\n",
       "      <td>1082185</td>\n",
       "      <td>1</td>\n",
       "      <td>1.21</td>\n",
       "      <td>364</td>\n",
       "      <td>0.00</td>\n",
       "      <td>1631</td>\n",
       "      <td>1</td>\n",
       "      <td>0</td>\n",
       "      <td>0</td>\n",
       "      <td>2020-01-02</td>\n",
       "    </tr>\n",
       "    <tr>\n",
       "      <th>4</th>\n",
       "      <td>2375</td>\n",
       "      <td>26984851472</td>\n",
       "      <td>1</td>\n",
       "      <td>8160430</td>\n",
       "      <td>1</td>\n",
       "      <td>1.50</td>\n",
       "      <td>364</td>\n",
       "      <td>-0.39</td>\n",
       "      <td>1631</td>\n",
       "      <td>1</td>\n",
       "      <td>0</td>\n",
       "      <td>0</td>\n",
       "      <td>2020-01-02</td>\n",
       "    </tr>\n",
       "  </tbody>\n",
       "</table>\n",
       "</div>"
      ],
      "text/plain": [
       "   HOUSEHOLD_KEY    BASKET_ID  DAY  PRODUCT_ID  QUANTITY  SALES_VALUE  \\\n",
       "0           2375  26984851472    1     1004906         1         1.39   \n",
       "1           2375  26984851472    1     1033142         1         0.82   \n",
       "2           2375  26984851472    1     1036325         1         0.99   \n",
       "3           2375  26984851472    1     1082185         1         1.21   \n",
       "4           2375  26984851472    1     8160430         1         1.50   \n",
       "\n",
       "   STORE_ID  RETAIL_DISC  TRANS_TIME  WEEK_NO  COUPON_DISC  COUPON_MATCH_DISC  \\\n",
       "0       364        -0.60        1631        1            0                  0   \n",
       "1       364         0.00        1631        1            0                  0   \n",
       "2       364        -0.30        1631        1            0                  0   \n",
       "3       364         0.00        1631        1            0                  0   \n",
       "4       364        -0.39        1631        1            0                  0   \n",
       "\n",
       "        Date  \n",
       "0 2020-01-02  \n",
       "1 2020-01-02  \n",
       "2 2020-01-02  \n",
       "3 2020-01-02  \n",
       "4 2020-01-02  "
      ]
     },
     "execution_count": 110,
     "metadata": {},
     "output_type": "execute_result"
    }
   ],
   "source": [
    "transaction_raw.head()"
   ]
  },
  {
   "cell_type": "code",
   "execution_count": 111,
   "id": "de3f8f1f",
   "metadata": {},
   "outputs": [
    {
     "data": {
      "text/html": [
       "<div>\n",
       "<style scoped>\n",
       "    .dataframe tbody tr th:only-of-type {\n",
       "        vertical-align: middle;\n",
       "    }\n",
       "\n",
       "    .dataframe tbody tr th {\n",
       "        vertical-align: top;\n",
       "    }\n",
       "\n",
       "    .dataframe thead th {\n",
       "        text-align: right;\n",
       "    }\n",
       "</style>\n",
       "<table border=\"1\" class=\"dataframe\">\n",
       "  <thead>\n",
       "    <tr style=\"text-align: right;\">\n",
       "      <th></th>\n",
       "      <th>SALES_VALUE</th>\n",
       "      <th>COUPON_DISC</th>\n",
       "      <th>COUPON_MATCH_DISC</th>\n",
       "      <th>Use_coupon</th>\n",
       "    </tr>\n",
       "    <tr>\n",
       "      <th>BASKET_ID</th>\n",
       "      <th></th>\n",
       "      <th></th>\n",
       "      <th></th>\n",
       "      <th></th>\n",
       "    </tr>\n",
       "  </thead>\n",
       "  <tbody>\n",
       "    <tr>\n",
       "      <th>26984851472</th>\n",
       "      <td>5.91</td>\n",
       "      <td>0</td>\n",
       "      <td>0</td>\n",
       "      <td>False</td>\n",
       "    </tr>\n",
       "    <tr>\n",
       "      <th>26984851516</th>\n",
       "      <td>12.43</td>\n",
       "      <td>0</td>\n",
       "      <td>0</td>\n",
       "      <td>False</td>\n",
       "    </tr>\n",
       "    <tr>\n",
       "      <th>26984896261</th>\n",
       "      <td>11.37</td>\n",
       "      <td>0</td>\n",
       "      <td>0</td>\n",
       "      <td>False</td>\n",
       "    </tr>\n",
       "    <tr>\n",
       "      <th>26984905972</th>\n",
       "      <td>2.55</td>\n",
       "      <td>0</td>\n",
       "      <td>0</td>\n",
       "      <td>False</td>\n",
       "    </tr>\n",
       "    <tr>\n",
       "      <th>26984945254</th>\n",
       "      <td>3.53</td>\n",
       "      <td>0</td>\n",
       "      <td>0</td>\n",
       "      <td>False</td>\n",
       "    </tr>\n",
       "  </tbody>\n",
       "</table>\n",
       "</div>"
      ],
      "text/plain": [
       "             SALES_VALUE  COUPON_DISC  COUPON_MATCH_DISC  Use_coupon\n",
       "BASKET_ID                                                           \n",
       "26984851472         5.91            0                  0       False\n",
       "26984851516        12.43            0                  0       False\n",
       "26984896261        11.37            0                  0       False\n",
       "26984905972         2.55            0                  0       False\n",
       "26984945254         3.53            0                  0       False"
      ]
     },
     "execution_count": 111,
     "metadata": {},
     "output_type": "execute_result"
    }
   ],
   "source": [
    "trnx_bucket.head()"
   ]
  },
  {
   "cell_type": "markdown",
   "id": "b82144cf",
   "metadata": {},
   "source": [
    "The average basket value without coupon is 25 . \n",
    "The average basket value with coupon is 62"
   ]
  },
  {
   "cell_type": "code",
   "execution_count": 112,
   "id": "6f791d02",
   "metadata": {},
   "outputs": [],
   "source": [
    "trnx_desc = transaction_raw.merge(right=trnx_bucket,on='BASKET_ID',how='left')"
   ]
  },
  {
   "cell_type": "code",
   "execution_count": 113,
   "id": "007ca093",
   "metadata": {
    "scrolled": true
   },
   "outputs": [
    {
     "data": {
      "text/html": [
       "<div>\n",
       "<style scoped>\n",
       "    .dataframe tbody tr th:only-of-type {\n",
       "        vertical-align: middle;\n",
       "    }\n",
       "\n",
       "    .dataframe tbody tr th {\n",
       "        vertical-align: top;\n",
       "    }\n",
       "\n",
       "    .dataframe thead th {\n",
       "        text-align: right;\n",
       "    }\n",
       "</style>\n",
       "<table border=\"1\" class=\"dataframe\">\n",
       "  <thead>\n",
       "    <tr style=\"text-align: right;\">\n",
       "      <th></th>\n",
       "      <th>HOUSEHOLD_KEY</th>\n",
       "      <th>BASKET_ID</th>\n",
       "      <th>DAY</th>\n",
       "      <th>PRODUCT_ID</th>\n",
       "      <th>QUANTITY</th>\n",
       "      <th>SALES_VALUE_x</th>\n",
       "      <th>STORE_ID</th>\n",
       "      <th>RETAIL_DISC</th>\n",
       "      <th>TRANS_TIME</th>\n",
       "      <th>WEEK_NO</th>\n",
       "      <th>COUPON_DISC_x</th>\n",
       "      <th>COUPON_MATCH_DISC_x</th>\n",
       "      <th>Date</th>\n",
       "      <th>SALES_VALUE_y</th>\n",
       "      <th>COUPON_DISC_y</th>\n",
       "      <th>COUPON_MATCH_DISC_y</th>\n",
       "      <th>Use_coupon</th>\n",
       "    </tr>\n",
       "  </thead>\n",
       "  <tbody>\n",
       "    <tr>\n",
       "      <th>0</th>\n",
       "      <td>2375</td>\n",
       "      <td>26984851472</td>\n",
       "      <td>1</td>\n",
       "      <td>1004906</td>\n",
       "      <td>1</td>\n",
       "      <td>1.39</td>\n",
       "      <td>364</td>\n",
       "      <td>-0.60</td>\n",
       "      <td>1631</td>\n",
       "      <td>1</td>\n",
       "      <td>0</td>\n",
       "      <td>0</td>\n",
       "      <td>2020-01-02</td>\n",
       "      <td>5.91</td>\n",
       "      <td>0</td>\n",
       "      <td>0</td>\n",
       "      <td>False</td>\n",
       "    </tr>\n",
       "    <tr>\n",
       "      <th>1</th>\n",
       "      <td>2375</td>\n",
       "      <td>26984851472</td>\n",
       "      <td>1</td>\n",
       "      <td>1033142</td>\n",
       "      <td>1</td>\n",
       "      <td>0.82</td>\n",
       "      <td>364</td>\n",
       "      <td>0.00</td>\n",
       "      <td>1631</td>\n",
       "      <td>1</td>\n",
       "      <td>0</td>\n",
       "      <td>0</td>\n",
       "      <td>2020-01-02</td>\n",
       "      <td>5.91</td>\n",
       "      <td>0</td>\n",
       "      <td>0</td>\n",
       "      <td>False</td>\n",
       "    </tr>\n",
       "    <tr>\n",
       "      <th>2</th>\n",
       "      <td>2375</td>\n",
       "      <td>26984851472</td>\n",
       "      <td>1</td>\n",
       "      <td>1036325</td>\n",
       "      <td>1</td>\n",
       "      <td>0.99</td>\n",
       "      <td>364</td>\n",
       "      <td>-0.30</td>\n",
       "      <td>1631</td>\n",
       "      <td>1</td>\n",
       "      <td>0</td>\n",
       "      <td>0</td>\n",
       "      <td>2020-01-02</td>\n",
       "      <td>5.91</td>\n",
       "      <td>0</td>\n",
       "      <td>0</td>\n",
       "      <td>False</td>\n",
       "    </tr>\n",
       "    <tr>\n",
       "      <th>3</th>\n",
       "      <td>2375</td>\n",
       "      <td>26984851472</td>\n",
       "      <td>1</td>\n",
       "      <td>1082185</td>\n",
       "      <td>1</td>\n",
       "      <td>1.21</td>\n",
       "      <td>364</td>\n",
       "      <td>0.00</td>\n",
       "      <td>1631</td>\n",
       "      <td>1</td>\n",
       "      <td>0</td>\n",
       "      <td>0</td>\n",
       "      <td>2020-01-02</td>\n",
       "      <td>5.91</td>\n",
       "      <td>0</td>\n",
       "      <td>0</td>\n",
       "      <td>False</td>\n",
       "    </tr>\n",
       "    <tr>\n",
       "      <th>4</th>\n",
       "      <td>2375</td>\n",
       "      <td>26984851472</td>\n",
       "      <td>1</td>\n",
       "      <td>8160430</td>\n",
       "      <td>1</td>\n",
       "      <td>1.50</td>\n",
       "      <td>364</td>\n",
       "      <td>-0.39</td>\n",
       "      <td>1631</td>\n",
       "      <td>1</td>\n",
       "      <td>0</td>\n",
       "      <td>0</td>\n",
       "      <td>2020-01-02</td>\n",
       "      <td>5.91</td>\n",
       "      <td>0</td>\n",
       "      <td>0</td>\n",
       "      <td>False</td>\n",
       "    </tr>\n",
       "  </tbody>\n",
       "</table>\n",
       "</div>"
      ],
      "text/plain": [
       "   HOUSEHOLD_KEY    BASKET_ID  DAY  PRODUCT_ID  QUANTITY  SALES_VALUE_x  \\\n",
       "0           2375  26984851472    1     1004906         1           1.39   \n",
       "1           2375  26984851472    1     1033142         1           0.82   \n",
       "2           2375  26984851472    1     1036325         1           0.99   \n",
       "3           2375  26984851472    1     1082185         1           1.21   \n",
       "4           2375  26984851472    1     8160430         1           1.50   \n",
       "\n",
       "   STORE_ID  RETAIL_DISC  TRANS_TIME  WEEK_NO  COUPON_DISC_x  \\\n",
       "0       364        -0.60        1631        1              0   \n",
       "1       364         0.00        1631        1              0   \n",
       "2       364        -0.30        1631        1              0   \n",
       "3       364         0.00        1631        1              0   \n",
       "4       364        -0.39        1631        1              0   \n",
       "\n",
       "   COUPON_MATCH_DISC_x       Date  SALES_VALUE_y  COUPON_DISC_y  \\\n",
       "0                    0 2020-01-02           5.91              0   \n",
       "1                    0 2020-01-02           5.91              0   \n",
       "2                    0 2020-01-02           5.91              0   \n",
       "3                    0 2020-01-02           5.91              0   \n",
       "4                    0 2020-01-02           5.91              0   \n",
       "\n",
       "   COUPON_MATCH_DISC_y  Use_coupon  \n",
       "0                    0       False  \n",
       "1                    0       False  \n",
       "2                    0       False  \n",
       "3                    0       False  \n",
       "4                    0       False  "
      ]
     },
     "execution_count": 113,
     "metadata": {},
     "output_type": "execute_result"
    }
   ],
   "source": [
    "trnx_desc.head()"
   ]
  },
  {
   "cell_type": "code",
   "execution_count": 114,
   "id": "19827d1d",
   "metadata": {},
   "outputs": [],
   "source": [
    "trnx_desc = trnx_desc.merge(right=product_raw,on='PRODUCT_ID',how='left')"
   ]
  },
  {
   "cell_type": "code",
   "execution_count": 115,
   "id": "20346c19",
   "metadata": {},
   "outputs": [
    {
     "data": {
      "text/html": [
       "<div>\n",
       "<style scoped>\n",
       "    .dataframe tbody tr th:only-of-type {\n",
       "        vertical-align: middle;\n",
       "    }\n",
       "\n",
       "    .dataframe tbody tr th {\n",
       "        vertical-align: top;\n",
       "    }\n",
       "\n",
       "    .dataframe thead th {\n",
       "        text-align: right;\n",
       "    }\n",
       "</style>\n",
       "<table border=\"1\" class=\"dataframe\">\n",
       "  <thead>\n",
       "    <tr style=\"text-align: right;\">\n",
       "      <th></th>\n",
       "      <th>HOUSEHOLD_KEY</th>\n",
       "      <th>BASKET_ID</th>\n",
       "      <th>DAY</th>\n",
       "      <th>PRODUCT_ID</th>\n",
       "      <th>QUANTITY</th>\n",
       "      <th>SALES_VALUE_x</th>\n",
       "      <th>STORE_ID</th>\n",
       "      <th>RETAIL_DISC</th>\n",
       "      <th>TRANS_TIME</th>\n",
       "      <th>WEEK_NO</th>\n",
       "      <th>...</th>\n",
       "      <th>SALES_VALUE_y</th>\n",
       "      <th>COUPON_DISC_y</th>\n",
       "      <th>COUPON_MATCH_DISC_y</th>\n",
       "      <th>Use_coupon</th>\n",
       "      <th>MANUFACTURER</th>\n",
       "      <th>DEPARTMENT</th>\n",
       "      <th>BRAND</th>\n",
       "      <th>COMMODITY_DESC</th>\n",
       "      <th>SUB_COMMODITY_DESC</th>\n",
       "      <th>CURR_SIZE_OF_PRODUCT</th>\n",
       "    </tr>\n",
       "  </thead>\n",
       "  <tbody>\n",
       "    <tr>\n",
       "      <th>0</th>\n",
       "      <td>2375</td>\n",
       "      <td>26984851472</td>\n",
       "      <td>1</td>\n",
       "      <td>1004906</td>\n",
       "      <td>1</td>\n",
       "      <td>1.39</td>\n",
       "      <td>364</td>\n",
       "      <td>-0.60</td>\n",
       "      <td>1631</td>\n",
       "      <td>1</td>\n",
       "      <td>...</td>\n",
       "      <td>5.91</td>\n",
       "      <td>0</td>\n",
       "      <td>0</td>\n",
       "      <td>False</td>\n",
       "      <td>69</td>\n",
       "      <td>PRODUCE</td>\n",
       "      <td>Private</td>\n",
       "      <td>POTATOES</td>\n",
       "      <td>POTATOES RUSSET (BULK&amp;BAG)</td>\n",
       "      <td>5 LB</td>\n",
       "    </tr>\n",
       "    <tr>\n",
       "      <th>1</th>\n",
       "      <td>2375</td>\n",
       "      <td>26984851472</td>\n",
       "      <td>1</td>\n",
       "      <td>1033142</td>\n",
       "      <td>1</td>\n",
       "      <td>0.82</td>\n",
       "      <td>364</td>\n",
       "      <td>0.00</td>\n",
       "      <td>1631</td>\n",
       "      <td>1</td>\n",
       "      <td>...</td>\n",
       "      <td>5.91</td>\n",
       "      <td>0</td>\n",
       "      <td>0</td>\n",
       "      <td>False</td>\n",
       "      <td>2</td>\n",
       "      <td>PRODUCE</td>\n",
       "      <td>National</td>\n",
       "      <td>ONIONS</td>\n",
       "      <td>ONIONS SWEET (BULK&amp;BAG)</td>\n",
       "      <td>40 LB</td>\n",
       "    </tr>\n",
       "    <tr>\n",
       "      <th>2</th>\n",
       "      <td>2375</td>\n",
       "      <td>26984851472</td>\n",
       "      <td>1</td>\n",
       "      <td>1036325</td>\n",
       "      <td>1</td>\n",
       "      <td>0.99</td>\n",
       "      <td>364</td>\n",
       "      <td>-0.30</td>\n",
       "      <td>1631</td>\n",
       "      <td>1</td>\n",
       "      <td>...</td>\n",
       "      <td>5.91</td>\n",
       "      <td>0</td>\n",
       "      <td>0</td>\n",
       "      <td>False</td>\n",
       "      <td>69</td>\n",
       "      <td>PRODUCE</td>\n",
       "      <td>Private</td>\n",
       "      <td>VEGETABLES - ALL OTHERS</td>\n",
       "      <td>CELERY</td>\n",
       "      <td></td>\n",
       "    </tr>\n",
       "    <tr>\n",
       "      <th>3</th>\n",
       "      <td>2375</td>\n",
       "      <td>26984851472</td>\n",
       "      <td>1</td>\n",
       "      <td>1082185</td>\n",
       "      <td>1</td>\n",
       "      <td>1.21</td>\n",
       "      <td>364</td>\n",
       "      <td>0.00</td>\n",
       "      <td>1631</td>\n",
       "      <td>1</td>\n",
       "      <td>...</td>\n",
       "      <td>5.91</td>\n",
       "      <td>0</td>\n",
       "      <td>0</td>\n",
       "      <td>False</td>\n",
       "      <td>2</td>\n",
       "      <td>PRODUCE</td>\n",
       "      <td>National</td>\n",
       "      <td>TROPICAL FRUIT</td>\n",
       "      <td>BANANAS</td>\n",
       "      <td>40 LB</td>\n",
       "    </tr>\n",
       "    <tr>\n",
       "      <th>4</th>\n",
       "      <td>2375</td>\n",
       "      <td>26984851472</td>\n",
       "      <td>1</td>\n",
       "      <td>8160430</td>\n",
       "      <td>1</td>\n",
       "      <td>1.50</td>\n",
       "      <td>364</td>\n",
       "      <td>-0.39</td>\n",
       "      <td>1631</td>\n",
       "      <td>1</td>\n",
       "      <td>...</td>\n",
       "      <td>5.91</td>\n",
       "      <td>0</td>\n",
       "      <td>0</td>\n",
       "      <td>False</td>\n",
       "      <td>69</td>\n",
       "      <td>PRODUCE</td>\n",
       "      <td>Private</td>\n",
       "      <td>ORGANICS FRUIT &amp; VEGETABLES</td>\n",
       "      <td>ORGANIC CARROTS</td>\n",
       "      <td>1 LB</td>\n",
       "    </tr>\n",
       "  </tbody>\n",
       "</table>\n",
       "<p>5 rows × 23 columns</p>\n",
       "</div>"
      ],
      "text/plain": [
       "   HOUSEHOLD_KEY    BASKET_ID  DAY  PRODUCT_ID  QUANTITY  SALES_VALUE_x  \\\n",
       "0           2375  26984851472    1     1004906         1           1.39   \n",
       "1           2375  26984851472    1     1033142         1           0.82   \n",
       "2           2375  26984851472    1     1036325         1           0.99   \n",
       "3           2375  26984851472    1     1082185         1           1.21   \n",
       "4           2375  26984851472    1     8160430         1           1.50   \n",
       "\n",
       "   STORE_ID  RETAIL_DISC  TRANS_TIME  WEEK_NO  ...  SALES_VALUE_y  \\\n",
       "0       364        -0.60        1631        1  ...           5.91   \n",
       "1       364         0.00        1631        1  ...           5.91   \n",
       "2       364        -0.30        1631        1  ...           5.91   \n",
       "3       364         0.00        1631        1  ...           5.91   \n",
       "4       364        -0.39        1631        1  ...           5.91   \n",
       "\n",
       "   COUPON_DISC_y COUPON_MATCH_DISC_y  Use_coupon  MANUFACTURER  DEPARTMENT  \\\n",
       "0              0                   0       False            69     PRODUCE   \n",
       "1              0                   0       False             2     PRODUCE   \n",
       "2              0                   0       False            69     PRODUCE   \n",
       "3              0                   0       False             2     PRODUCE   \n",
       "4              0                   0       False            69     PRODUCE   \n",
       "\n",
       "      BRAND               COMMODITY_DESC          SUB_COMMODITY_DESC  \\\n",
       "0   Private                     POTATOES  POTATOES RUSSET (BULK&BAG)   \n",
       "1  National                       ONIONS     ONIONS SWEET (BULK&BAG)   \n",
       "2   Private      VEGETABLES - ALL OTHERS                      CELERY   \n",
       "3  National               TROPICAL FRUIT                     BANANAS   \n",
       "4   Private  ORGANICS FRUIT & VEGETABLES             ORGANIC CARROTS   \n",
       "\n",
       "  CURR_SIZE_OF_PRODUCT  \n",
       "0                 5 LB  \n",
       "1                40 LB  \n",
       "2                       \n",
       "3                40 LB  \n",
       "4                 1 LB  \n",
       "\n",
       "[5 rows x 23 columns]"
      ]
     },
     "execution_count": 115,
     "metadata": {},
     "output_type": "execute_result"
    }
   ],
   "source": [
    "trnx_desc.head()"
   ]
  },
  {
   "cell_type": "code",
   "execution_count": 116,
   "id": "a6bff625",
   "metadata": {},
   "outputs": [
    {
     "data": {
      "text/plain": [
       "Index(['HOUSEHOLD_KEY', 'BASKET_ID', 'DAY', 'PRODUCT_ID', 'QUANTITY',\n",
       "       'SALES_VALUE_x', 'STORE_ID', 'RETAIL_DISC', 'TRANS_TIME', 'WEEK_NO',\n",
       "       'COUPON_DISC_x', 'COUPON_MATCH_DISC_x', 'Date', 'SALES_VALUE_y',\n",
       "       'COUPON_DISC_y', 'COUPON_MATCH_DISC_y', 'Use_coupon', 'MANUFACTURER',\n",
       "       'DEPARTMENT', 'BRAND', 'COMMODITY_DESC', 'SUB_COMMODITY_DESC',\n",
       "       'CURR_SIZE_OF_PRODUCT'],\n",
       "      dtype='object')"
      ]
     },
     "execution_count": 116,
     "metadata": {},
     "output_type": "execute_result"
    }
   ],
   "source": [
    "trnx_desc.columns"
   ]
  },
  {
   "cell_type": "code",
   "execution_count": 117,
   "id": "ebb93db3",
   "metadata": {},
   "outputs": [],
   "source": [
    "trnx_desc.drop(['SALES_VALUE_y',\n",
    "       'COUPON_DISC_y', 'COUPON_MATCH_DISC_y'],axis=1,inplace=True)"
   ]
  },
  {
   "cell_type": "code",
   "execution_count": 118,
   "id": "2c9b7753",
   "metadata": {},
   "outputs": [
    {
     "data": {
      "text/plain": [
       "Index(['HOUSEHOLD_KEY', 'BASKET_ID', 'DAY', 'PRODUCT_ID', 'QUANTITY',\n",
       "       'SALES_VALUE_x', 'STORE_ID', 'RETAIL_DISC', 'TRANS_TIME', 'WEEK_NO',\n",
       "       'COUPON_DISC_x', 'COUPON_MATCH_DISC_x', 'Date', 'Use_coupon',\n",
       "       'MANUFACTURER', 'DEPARTMENT', 'BRAND', 'COMMODITY_DESC',\n",
       "       'SUB_COMMODITY_DESC', 'CURR_SIZE_OF_PRODUCT'],\n",
       "      dtype='object')"
      ]
     },
     "execution_count": 118,
     "metadata": {},
     "output_type": "execute_result"
    }
   ],
   "source": [
    "trnx_desc.columns"
   ]
  },
  {
   "cell_type": "code",
   "execution_count": 119,
   "id": "c3a7d6ae",
   "metadata": {},
   "outputs": [],
   "source": [
    "commodity_coupon = trnx_desc.groupby('COMMODITY_DESC').agg(total_quantity=('QUANTITY','count'),\n",
    "                                                          Use_coupon = ('Use_coupon','sum'),\n",
    "                                                          Coupon = ('COUPON_DISC_x','sum'))"
   ]
  },
  {
   "cell_type": "code",
   "execution_count": 120,
   "id": "8b7ebdc9",
   "metadata": {},
   "outputs": [],
   "source": [
    "commodity_coupon['Coupon%'] = round((commodity_coupon['Use_coupon'] / commodity_coupon['total_quantity'])*100,2)"
   ]
  },
  {
   "cell_type": "code",
   "execution_count": 121,
   "id": "3e6d907b",
   "metadata": {},
   "outputs": [
    {
     "data": {
      "text/html": [
       "<div>\n",
       "<style scoped>\n",
       "    .dataframe tbody tr th:only-of-type {\n",
       "        vertical-align: middle;\n",
       "    }\n",
       "\n",
       "    .dataframe tbody tr th {\n",
       "        vertical-align: top;\n",
       "    }\n",
       "\n",
       "    .dataframe thead th {\n",
       "        text-align: right;\n",
       "    }\n",
       "</style>\n",
       "<table border=\"1\" class=\"dataframe\">\n",
       "  <thead>\n",
       "    <tr style=\"text-align: right;\">\n",
       "      <th></th>\n",
       "      <th>total_quantity</th>\n",
       "      <th>Use_coupon</th>\n",
       "      <th>Coupon</th>\n",
       "      <th>Coupon%</th>\n",
       "    </tr>\n",
       "    <tr>\n",
       "      <th>COMMODITY_DESC</th>\n",
       "      <th></th>\n",
       "      <th></th>\n",
       "      <th></th>\n",
       "      <th></th>\n",
       "    </tr>\n",
       "  </thead>\n",
       "  <tbody>\n",
       "    <tr>\n",
       "      <th></th>\n",
       "      <td>7839</td>\n",
       "      <td>6019</td>\n",
       "      <td>-10596</td>\n",
       "      <td>76.78</td>\n",
       "    </tr>\n",
       "    <tr>\n",
       "      <th>BABY FOODS</th>\n",
       "      <td>20356</td>\n",
       "      <td>5648</td>\n",
       "      <td>-349</td>\n",
       "      <td>27.75</td>\n",
       "    </tr>\n",
       "    <tr>\n",
       "      <th>RESTRICTED DIET</th>\n",
       "      <td>51</td>\n",
       "      <td>13</td>\n",
       "      <td>0</td>\n",
       "      <td>25.49</td>\n",
       "    </tr>\n",
       "    <tr>\n",
       "      <th>DIAPERS &amp; DISPOSABLES</th>\n",
       "      <td>5008</td>\n",
       "      <td>1216</td>\n",
       "      <td>-1110</td>\n",
       "      <td>24.28</td>\n",
       "    </tr>\n",
       "    <tr>\n",
       "      <th>AIR CARE</th>\n",
       "      <td>5556</td>\n",
       "      <td>1320</td>\n",
       "      <td>-929</td>\n",
       "      <td>23.76</td>\n",
       "    </tr>\n",
       "    <tr>\n",
       "      <th>FRZN SEAFOOD</th>\n",
       "      <td>64</td>\n",
       "      <td>15</td>\n",
       "      <td>0</td>\n",
       "      <td>23.44</td>\n",
       "    </tr>\n",
       "    <tr>\n",
       "      <th>BULK FOODS</th>\n",
       "      <td>9</td>\n",
       "      <td>2</td>\n",
       "      <td>0</td>\n",
       "      <td>22.22</td>\n",
       "    </tr>\n",
       "    <tr>\n",
       "      <th>BABY HBC</th>\n",
       "      <td>4626</td>\n",
       "      <td>1020</td>\n",
       "      <td>-325</td>\n",
       "      <td>22.05</td>\n",
       "    </tr>\n",
       "    <tr>\n",
       "      <th>FRZN BREAKFAST FOODS</th>\n",
       "      <td>10595</td>\n",
       "      <td>2286</td>\n",
       "      <td>-421</td>\n",
       "      <td>21.58</td>\n",
       "    </tr>\n",
       "    <tr>\n",
       "      <th>SMOKING CESSATIONS</th>\n",
       "      <td>79</td>\n",
       "      <td>17</td>\n",
       "      <td>0</td>\n",
       "      <td>21.52</td>\n",
       "    </tr>\n",
       "  </tbody>\n",
       "</table>\n",
       "</div>"
      ],
      "text/plain": [
       "                       total_quantity  Use_coupon  Coupon  Coupon%\n",
       "COMMODITY_DESC                                                    \n",
       "                                 7839        6019  -10596    76.78\n",
       "BABY FOODS                      20356        5648    -349    27.75\n",
       "RESTRICTED DIET                    51          13       0    25.49\n",
       "DIAPERS & DISPOSABLES            5008        1216   -1110    24.28\n",
       "AIR CARE                         5556        1320    -929    23.76\n",
       "FRZN SEAFOOD                       64          15       0    23.44\n",
       "BULK FOODS                          9           2       0    22.22\n",
       "BABY HBC                         4626        1020    -325    22.05\n",
       "FRZN BREAKFAST FOODS            10595        2286    -421    21.58\n",
       "SMOKING CESSATIONS                 79          17       0    21.52"
      ]
     },
     "execution_count": 121,
     "metadata": {},
     "output_type": "execute_result"
    }
   ],
   "source": [
    "commodity_coupon.sort_values('Coupon%',ascending=False).head(10)"
   ]
  },
  {
   "cell_type": "code",
   "execution_count": 122,
   "id": "777ee7ba",
   "metadata": {},
   "outputs": [
    {
     "data": {
      "text/html": [
       "<div>\n",
       "<style scoped>\n",
       "    .dataframe tbody tr th:only-of-type {\n",
       "        vertical-align: middle;\n",
       "    }\n",
       "\n",
       "    .dataframe tbody tr th {\n",
       "        vertical-align: top;\n",
       "    }\n",
       "\n",
       "    .dataframe thead th {\n",
       "        text-align: right;\n",
       "    }\n",
       "</style>\n",
       "<table border=\"1\" class=\"dataframe\">\n",
       "  <thead>\n",
       "    <tr style=\"text-align: right;\">\n",
       "      <th></th>\n",
       "      <th>SALES_VALUE</th>\n",
       "      <th>RETAIL_DISC</th>\n",
       "      <th>COUPON_DISC</th>\n",
       "    </tr>\n",
       "    <tr>\n",
       "      <th>Date</th>\n",
       "      <th></th>\n",
       "      <th></th>\n",
       "      <th></th>\n",
       "    </tr>\n",
       "  </thead>\n",
       "  <tbody>\n",
       "    <tr>\n",
       "      <th>2020</th>\n",
       "      <td>3645902.74</td>\n",
       "      <td>-641463.08</td>\n",
       "      <td>-18856</td>\n",
       "    </tr>\n",
       "    <tr>\n",
       "      <th>2021</th>\n",
       "      <td>4411560.34</td>\n",
       "      <td>-756871.76</td>\n",
       "      <td>-27949</td>\n",
       "    </tr>\n",
       "  </tbody>\n",
       "</table>\n",
       "</div>"
      ],
      "text/plain": [
       "      SALES_VALUE  RETAIL_DISC  COUPON_DISC\n",
       "Date                                       \n",
       "2020   3645902.74   -641463.08       -18856\n",
       "2021   4411560.34   -756871.76       -27949"
      ]
     },
     "execution_count": 122,
     "metadata": {},
     "output_type": "execute_result"
    }
   ],
   "source": [
    "transaction_raw.groupby(transaction_raw['Date'].dt.year).agg({'SALES_VALUE':'sum' , 'RETAIL_DISC':'sum','COUPON_DISC':'sum'})"
   ]
  },
  {
   "cell_type": "markdown",
   "id": "13daaf71",
   "metadata": {},
   "source": [
    "# Droping columns"
   ]
  },
  {
   "cell_type": "code",
   "execution_count": 123,
   "id": "be8a9084",
   "metadata": {},
   "outputs": [
    {
     "data": {
      "text/plain": [
       "Index(['DESCRIPTION', 'CAMPAIGN', 'START_DAY', 'END_DAY', 'Start_date',\n",
       "       'End_date', 'Campaign_duration', 'Start_month', 'Start_year',\n",
       "       'End_month', 'End_year'],\n",
       "      dtype='object')"
      ]
     },
     "execution_count": 123,
     "metadata": {},
     "output_type": "execute_result"
    }
   ],
   "source": [
    "campaign_desc_raw.columns"
   ]
  },
  {
   "cell_type": "code",
   "execution_count": 124,
   "id": "fcf92a78",
   "metadata": {},
   "outputs": [],
   "source": [
    "campaign_desc_raw.drop(['START_DAY','END_DAY'],axis=1,inplace=True)"
   ]
  },
  {
   "cell_type": "code",
   "execution_count": 125,
   "id": "4f427936",
   "metadata": {},
   "outputs": [
    {
     "data": {
      "text/html": [
       "<div>\n",
       "<style scoped>\n",
       "    .dataframe tbody tr th:only-of-type {\n",
       "        vertical-align: middle;\n",
       "    }\n",
       "\n",
       "    .dataframe tbody tr th {\n",
       "        vertical-align: top;\n",
       "    }\n",
       "\n",
       "    .dataframe thead th {\n",
       "        text-align: right;\n",
       "    }\n",
       "</style>\n",
       "<table border=\"1\" class=\"dataframe\">\n",
       "  <thead>\n",
       "    <tr style=\"text-align: right;\">\n",
       "      <th></th>\n",
       "      <th>DESCRIPTION</th>\n",
       "      <th>CAMPAIGN</th>\n",
       "      <th>Start_date</th>\n",
       "      <th>End_date</th>\n",
       "      <th>Campaign_duration</th>\n",
       "      <th>Start_month</th>\n",
       "      <th>Start_year</th>\n",
       "      <th>End_month</th>\n",
       "      <th>End_year</th>\n",
       "    </tr>\n",
       "  </thead>\n",
       "  <tbody>\n",
       "    <tr>\n",
       "      <th>0</th>\n",
       "      <td>TypeB</td>\n",
       "      <td>24</td>\n",
       "      <td>2021-10-21</td>\n",
       "      <td>2021-12-20</td>\n",
       "      <td>60</td>\n",
       "      <td>10</td>\n",
       "      <td>2021</td>\n",
       "      <td>12</td>\n",
       "      <td>2021</td>\n",
       "    </tr>\n",
       "    <tr>\n",
       "      <th>1</th>\n",
       "      <td>TypeC</td>\n",
       "      <td>15</td>\n",
       "      <td>2021-07-01</td>\n",
       "      <td>2021-12-09</td>\n",
       "      <td>161</td>\n",
       "      <td>07</td>\n",
       "      <td>2021</td>\n",
       "      <td>12</td>\n",
       "      <td>2021</td>\n",
       "    </tr>\n",
       "    <tr>\n",
       "      <th>2</th>\n",
       "      <td>TypeB</td>\n",
       "      <td>25</td>\n",
       "      <td>2021-10-21</td>\n",
       "      <td>2021-11-22</td>\n",
       "      <td>32</td>\n",
       "      <td>10</td>\n",
       "      <td>2021</td>\n",
       "      <td>11</td>\n",
       "      <td>2021</td>\n",
       "    </tr>\n",
       "    <tr>\n",
       "      <th>3</th>\n",
       "      <td>TypeC</td>\n",
       "      <td>20</td>\n",
       "      <td>2021-09-07</td>\n",
       "      <td>2021-11-16</td>\n",
       "      <td>70</td>\n",
       "      <td>09</td>\n",
       "      <td>2021</td>\n",
       "      <td>11</td>\n",
       "      <td>2021</td>\n",
       "    </tr>\n",
       "    <tr>\n",
       "      <th>4</th>\n",
       "      <td>TypeB</td>\n",
       "      <td>23</td>\n",
       "      <td>2021-10-08</td>\n",
       "      <td>2021-11-15</td>\n",
       "      <td>38</td>\n",
       "      <td>10</td>\n",
       "      <td>2021</td>\n",
       "      <td>11</td>\n",
       "      <td>2021</td>\n",
       "    </tr>\n",
       "  </tbody>\n",
       "</table>\n",
       "</div>"
      ],
      "text/plain": [
       "  DESCRIPTION  CAMPAIGN Start_date   End_date  Campaign_duration Start_month  \\\n",
       "0       TypeB        24 2021-10-21 2021-12-20                 60          10   \n",
       "1       TypeC        15 2021-07-01 2021-12-09                161          07   \n",
       "2       TypeB        25 2021-10-21 2021-11-22                 32          10   \n",
       "3       TypeC        20 2021-09-07 2021-11-16                 70          09   \n",
       "4       TypeB        23 2021-10-08 2021-11-15                 38          10   \n",
       "\n",
       "   Start_year End_month  End_year  \n",
       "0        2021        12      2021  \n",
       "1        2021        12      2021  \n",
       "2        2021        11      2021  \n",
       "3        2021        11      2021  \n",
       "4        2021        11      2021  "
      ]
     },
     "execution_count": 125,
     "metadata": {},
     "output_type": "execute_result"
    }
   ],
   "source": [
    "campaign_desc_raw.head()"
   ]
  },
  {
   "cell_type": "code",
   "execution_count": 126,
   "id": "2396d78e",
   "metadata": {},
   "outputs": [],
   "source": [
    "campaign_desc_raw['Start_date'] = pd.to_datetime(campaign_desc_raw['Start_date']).apply(lambda x: x.date())"
   ]
  },
  {
   "cell_type": "code",
   "execution_count": 127,
   "id": "ac9b6bcc",
   "metadata": {},
   "outputs": [],
   "source": [
    "campaign_desc_raw['End_date'] = pd.to_datetime(campaign_desc_raw['End_date']).apply(lambda x: x.date())"
   ]
  },
  {
   "cell_type": "code",
   "execution_count": 128,
   "id": "bdf4299f",
   "metadata": {},
   "outputs": [
    {
     "data": {
      "text/plain": [
       "DESCRIPTION          object\n",
       "CAMPAIGN               int8\n",
       "Start_date           object\n",
       "End_date             object\n",
       "Campaign_duration     int16\n",
       "Start_month          object\n",
       "Start_year            int64\n",
       "End_month            object\n",
       "End_year              int64\n",
       "dtype: object"
      ]
     },
     "execution_count": 128,
     "metadata": {},
     "output_type": "execute_result"
    }
   ],
   "source": [
    "campaign_desc_raw.dtypes"
   ]
  },
  {
   "cell_type": "code",
   "execution_count": 129,
   "id": "00b13075",
   "metadata": {},
   "outputs": [],
   "source": [
    "coupon_redempt_raw.drop(['DAY'],axis=1,inplace=True)"
   ]
  },
  {
   "cell_type": "code",
   "execution_count": 130,
   "id": "4a587681",
   "metadata": {},
   "outputs": [
    {
     "data": {
      "text/html": [
       "<div>\n",
       "<style scoped>\n",
       "    .dataframe tbody tr th:only-of-type {\n",
       "        vertical-align: middle;\n",
       "    }\n",
       "\n",
       "    .dataframe tbody tr th {\n",
       "        vertical-align: top;\n",
       "    }\n",
       "\n",
       "    .dataframe thead th {\n",
       "        text-align: right;\n",
       "    }\n",
       "</style>\n",
       "<table border=\"1\" class=\"dataframe\">\n",
       "  <thead>\n",
       "    <tr style=\"text-align: right;\">\n",
       "      <th></th>\n",
       "      <th>HOUSEHOLD_KEY</th>\n",
       "      <th>COUPON_UPC</th>\n",
       "      <th>CAMPAIGN</th>\n",
       "      <th>Date</th>\n",
       "    </tr>\n",
       "  </thead>\n",
       "  <tbody>\n",
       "    <tr>\n",
       "      <th>0</th>\n",
       "      <td>1</td>\n",
       "      <td>10000085364</td>\n",
       "      <td>8</td>\n",
       "      <td>2021-02-25</td>\n",
       "    </tr>\n",
       "    <tr>\n",
       "      <th>1</th>\n",
       "      <td>1</td>\n",
       "      <td>51700010076</td>\n",
       "      <td>8</td>\n",
       "      <td>2021-02-25</td>\n",
       "    </tr>\n",
       "    <tr>\n",
       "      <th>2</th>\n",
       "      <td>1</td>\n",
       "      <td>54200000033</td>\n",
       "      <td>8</td>\n",
       "      <td>2021-03-03</td>\n",
       "    </tr>\n",
       "    <tr>\n",
       "      <th>3</th>\n",
       "      <td>1</td>\n",
       "      <td>10000085476</td>\n",
       "      <td>18</td>\n",
       "      <td>2021-08-20</td>\n",
       "    </tr>\n",
       "    <tr>\n",
       "      <th>4</th>\n",
       "      <td>1</td>\n",
       "      <td>54200029176</td>\n",
       "      <td>18</td>\n",
       "      <td>2021-08-20</td>\n",
       "    </tr>\n",
       "  </tbody>\n",
       "</table>\n",
       "</div>"
      ],
      "text/plain": [
       "   HOUSEHOLD_KEY   COUPON_UPC  CAMPAIGN       Date\n",
       "0              1  10000085364         8 2021-02-25\n",
       "1              1  51700010076         8 2021-02-25\n",
       "2              1  54200000033         8 2021-03-03\n",
       "3              1  10000085476        18 2021-08-20\n",
       "4              1  54200029176        18 2021-08-20"
      ]
     },
     "execution_count": 130,
     "metadata": {},
     "output_type": "execute_result"
    }
   ],
   "source": [
    "coupon_redempt_raw.head()"
   ]
  },
  {
   "cell_type": "code",
   "execution_count": 131,
   "id": "a932b8e6",
   "metadata": {},
   "outputs": [],
   "source": [
    "coupon_redempt_raw['Date'] = pd.to_datetime(coupon_redempt_raw['Date']).apply(lambda x: x.date())"
   ]
  },
  {
   "cell_type": "code",
   "execution_count": 132,
   "id": "fa5928a9",
   "metadata": {},
   "outputs": [
    {
     "data": {
      "text/plain": [
       "HOUSEHOLD_KEY     int16\n",
       "COUPON_UPC        int64\n",
       "CAMPAIGN           int8\n",
       "Date             object\n",
       "dtype: object"
      ]
     },
     "execution_count": 132,
     "metadata": {},
     "output_type": "execute_result"
    }
   ],
   "source": [
    "coupon_redempt_raw.dtypes"
   ]
  },
  {
   "cell_type": "code",
   "execution_count": 133,
   "id": "ee0f30f1",
   "metadata": {},
   "outputs": [
    {
     "data": {
      "text/plain": [
       "Index(['HOUSEHOLD_KEY', 'BASKET_ID', 'DAY', 'PRODUCT_ID', 'QUANTITY',\n",
       "       'SALES_VALUE', 'STORE_ID', 'RETAIL_DISC', 'TRANS_TIME', 'WEEK_NO',\n",
       "       'COUPON_DISC', 'COUPON_MATCH_DISC', 'Date'],\n",
       "      dtype='object')"
      ]
     },
     "execution_count": 133,
     "metadata": {},
     "output_type": "execute_result"
    }
   ],
   "source": [
    "transaction_raw.columns"
   ]
  },
  {
   "cell_type": "code",
   "execution_count": 134,
   "id": "bd683dd7",
   "metadata": {},
   "outputs": [],
   "source": [
    "transaction_raw.drop(['DAY','WEEK_NO'],axis=1,inplace=True)"
   ]
  },
  {
   "cell_type": "code",
   "execution_count": 135,
   "id": "134cbac4",
   "metadata": {},
   "outputs": [],
   "source": [
    "transaction_raw['Date'] = pd.to_datetime(transaction_raw['Date']).apply(lambda x: x.date())"
   ]
  },
  {
   "cell_type": "code",
   "execution_count": 136,
   "id": "2b3492db",
   "metadata": {},
   "outputs": [
    {
     "data": {
      "text/plain": [
       "HOUSEHOLD_KEY          int16\n",
       "BASKET_ID              int64\n",
       "PRODUCT_ID             int32\n",
       "QUANTITY               int32\n",
       "SALES_VALUE          float64\n",
       "STORE_ID               int32\n",
       "RETAIL_DISC          float64\n",
       "TRANS_TIME             int16\n",
       "COUPON_DISC             int8\n",
       "COUPON_MATCH_DISC       int8\n",
       "Date                  object\n",
       "dtype: object"
      ]
     },
     "execution_count": 136,
     "metadata": {},
     "output_type": "execute_result"
    }
   ],
   "source": [
    "transaction_raw.dtypes"
   ]
  },
  {
   "cell_type": "markdown",
   "id": "e7b4b3e4",
   "metadata": {},
   "source": [
    "# Now loading data into snowflake using sqlalchemy"
   ]
  },
  {
   "cell_type": "code",
   "execution_count": 137,
   "id": "8e565215",
   "metadata": {},
   "outputs": [],
   "source": [
    "from sqlalchemy import create_engine\n",
    "from sqlalchemy.engine import URL\n",
    "import snowflake.connector as snowCtx\n",
    "from snowflake.connector.pandas_tools import write_pandas\n",
    "import pandas as pd\n",
    "import getpass"
   ]
  },
  {
   "cell_type": "code",
   "execution_count": 138,
   "id": "3e708498",
   "metadata": {},
   "outputs": [],
   "source": [
    "conn = snowflake.connector.connect(\n",
    "        user = 'OMKAR27',\n",
    "        #password = getpass.getpass('YOUR PASSWORD : '),\n",
    "        password = 'Omkar27@Snowflake',\n",
    "        account = 'qvbuxsd-oj92506',\n",
    "        database = 'RETAILS',\n",
    "        schema = 'PUBLIC',\n",
    "        warehouse = 'COMPUTE_WH',\n",
    ")"
   ]
  },
  {
   "cell_type": "code",
   "execution_count": 139,
   "id": "4022b649",
   "metadata": {},
   "outputs": [],
   "source": [
    "cur = conn.cursor()"
   ]
  },
  {
   "cell_type": "code",
   "execution_count": 140,
   "id": "99441866",
   "metadata": {},
   "outputs": [
    {
     "data": {
      "text/html": [
       "<div>\n",
       "<style scoped>\n",
       "    .dataframe tbody tr th:only-of-type {\n",
       "        vertical-align: middle;\n",
       "    }\n",
       "\n",
       "    .dataframe tbody tr th {\n",
       "        vertical-align: top;\n",
       "    }\n",
       "\n",
       "    .dataframe thead th {\n",
       "        text-align: right;\n",
       "    }\n",
       "</style>\n",
       "<table border=\"1\" class=\"dataframe\">\n",
       "  <thead>\n",
       "    <tr style=\"text-align: right;\">\n",
       "      <th></th>\n",
       "      <th>DESCRIPTION</th>\n",
       "      <th>CAMPAIGN</th>\n",
       "      <th>Start_date</th>\n",
       "      <th>End_date</th>\n",
       "      <th>Campaign_duration</th>\n",
       "      <th>Start_month</th>\n",
       "      <th>Start_year</th>\n",
       "      <th>End_month</th>\n",
       "      <th>End_year</th>\n",
       "    </tr>\n",
       "  </thead>\n",
       "  <tbody>\n",
       "    <tr>\n",
       "      <th>0</th>\n",
       "      <td>TypeB</td>\n",
       "      <td>24</td>\n",
       "      <td>2021-10-21</td>\n",
       "      <td>2021-12-20</td>\n",
       "      <td>60</td>\n",
       "      <td>10</td>\n",
       "      <td>2021</td>\n",
       "      <td>12</td>\n",
       "      <td>2021</td>\n",
       "    </tr>\n",
       "    <tr>\n",
       "      <th>1</th>\n",
       "      <td>TypeC</td>\n",
       "      <td>15</td>\n",
       "      <td>2021-07-01</td>\n",
       "      <td>2021-12-09</td>\n",
       "      <td>161</td>\n",
       "      <td>07</td>\n",
       "      <td>2021</td>\n",
       "      <td>12</td>\n",
       "      <td>2021</td>\n",
       "    </tr>\n",
       "    <tr>\n",
       "      <th>2</th>\n",
       "      <td>TypeB</td>\n",
       "      <td>25</td>\n",
       "      <td>2021-10-21</td>\n",
       "      <td>2021-11-22</td>\n",
       "      <td>32</td>\n",
       "      <td>10</td>\n",
       "      <td>2021</td>\n",
       "      <td>11</td>\n",
       "      <td>2021</td>\n",
       "    </tr>\n",
       "    <tr>\n",
       "      <th>3</th>\n",
       "      <td>TypeC</td>\n",
       "      <td>20</td>\n",
       "      <td>2021-09-07</td>\n",
       "      <td>2021-11-16</td>\n",
       "      <td>70</td>\n",
       "      <td>09</td>\n",
       "      <td>2021</td>\n",
       "      <td>11</td>\n",
       "      <td>2021</td>\n",
       "    </tr>\n",
       "    <tr>\n",
       "      <th>4</th>\n",
       "      <td>TypeB</td>\n",
       "      <td>23</td>\n",
       "      <td>2021-10-08</td>\n",
       "      <td>2021-11-15</td>\n",
       "      <td>38</td>\n",
       "      <td>10</td>\n",
       "      <td>2021</td>\n",
       "      <td>11</td>\n",
       "      <td>2021</td>\n",
       "    </tr>\n",
       "  </tbody>\n",
       "</table>\n",
       "</div>"
      ],
      "text/plain": [
       "  DESCRIPTION  CAMPAIGN  Start_date    End_date  Campaign_duration  \\\n",
       "0       TypeB        24  2021-10-21  2021-12-20                 60   \n",
       "1       TypeC        15  2021-07-01  2021-12-09                161   \n",
       "2       TypeB        25  2021-10-21  2021-11-22                 32   \n",
       "3       TypeC        20  2021-09-07  2021-11-16                 70   \n",
       "4       TypeB        23  2021-10-08  2021-11-15                 38   \n",
       "\n",
       "  Start_month  Start_year End_month  End_year  \n",
       "0          10        2021        12      2021  \n",
       "1          07        2021        12      2021  \n",
       "2          10        2021        11      2021  \n",
       "3          09        2021        11      2021  \n",
       "4          10        2021        11      2021  "
      ]
     },
     "execution_count": 140,
     "metadata": {},
     "output_type": "execute_result"
    }
   ],
   "source": [
    "campaign_desc_raw.head()"
   ]
  },
  {
   "cell_type": "code",
   "execution_count": 141,
   "id": "df490a31",
   "metadata": {},
   "outputs": [
    {
     "data": {
      "text/plain": [
       "<snowflake.connector.cursor.SnowflakeCursor at 0x2202edef6d0>"
      ]
     },
     "execution_count": 141,
     "metadata": {},
     "output_type": "execute_result"
    }
   ],
   "source": [
    "cur.execute('''\n",
    "CREATE OR REPLACE TABLE CAMPAIGN_DESC_NEW\n",
    "( DESCRIPTION VARCHAR(10),\n",
    "CAMPAIGN NUMBER(38,0),\n",
    "Start_date date,\n",
    "End_date date,\n",
    "Campaign_duration NUMBER(38,0),\n",
    "Start_month VARCHAR(10),\n",
    "Start_year INT,\n",
    "End_month VARCHAR(10),\n",
    "End_year INT\n",
    ")\n",
    "''')"
   ]
  },
  {
   "cell_type": "code",
   "execution_count": 142,
   "id": "34ff9a07",
   "metadata": {},
   "outputs": [
    {
     "name": "stdout",
     "output_type": "stream",
     "text": [
      "True,1,30\n"
     ]
    }
   ],
   "source": [
    "success,nchunks,nrows , _ = write_pandas(conn,campaign_desc_raw,'CAMPAIGN_DESC_NEW',quote_identifiers=False)\n",
    "print(str(success) + ',' + str(nchunks) + ',' + str(nrows))"
   ]
  },
  {
   "cell_type": "code",
   "execution_count": 143,
   "id": "ca0704be",
   "metadata": {},
   "outputs": [
    {
     "data": {
      "text/html": [
       "<div>\n",
       "<style scoped>\n",
       "    .dataframe tbody tr th:only-of-type {\n",
       "        vertical-align: middle;\n",
       "    }\n",
       "\n",
       "    .dataframe tbody tr th {\n",
       "        vertical-align: top;\n",
       "    }\n",
       "\n",
       "    .dataframe thead th {\n",
       "        text-align: right;\n",
       "    }\n",
       "</style>\n",
       "<table border=\"1\" class=\"dataframe\">\n",
       "  <thead>\n",
       "    <tr style=\"text-align: right;\">\n",
       "      <th></th>\n",
       "      <th>HOUSEHOLD_KEY</th>\n",
       "      <th>COUPON_UPC</th>\n",
       "      <th>CAMPAIGN</th>\n",
       "      <th>Date</th>\n",
       "    </tr>\n",
       "  </thead>\n",
       "  <tbody>\n",
       "    <tr>\n",
       "      <th>0</th>\n",
       "      <td>1</td>\n",
       "      <td>10000085364</td>\n",
       "      <td>8</td>\n",
       "      <td>2021-02-25</td>\n",
       "    </tr>\n",
       "    <tr>\n",
       "      <th>1</th>\n",
       "      <td>1</td>\n",
       "      <td>51700010076</td>\n",
       "      <td>8</td>\n",
       "      <td>2021-02-25</td>\n",
       "    </tr>\n",
       "    <tr>\n",
       "      <th>2</th>\n",
       "      <td>1</td>\n",
       "      <td>54200000033</td>\n",
       "      <td>8</td>\n",
       "      <td>2021-03-03</td>\n",
       "    </tr>\n",
       "    <tr>\n",
       "      <th>3</th>\n",
       "      <td>1</td>\n",
       "      <td>10000085476</td>\n",
       "      <td>18</td>\n",
       "      <td>2021-08-20</td>\n",
       "    </tr>\n",
       "    <tr>\n",
       "      <th>4</th>\n",
       "      <td>1</td>\n",
       "      <td>54200029176</td>\n",
       "      <td>18</td>\n",
       "      <td>2021-08-20</td>\n",
       "    </tr>\n",
       "  </tbody>\n",
       "</table>\n",
       "</div>"
      ],
      "text/plain": [
       "   HOUSEHOLD_KEY   COUPON_UPC  CAMPAIGN        Date\n",
       "0              1  10000085364         8  2021-02-25\n",
       "1              1  51700010076         8  2021-02-25\n",
       "2              1  54200000033         8  2021-03-03\n",
       "3              1  10000085476        18  2021-08-20\n",
       "4              1  54200029176        18  2021-08-20"
      ]
     },
     "execution_count": 143,
     "metadata": {},
     "output_type": "execute_result"
    }
   ],
   "source": [
    "coupon_redempt_raw.head()"
   ]
  },
  {
   "cell_type": "code",
   "execution_count": 144,
   "id": "fb34c664",
   "metadata": {},
   "outputs": [
    {
     "data": {
      "text/plain": [
       "<snowflake.connector.cursor.SnowflakeCursor at 0x2202edef6d0>"
      ]
     },
     "execution_count": 144,
     "metadata": {},
     "output_type": "execute_result"
    }
   ],
   "source": [
    "cur.execute('''\n",
    "CREATE OR REPLACE TABLE COUPON_REDEMPT_NEW\n",
    "( HOUSEHOLD_KEY NUMBER(38,0),\n",
    "COUPON_UPC NUMBER(38,0),\n",
    "CAMPAIGN NUMBER(38,0),\n",
    "Date Date\n",
    ")\n",
    "''')"
   ]
  },
  {
   "cell_type": "code",
   "execution_count": 145,
   "id": "4e173ae0",
   "metadata": {},
   "outputs": [
    {
     "name": "stdout",
     "output_type": "stream",
     "text": [
      "True,1,2318\n"
     ]
    }
   ],
   "source": [
    "success,nchunks,nrows , _ = write_pandas(conn,coupon_redempt_raw,'COUPON_REDEMPT_NEW',quote_identifiers=False)\n",
    "print(str(success) + ',' + str(nchunks) + ',' + str(nrows))"
   ]
  },
  {
   "cell_type": "code",
   "execution_count": 146,
   "id": "e3ff90db",
   "metadata": {},
   "outputs": [
    {
     "data": {
      "text/html": [
       "<div>\n",
       "<style scoped>\n",
       "    .dataframe tbody tr th:only-of-type {\n",
       "        vertical-align: middle;\n",
       "    }\n",
       "\n",
       "    .dataframe tbody tr th {\n",
       "        vertical-align: top;\n",
       "    }\n",
       "\n",
       "    .dataframe thead th {\n",
       "        text-align: right;\n",
       "    }\n",
       "</style>\n",
       "<table border=\"1\" class=\"dataframe\">\n",
       "  <thead>\n",
       "    <tr style=\"text-align: right;\">\n",
       "      <th></th>\n",
       "      <th>HOUSEHOLD_KEY</th>\n",
       "      <th>BASKET_ID</th>\n",
       "      <th>PRODUCT_ID</th>\n",
       "      <th>QUANTITY</th>\n",
       "      <th>SALES_VALUE</th>\n",
       "      <th>STORE_ID</th>\n",
       "      <th>RETAIL_DISC</th>\n",
       "      <th>TRANS_TIME</th>\n",
       "      <th>COUPON_DISC</th>\n",
       "      <th>COUPON_MATCH_DISC</th>\n",
       "      <th>Date</th>\n",
       "    </tr>\n",
       "  </thead>\n",
       "  <tbody>\n",
       "    <tr>\n",
       "      <th>0</th>\n",
       "      <td>2375</td>\n",
       "      <td>26984851472</td>\n",
       "      <td>1004906</td>\n",
       "      <td>1</td>\n",
       "      <td>1.39</td>\n",
       "      <td>364</td>\n",
       "      <td>-0.60</td>\n",
       "      <td>1631</td>\n",
       "      <td>0</td>\n",
       "      <td>0</td>\n",
       "      <td>2020-01-02</td>\n",
       "    </tr>\n",
       "    <tr>\n",
       "      <th>1</th>\n",
       "      <td>2375</td>\n",
       "      <td>26984851472</td>\n",
       "      <td>1033142</td>\n",
       "      <td>1</td>\n",
       "      <td>0.82</td>\n",
       "      <td>364</td>\n",
       "      <td>0.00</td>\n",
       "      <td>1631</td>\n",
       "      <td>0</td>\n",
       "      <td>0</td>\n",
       "      <td>2020-01-02</td>\n",
       "    </tr>\n",
       "    <tr>\n",
       "      <th>2</th>\n",
       "      <td>2375</td>\n",
       "      <td>26984851472</td>\n",
       "      <td>1036325</td>\n",
       "      <td>1</td>\n",
       "      <td>0.99</td>\n",
       "      <td>364</td>\n",
       "      <td>-0.30</td>\n",
       "      <td>1631</td>\n",
       "      <td>0</td>\n",
       "      <td>0</td>\n",
       "      <td>2020-01-02</td>\n",
       "    </tr>\n",
       "    <tr>\n",
       "      <th>3</th>\n",
       "      <td>2375</td>\n",
       "      <td>26984851472</td>\n",
       "      <td>1082185</td>\n",
       "      <td>1</td>\n",
       "      <td>1.21</td>\n",
       "      <td>364</td>\n",
       "      <td>0.00</td>\n",
       "      <td>1631</td>\n",
       "      <td>0</td>\n",
       "      <td>0</td>\n",
       "      <td>2020-01-02</td>\n",
       "    </tr>\n",
       "    <tr>\n",
       "      <th>4</th>\n",
       "      <td>2375</td>\n",
       "      <td>26984851472</td>\n",
       "      <td>8160430</td>\n",
       "      <td>1</td>\n",
       "      <td>1.50</td>\n",
       "      <td>364</td>\n",
       "      <td>-0.39</td>\n",
       "      <td>1631</td>\n",
       "      <td>0</td>\n",
       "      <td>0</td>\n",
       "      <td>2020-01-02</td>\n",
       "    </tr>\n",
       "  </tbody>\n",
       "</table>\n",
       "</div>"
      ],
      "text/plain": [
       "   HOUSEHOLD_KEY    BASKET_ID  PRODUCT_ID  QUANTITY  SALES_VALUE  STORE_ID  \\\n",
       "0           2375  26984851472     1004906         1         1.39       364   \n",
       "1           2375  26984851472     1033142         1         0.82       364   \n",
       "2           2375  26984851472     1036325         1         0.99       364   \n",
       "3           2375  26984851472     1082185         1         1.21       364   \n",
       "4           2375  26984851472     8160430         1         1.50       364   \n",
       "\n",
       "   RETAIL_DISC  TRANS_TIME  COUPON_DISC  COUPON_MATCH_DISC        Date  \n",
       "0        -0.60        1631            0                  0  2020-01-02  \n",
       "1         0.00        1631            0                  0  2020-01-02  \n",
       "2        -0.30        1631            0                  0  2020-01-02  \n",
       "3         0.00        1631            0                  0  2020-01-02  \n",
       "4        -0.39        1631            0                  0  2020-01-02  "
      ]
     },
     "execution_count": 146,
     "metadata": {},
     "output_type": "execute_result"
    }
   ],
   "source": [
    "transaction_raw.head()"
   ]
  },
  {
   "cell_type": "code",
   "execution_count": 147,
   "id": "367581b8",
   "metadata": {},
   "outputs": [
    {
     "data": {
      "text/plain": [
       "<snowflake.connector.cursor.SnowflakeCursor at 0x2202edef6d0>"
      ]
     },
     "execution_count": 147,
     "metadata": {},
     "output_type": "execute_result"
    }
   ],
   "source": [
    "cur.execute('''\n",
    "CREATE OR REPLACE TABLE TRANSACTION_NEW\n",
    "( HOUSEHOLD_KEY NUMBER(38,0),\n",
    "BASKET_ID NUMBER(38,0),\n",
    "PRODUCT_ID NUMBER(38,0),\n",
    "QUANTITY NUMBER(38,0),\n",
    "SALES_VALUE FLOAT,\n",
    "STORE_ID NUMBER(38,0),\n",
    "RETAIL_DISC FLOAT,\n",
    "TRANS_TIME NUMBER(38,0),\n",
    "COUPON_DISC FLOAT,\n",
    "COUPON_MATCH_DISC FLOAT,\n",
    "Date Date\n",
    ")\n",
    "''')"
   ]
  },
  {
   "cell_type": "code",
   "execution_count": 148,
   "id": "3b7b80c0",
   "metadata": {},
   "outputs": [
    {
     "name": "stdout",
     "output_type": "stream",
     "text": [
      "True,1,2595732\n"
     ]
    }
   ],
   "source": [
    "success,nchunks,nrows , _ = write_pandas(conn,transaction_raw,'TRANSACTION_NEW',quote_identifiers=False)\n",
    "print(str(success) + ',' + str(nchunks) + ',' + str(nrows))"
   ]
  },
  {
   "cell_type": "code",
   "execution_count": 149,
   "id": "069f30fe",
   "metadata": {},
   "outputs": [],
   "source": [
    "cur.close()\n",
    "conn.close()"
   ]
  },
  {
   "cell_type": "code",
   "execution_count": null,
   "id": "58fe5e4c",
   "metadata": {},
   "outputs": [],
   "source": []
  }
 ],
 "metadata": {
  "kernelspec": {
   "display_name": "Python 3 (ipykernel)",
   "language": "python",
   "name": "python3"
  },
  "language_info": {
   "codemirror_mode": {
    "name": "ipython",
    "version": 3
   },
   "file_extension": ".py",
   "mimetype": "text/x-python",
   "name": "python",
   "nbconvert_exporter": "python",
   "pygments_lexer": "ipython3",
   "version": "3.9.16"
  }
 },
 "nbformat": 4,
 "nbformat_minor": 5
}
